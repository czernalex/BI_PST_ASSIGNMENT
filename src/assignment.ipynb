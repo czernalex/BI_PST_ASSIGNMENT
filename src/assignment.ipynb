{
 "cells": [
  {
   "cell_type": "markdown",
   "source": "![FIT_CTU_LOGO](https://fit.cvut.cz/media-a-pr/corporate-identity/logo-fit-en-cerna.svg)\n# FIT ČVUT v Praze, [BI-PST](https://courses.fit.cvut.cz/BI-PST), ZS 2021/2022\n## Domácí úloha - Daniel Bukač, Alexandr Czerný\n## Data a parametry\nZe své trojice vyberte reprezentanta. Úlohu odevzdejte cvičícímu, ke kterému reprezentant přísluší podle původního přiřazení paralelek v Kosu. Parametry úlohy spočtěte následovně:\n\n- K = den narození reprezentanta skupiny (1-31),\n- L = počet písmen v příjmení reprezentanta,\n- M = ((K+L)*47)mod(11)+1.\n\nNačtěte datový soubor z R knihovny Sleuth2 podle následující tabulky:\n\n|M|Datový soubor|Popis|\n|:-:|:-------------:|:-----|\n|1|case0101|skóre v kreativitě dle typu motivace|\n|2|case0102|mzda dle pohlaví|\n|3|case0201|délka humeru dle přežití vrabců|\n|4|case0202|objem hipokampu dle schizofrenie|\n|5|case0301|srážky dle ošetření mraků|\n|6|case0302|koncentrace dioxinu dle vojenského působiště|\n|7|case0402|doba řešení úkolu dle typu výuky geometrie|\n|8|ex0112|krevní tlak dle diety|\n|9|ex0211|přežití morčat dle typu experimentu|\n|10|ex0221|váha dle přežití vrabců|\n|11|ex0222|hladina cholesterolu dle prostředí|\n\n## Úkoly\n\n1. **(1b)** Načtěte datový soubor a rozdělte sledovanou proměnnou na příslušné dvě pozorované skupiny. Stručně popište data a zkoumaný problém. Pro každu skupinu zvlášť odhadněte střední hodnotu, rozptyl a medián příslušného rozdělení.\n2. **(1b)** Pro každou skupinu zvlášť odhadněte hustotu a distribuční funkci pomocí histogramu a empirické distribuční funkce.\n3. **(3b)** Pro každou skupinu zvlášť najděte nejbližší rozdělení: Odhadněte parametry normálního, exponenciálního a rovnoměrného rozdělení. Zaneste příslušné hustoty s odhadnutými parametry do grafů histogramu. Diskutujte, které z rozdělení odpovídá pozorovaným datům nejlépe.\n4. **(1b)** Pro každou skupinu zvlášť vygenerujte náhodný výběr o 100 hodnotách z rozdělení, které jste zvolili jako nejbližší, s parametry odhadnutými v předchozím bodě. Porovnejte histogram simulovaných hodnot s pozorovanými daty.\n5. **(1b)** Pro každou skupinu zvlášť spočítejte oboustranný 95% konfidenční interval pro střední hodnotu.\n6. **(1b)** Pro každou skupinu zvlášť otestujte na hladině významnosti 5 % hypotézu, zda je střední hodnota rovná hodnotě K (parametr úlohy), proti oboustranné alternativě. Můžete použít buď výsledek z předešlého bodu, nebo výstup z příslušné vestavěné funkce vašeho softwaru.\n7. **(2b)** Na hladině významnosti 5 % otestujte, jestli mají pozorované skupiny stejnou střední hodnotu. Typ testu a alternativy stanovte tak, aby vaše volba nejlépe korespondovala s povahou zkoumaného problému.",
   "metadata": {
    "cell_id": "00000-17d9ab40-0233-4a55-9f56-8f9f3686c59e",
    "deepnote_cell_type": "markdown"
   }
  },
  {
   "cell_type": "markdown",
   "source": "### Retrieve dataset from R library",
   "metadata": {
    "tags": [],
    "cell_id": "00001-ad10fbb8-1dae-4879-b7de-ae7e0386ac3f",
    "deepnote_cell_type": "markdown"
   }
  },
  {
   "cell_type": "code",
   "metadata": {
    "cell_id": "00002-13257a54-43d8-4eb7-afa9-f8cddc17ed9d",
    "deepnote_to_be_reexecuted": false,
    "source_hash": "479d7c32",
    "execution_start": 1638742751888,
    "execution_millis": 1505,
    "deepnote_cell_type": "code"
   },
   "source": "### import required libraries\n\nimport math\nimport pandas as pd\nimport numpy as np\nimport seaborn as sb\nimport matplotlib.pyplot as plt\n\nfrom scipy.stats import norm, expon, uniform, ttest_1samp, t as students_t_distr",
   "outputs": [],
   "execution_count": null
  },
  {
   "cell_type": "markdown",
   "source": "Podle následujícího výpočtu jsme zvolili datovou sadu **case0302**:",
   "metadata": {
    "cell_id": "00003-2d98a674-f5e6-46b9-9dbd-b077f7218372",
    "deepnote_cell_type": "markdown"
   }
  },
  {
   "cell_type": "code",
   "metadata": {
    "cell_id": "00004-0960a6e8-5167-400b-9256-1fcbc2e58e94",
    "deepnote_to_be_reexecuted": false,
    "source_hash": "eef2f5a5",
    "deepnote_output_heights": [
     21.1875
    ],
    "execution_start": 1638742753406,
    "execution_millis": 3,
    "deepnote_cell_type": "code"
   },
   "source": "K = 15\nL = len(\"Bukac\")\nM = ((K + L) * 47) % (11) + 1\ndisplay(6)",
   "outputs": [
    {
     "data": {
      "text/plain": "6"
     },
     "metadata": {},
     "output_type": "display_data"
    }
   ],
   "execution_count": null
  },
  {
   "cell_type": "markdown",
   "source": "### Úkol 1 - Načtení a rozdělení datové sady, popis zkoumaných dat, odhad střední hodnoty, rozpylu a mediánu příslušného rozdělení\n\n**FIXME:** Discuss dataset and data structure",
   "metadata": {
    "cell_id": "00005-1d3dbef5-343f-4b4d-ad06-b7bc9e9a9e5b",
    "deepnote_cell_type": "markdown"
   }
  },
  {
   "cell_type": "code",
   "metadata": {
    "cell_id": "00006-a39e6c1a-e646-4d3e-9eba-2935eb7c3b47",
    "deepnote_to_be_reexecuted": false,
    "source_hash": "c4c554bd",
    "deepnote_output_heights": [
     382.1875
    ],
    "execution_start": 1638742753417,
    "execution_millis": 67,
    "deepnote_cell_type": "code"
   },
   "source": "### load and split dataset\n\ndata = pd.read_csv(\"./data.csv\")\ndata_vietnam = data[data.Veteran == \"Vietnam\"]\ndata_other = data[~(data.Veteran == \"Vietnam\")]\n\n### preview data\ndisplay(data)",
   "outputs": [
    {
     "data": {
      "application/vnd.deepnote.dataframe.v2+json": {
       "row_count": 743,
       "column_count": 2,
       "columns": [
        {
         "name": "Dioxin",
         "dtype": "int64",
         "stats": {
          "unique_count": 18,
          "nan_count": 0,
          "min": "0",
          "max": "45",
          "histogram": [
           {
            "bin_start": 0,
            "bin_end": 4.5,
            "count": 473
           },
           {
            "bin_start": 4.5,
            "bin_end": 9,
            "count": 246
           },
           {
            "bin_start": 9,
            "bin_end": 13.5,
            "count": 19
           },
           {
            "bin_start": 13.5,
            "bin_end": 18,
            "count": 3
           },
           {
            "bin_start": 18,
            "bin_end": 22.5,
            "count": 0
           },
           {
            "bin_start": 22.5,
            "bin_end": 27,
            "count": 1
           },
           {
            "bin_start": 27,
            "bin_end": 31.5,
            "count": 0
           },
           {
            "bin_start": 31.5,
            "bin_end": 36,
            "count": 0
           },
           {
            "bin_start": 36,
            "bin_end": 40.5,
            "count": 0
           },
           {
            "bin_start": 40.5,
            "bin_end": 45,
            "count": 1
           }
          ]
         }
        },
        {
         "name": "Veteran",
         "dtype": "object",
         "stats": {
          "unique_count": 2,
          "nan_count": 0,
          "categories": [
           {
            "name": "Vietnam",
            "count": 646
           },
           {
            "name": "Other",
            "count": 97
           }
          ]
         }
        },
        {
         "name": "_deepnote_index_column",
         "dtype": "int64"
        }
       ],
       "rows_top": [
        {
         "Dioxin": 0,
         "Veteran": "Vietnam",
         "_deepnote_index_column": 0
        },
        {
         "Dioxin": 0,
         "Veteran": "Vietnam",
         "_deepnote_index_column": 1
        },
        {
         "Dioxin": 0,
         "Veteran": "Vietnam",
         "_deepnote_index_column": 2
        },
        {
         "Dioxin": 0,
         "Veteran": "Vietnam",
         "_deepnote_index_column": 3
        },
        {
         "Dioxin": 0,
         "Veteran": "Vietnam",
         "_deepnote_index_column": 4
        },
        {
         "Dioxin": 1,
         "Veteran": "Vietnam",
         "_deepnote_index_column": 5
        },
        {
         "Dioxin": 1,
         "Veteran": "Vietnam",
         "_deepnote_index_column": 6
        },
        {
         "Dioxin": 1,
         "Veteran": "Vietnam",
         "_deepnote_index_column": 7
        },
        {
         "Dioxin": 1,
         "Veteran": "Vietnam",
         "_deepnote_index_column": 8
        },
        {
         "Dioxin": 1,
         "Veteran": "Vietnam",
         "_deepnote_index_column": 9
        },
        {
         "Dioxin": 1,
         "Veteran": "Vietnam",
         "_deepnote_index_column": 10
        },
        {
         "Dioxin": 2,
         "Veteran": "Vietnam",
         "_deepnote_index_column": 11
        },
        {
         "Dioxin": 2,
         "Veteran": "Vietnam",
         "_deepnote_index_column": 12
        },
        {
         "Dioxin": 2,
         "Veteran": "Vietnam",
         "_deepnote_index_column": 13
        },
        {
         "Dioxin": 2,
         "Veteran": "Vietnam",
         "_deepnote_index_column": 14
        },
        {
         "Dioxin": 2,
         "Veteran": "Vietnam",
         "_deepnote_index_column": 15
        },
        {
         "Dioxin": 2,
         "Veteran": "Vietnam",
         "_deepnote_index_column": 16
        },
        {
         "Dioxin": 2,
         "Veteran": "Vietnam",
         "_deepnote_index_column": 17
        },
        {
         "Dioxin": 2,
         "Veteran": "Vietnam",
         "_deepnote_index_column": 18
        },
        {
         "Dioxin": 2,
         "Veteran": "Vietnam",
         "_deepnote_index_column": 19
        },
        {
         "Dioxin": 2,
         "Veteran": "Vietnam",
         "_deepnote_index_column": 20
        },
        {
         "Dioxin": 2,
         "Veteran": "Vietnam",
         "_deepnote_index_column": 21
        },
        {
         "Dioxin": 2,
         "Veteran": "Vietnam",
         "_deepnote_index_column": 22
        },
        {
         "Dioxin": 2,
         "Veteran": "Vietnam",
         "_deepnote_index_column": 23
        },
        {
         "Dioxin": 2,
         "Veteran": "Vietnam",
         "_deepnote_index_column": 24
        },
        {
         "Dioxin": 2,
         "Veteran": "Vietnam",
         "_deepnote_index_column": 25
        },
        {
         "Dioxin": 2,
         "Veteran": "Vietnam",
         "_deepnote_index_column": 26
        },
        {
         "Dioxin": 2,
         "Veteran": "Vietnam",
         "_deepnote_index_column": 27
        },
        {
         "Dioxin": 2,
         "Veteran": "Vietnam",
         "_deepnote_index_column": 28
        },
        {
         "Dioxin": 2,
         "Veteran": "Vietnam",
         "_deepnote_index_column": 29
        },
        {
         "Dioxin": 2,
         "Veteran": "Vietnam",
         "_deepnote_index_column": 30
        },
        {
         "Dioxin": 2,
         "Veteran": "Vietnam",
         "_deepnote_index_column": 31
        },
        {
         "Dioxin": 2,
         "Veteran": "Vietnam",
         "_deepnote_index_column": 32
        },
        {
         "Dioxin": 2,
         "Veteran": "Vietnam",
         "_deepnote_index_column": 33
        },
        {
         "Dioxin": 2,
         "Veteran": "Vietnam",
         "_deepnote_index_column": 34
        },
        {
         "Dioxin": 2,
         "Veteran": "Vietnam",
         "_deepnote_index_column": 35
        },
        {
         "Dioxin": 2,
         "Veteran": "Vietnam",
         "_deepnote_index_column": 36
        },
        {
         "Dioxin": 2,
         "Veteran": "Vietnam",
         "_deepnote_index_column": 37
        },
        {
         "Dioxin": 2,
         "Veteran": "Vietnam",
         "_deepnote_index_column": 38
        },
        {
         "Dioxin": 2,
         "Veteran": "Vietnam",
         "_deepnote_index_column": 39
        },
        {
         "Dioxin": 2,
         "Veteran": "Vietnam",
         "_deepnote_index_column": 40
        },
        {
         "Dioxin": 2,
         "Veteran": "Vietnam",
         "_deepnote_index_column": 41
        },
        {
         "Dioxin": 2,
         "Veteran": "Vietnam",
         "_deepnote_index_column": 42
        },
        {
         "Dioxin": 2,
         "Veteran": "Vietnam",
         "_deepnote_index_column": 43
        },
        {
         "Dioxin": 2,
         "Veteran": "Vietnam",
         "_deepnote_index_column": 44
        },
        {
         "Dioxin": 2,
         "Veteran": "Vietnam",
         "_deepnote_index_column": 45
        },
        {
         "Dioxin": 2,
         "Veteran": "Vietnam",
         "_deepnote_index_column": 46
        },
        {
         "Dioxin": 2,
         "Veteran": "Vietnam",
         "_deepnote_index_column": 47
        },
        {
         "Dioxin": 2,
         "Veteran": "Vietnam",
         "_deepnote_index_column": 48
        },
        {
         "Dioxin": 2,
         "Veteran": "Vietnam",
         "_deepnote_index_column": 49
        },
        {
         "Dioxin": 2,
         "Veteran": "Vietnam",
         "_deepnote_index_column": 50
        },
        {
         "Dioxin": 2,
         "Veteran": "Vietnam",
         "_deepnote_index_column": 51
        },
        {
         "Dioxin": 2,
         "Veteran": "Vietnam",
         "_deepnote_index_column": 52
        },
        {
         "Dioxin": 2,
         "Veteran": "Vietnam",
         "_deepnote_index_column": 53
        },
        {
         "Dioxin": 2,
         "Veteran": "Vietnam",
         "_deepnote_index_column": 54
        },
        {
         "Dioxin": 2,
         "Veteran": "Vietnam",
         "_deepnote_index_column": 55
        },
        {
         "Dioxin": 2,
         "Veteran": "Vietnam",
         "_deepnote_index_column": 56
        },
        {
         "Dioxin": 2,
         "Veteran": "Vietnam",
         "_deepnote_index_column": 57
        },
        {
         "Dioxin": 2,
         "Veteran": "Vietnam",
         "_deepnote_index_column": 58
        },
        {
         "Dioxin": 2,
         "Veteran": "Vietnam",
         "_deepnote_index_column": 59
        },
        {
         "Dioxin": 2,
         "Veteran": "Vietnam",
         "_deepnote_index_column": 60
        },
        {
         "Dioxin": 2,
         "Veteran": "Vietnam",
         "_deepnote_index_column": 61
        },
        {
         "Dioxin": 2,
         "Veteran": "Vietnam",
         "_deepnote_index_column": 62
        },
        {
         "Dioxin": 2,
         "Veteran": "Vietnam",
         "_deepnote_index_column": 63
        },
        {
         "Dioxin": 2,
         "Veteran": "Vietnam",
         "_deepnote_index_column": 64
        },
        {
         "Dioxin": 2,
         "Veteran": "Vietnam",
         "_deepnote_index_column": 65
        },
        {
         "Dioxin": 2,
         "Veteran": "Vietnam",
         "_deepnote_index_column": 66
        },
        {
         "Dioxin": 2,
         "Veteran": "Vietnam",
         "_deepnote_index_column": 67
        },
        {
         "Dioxin": 2,
         "Veteran": "Vietnam",
         "_deepnote_index_column": 68
        },
        {
         "Dioxin": 2,
         "Veteran": "Vietnam",
         "_deepnote_index_column": 69
        },
        {
         "Dioxin": 2,
         "Veteran": "Vietnam",
         "_deepnote_index_column": 70
        },
        {
         "Dioxin": 2,
         "Veteran": "Vietnam",
         "_deepnote_index_column": 71
        },
        {
         "Dioxin": 2,
         "Veteran": "Vietnam",
         "_deepnote_index_column": 72
        },
        {
         "Dioxin": 2,
         "Veteran": "Vietnam",
         "_deepnote_index_column": 73
        },
        {
         "Dioxin": 2,
         "Veteran": "Vietnam",
         "_deepnote_index_column": 74
        },
        {
         "Dioxin": 2,
         "Veteran": "Vietnam",
         "_deepnote_index_column": 75
        },
        {
         "Dioxin": 2,
         "Veteran": "Vietnam",
         "_deepnote_index_column": 76
        },
        {
         "Dioxin": 2,
         "Veteran": "Vietnam",
         "_deepnote_index_column": 77
        },
        {
         "Dioxin": 2,
         "Veteran": "Vietnam",
         "_deepnote_index_column": 78
        },
        {
         "Dioxin": 2,
         "Veteran": "Vietnam",
         "_deepnote_index_column": 79
        },
        {
         "Dioxin": 2,
         "Veteran": "Vietnam",
         "_deepnote_index_column": 80
        },
        {
         "Dioxin": 2,
         "Veteran": "Vietnam",
         "_deepnote_index_column": 81
        },
        {
         "Dioxin": 2,
         "Veteran": "Vietnam",
         "_deepnote_index_column": 82
        },
        {
         "Dioxin": 2,
         "Veteran": "Vietnam",
         "_deepnote_index_column": 83
        },
        {
         "Dioxin": 2,
         "Veteran": "Vietnam",
         "_deepnote_index_column": 84
        },
        {
         "Dioxin": 2,
         "Veteran": "Vietnam",
         "_deepnote_index_column": 85
        },
        {
         "Dioxin": 2,
         "Veteran": "Vietnam",
         "_deepnote_index_column": 86
        },
        {
         "Dioxin": 2,
         "Veteran": "Vietnam",
         "_deepnote_index_column": 87
        },
        {
         "Dioxin": 2,
         "Veteran": "Vietnam",
         "_deepnote_index_column": 88
        },
        {
         "Dioxin": 2,
         "Veteran": "Vietnam",
         "_deepnote_index_column": 89
        },
        {
         "Dioxin": 2,
         "Veteran": "Vietnam",
         "_deepnote_index_column": 90
        },
        {
         "Dioxin": 2,
         "Veteran": "Vietnam",
         "_deepnote_index_column": 91
        },
        {
         "Dioxin": 2,
         "Veteran": "Vietnam",
         "_deepnote_index_column": 92
        },
        {
         "Dioxin": 2,
         "Veteran": "Vietnam",
         "_deepnote_index_column": 93
        },
        {
         "Dioxin": 2,
         "Veteran": "Vietnam",
         "_deepnote_index_column": 94
        },
        {
         "Dioxin": 2,
         "Veteran": "Vietnam",
         "_deepnote_index_column": 95
        },
        {
         "Dioxin": 2,
         "Veteran": "Vietnam",
         "_deepnote_index_column": 96
        },
        {
         "Dioxin": 2,
         "Veteran": "Vietnam",
         "_deepnote_index_column": 97
        },
        {
         "Dioxin": 2,
         "Veteran": "Vietnam",
         "_deepnote_index_column": 98
        },
        {
         "Dioxin": 2,
         "Veteran": "Vietnam",
         "_deepnote_index_column": 99
        },
        {
         "Dioxin": 2,
         "Veteran": "Vietnam",
         "_deepnote_index_column": 100
        },
        {
         "Dioxin": 2,
         "Veteran": "Vietnam",
         "_deepnote_index_column": 101
        },
        {
         "Dioxin": 2,
         "Veteran": "Vietnam",
         "_deepnote_index_column": 102
        },
        {
         "Dioxin": 2,
         "Veteran": "Vietnam",
         "_deepnote_index_column": 103
        },
        {
         "Dioxin": 2,
         "Veteran": "Vietnam",
         "_deepnote_index_column": 104
        },
        {
         "Dioxin": 2,
         "Veteran": "Vietnam",
         "_deepnote_index_column": 105
        },
        {
         "Dioxin": 2,
         "Veteran": "Vietnam",
         "_deepnote_index_column": 106
        },
        {
         "Dioxin": 2,
         "Veteran": "Vietnam",
         "_deepnote_index_column": 107
        },
        {
         "Dioxin": 3,
         "Veteran": "Vietnam",
         "_deepnote_index_column": 108
        },
        {
         "Dioxin": 3,
         "Veteran": "Vietnam",
         "_deepnote_index_column": 109
        },
        {
         "Dioxin": 3,
         "Veteran": "Vietnam",
         "_deepnote_index_column": 110
        },
        {
         "Dioxin": 3,
         "Veteran": "Vietnam",
         "_deepnote_index_column": 111
        },
        {
         "Dioxin": 3,
         "Veteran": "Vietnam",
         "_deepnote_index_column": 112
        },
        {
         "Dioxin": 3,
         "Veteran": "Vietnam",
         "_deepnote_index_column": 113
        },
        {
         "Dioxin": 3,
         "Veteran": "Vietnam",
         "_deepnote_index_column": 114
        },
        {
         "Dioxin": 3,
         "Veteran": "Vietnam",
         "_deepnote_index_column": 115
        },
        {
         "Dioxin": 3,
         "Veteran": "Vietnam",
         "_deepnote_index_column": 116
        },
        {
         "Dioxin": 3,
         "Veteran": "Vietnam",
         "_deepnote_index_column": 117
        },
        {
         "Dioxin": 3,
         "Veteran": "Vietnam",
         "_deepnote_index_column": 118
        },
        {
         "Dioxin": 3,
         "Veteran": "Vietnam",
         "_deepnote_index_column": 119
        },
        {
         "Dioxin": 3,
         "Veteran": "Vietnam",
         "_deepnote_index_column": 120
        },
        {
         "Dioxin": 3,
         "Veteran": "Vietnam",
         "_deepnote_index_column": 121
        },
        {
         "Dioxin": 3,
         "Veteran": "Vietnam",
         "_deepnote_index_column": 122
        },
        {
         "Dioxin": 3,
         "Veteran": "Vietnam",
         "_deepnote_index_column": 123
        },
        {
         "Dioxin": 3,
         "Veteran": "Vietnam",
         "_deepnote_index_column": 124
        },
        {
         "Dioxin": 3,
         "Veteran": "Vietnam",
         "_deepnote_index_column": 125
        },
        {
         "Dioxin": 3,
         "Veteran": "Vietnam",
         "_deepnote_index_column": 126
        },
        {
         "Dioxin": 3,
         "Veteran": "Vietnam",
         "_deepnote_index_column": 127
        },
        {
         "Dioxin": 3,
         "Veteran": "Vietnam",
         "_deepnote_index_column": 128
        },
        {
         "Dioxin": 3,
         "Veteran": "Vietnam",
         "_deepnote_index_column": 129
        },
        {
         "Dioxin": 3,
         "Veteran": "Vietnam",
         "_deepnote_index_column": 130
        },
        {
         "Dioxin": 3,
         "Veteran": "Vietnam",
         "_deepnote_index_column": 131
        },
        {
         "Dioxin": 3,
         "Veteran": "Vietnam",
         "_deepnote_index_column": 132
        },
        {
         "Dioxin": 3,
         "Veteran": "Vietnam",
         "_deepnote_index_column": 133
        },
        {
         "Dioxin": 3,
         "Veteran": "Vietnam",
         "_deepnote_index_column": 134
        },
        {
         "Dioxin": 3,
         "Veteran": "Vietnam",
         "_deepnote_index_column": 135
        },
        {
         "Dioxin": 3,
         "Veteran": "Vietnam",
         "_deepnote_index_column": 136
        },
        {
         "Dioxin": 3,
         "Veteran": "Vietnam",
         "_deepnote_index_column": 137
        },
        {
         "Dioxin": 3,
         "Veteran": "Vietnam",
         "_deepnote_index_column": 138
        },
        {
         "Dioxin": 3,
         "Veteran": "Vietnam",
         "_deepnote_index_column": 139
        },
        {
         "Dioxin": 3,
         "Veteran": "Vietnam",
         "_deepnote_index_column": 140
        },
        {
         "Dioxin": 3,
         "Veteran": "Vietnam",
         "_deepnote_index_column": 141
        },
        {
         "Dioxin": 3,
         "Veteran": "Vietnam",
         "_deepnote_index_column": 142
        },
        {
         "Dioxin": 3,
         "Veteran": "Vietnam",
         "_deepnote_index_column": 143
        },
        {
         "Dioxin": 3,
         "Veteran": "Vietnam",
         "_deepnote_index_column": 144
        },
        {
         "Dioxin": 3,
         "Veteran": "Vietnam",
         "_deepnote_index_column": 145
        },
        {
         "Dioxin": 3,
         "Veteran": "Vietnam",
         "_deepnote_index_column": 146
        },
        {
         "Dioxin": 3,
         "Veteran": "Vietnam",
         "_deepnote_index_column": 147
        },
        {
         "Dioxin": 3,
         "Veteran": "Vietnam",
         "_deepnote_index_column": 148
        },
        {
         "Dioxin": 3,
         "Veteran": "Vietnam",
         "_deepnote_index_column": 149
        },
        {
         "Dioxin": 3,
         "Veteran": "Vietnam",
         "_deepnote_index_column": 150
        },
        {
         "Dioxin": 3,
         "Veteran": "Vietnam",
         "_deepnote_index_column": 151
        },
        {
         "Dioxin": 3,
         "Veteran": "Vietnam",
         "_deepnote_index_column": 152
        },
        {
         "Dioxin": 3,
         "Veteran": "Vietnam",
         "_deepnote_index_column": 153
        },
        {
         "Dioxin": 3,
         "Veteran": "Vietnam",
         "_deepnote_index_column": 154
        },
        {
         "Dioxin": 3,
         "Veteran": "Vietnam",
         "_deepnote_index_column": 155
        },
        {
         "Dioxin": 3,
         "Veteran": "Vietnam",
         "_deepnote_index_column": 156
        },
        {
         "Dioxin": 3,
         "Veteran": "Vietnam",
         "_deepnote_index_column": 157
        },
        {
         "Dioxin": 3,
         "Veteran": "Vietnam",
         "_deepnote_index_column": 158
        },
        {
         "Dioxin": 3,
         "Veteran": "Vietnam",
         "_deepnote_index_column": 159
        },
        {
         "Dioxin": 3,
         "Veteran": "Vietnam",
         "_deepnote_index_column": 160
        },
        {
         "Dioxin": 3,
         "Veteran": "Vietnam",
         "_deepnote_index_column": 161
        },
        {
         "Dioxin": 3,
         "Veteran": "Vietnam",
         "_deepnote_index_column": 162
        },
        {
         "Dioxin": 3,
         "Veteran": "Vietnam",
         "_deepnote_index_column": 163
        },
        {
         "Dioxin": 3,
         "Veteran": "Vietnam",
         "_deepnote_index_column": 164
        },
        {
         "Dioxin": 3,
         "Veteran": "Vietnam",
         "_deepnote_index_column": 165
        },
        {
         "Dioxin": 3,
         "Veteran": "Vietnam",
         "_deepnote_index_column": 166
        },
        {
         "Dioxin": 3,
         "Veteran": "Vietnam",
         "_deepnote_index_column": 167
        },
        {
         "Dioxin": 3,
         "Veteran": "Vietnam",
         "_deepnote_index_column": 168
        },
        {
         "Dioxin": 3,
         "Veteran": "Vietnam",
         "_deepnote_index_column": 169
        },
        {
         "Dioxin": 3,
         "Veteran": "Vietnam",
         "_deepnote_index_column": 170
        },
        {
         "Dioxin": 3,
         "Veteran": "Vietnam",
         "_deepnote_index_column": 171
        },
        {
         "Dioxin": 3,
         "Veteran": "Vietnam",
         "_deepnote_index_column": 172
        },
        {
         "Dioxin": 3,
         "Veteran": "Vietnam",
         "_deepnote_index_column": 173
        },
        {
         "Dioxin": 3,
         "Veteran": "Vietnam",
         "_deepnote_index_column": 174
        },
        {
         "Dioxin": 3,
         "Veteran": "Vietnam",
         "_deepnote_index_column": 175
        },
        {
         "Dioxin": 3,
         "Veteran": "Vietnam",
         "_deepnote_index_column": 176
        },
        {
         "Dioxin": 3,
         "Veteran": "Vietnam",
         "_deepnote_index_column": 177
        },
        {
         "Dioxin": 3,
         "Veteran": "Vietnam",
         "_deepnote_index_column": 178
        },
        {
         "Dioxin": 3,
         "Veteran": "Vietnam",
         "_deepnote_index_column": 179
        },
        {
         "Dioxin": 3,
         "Veteran": "Vietnam",
         "_deepnote_index_column": 180
        },
        {
         "Dioxin": 3,
         "Veteran": "Vietnam",
         "_deepnote_index_column": 181
        },
        {
         "Dioxin": 3,
         "Veteran": "Vietnam",
         "_deepnote_index_column": 182
        },
        {
         "Dioxin": 3,
         "Veteran": "Vietnam",
         "_deepnote_index_column": 183
        },
        {
         "Dioxin": 3,
         "Veteran": "Vietnam",
         "_deepnote_index_column": 184
        },
        {
         "Dioxin": 3,
         "Veteran": "Vietnam",
         "_deepnote_index_column": 185
        },
        {
         "Dioxin": 3,
         "Veteran": "Vietnam",
         "_deepnote_index_column": 186
        },
        {
         "Dioxin": 3,
         "Veteran": "Vietnam",
         "_deepnote_index_column": 187
        },
        {
         "Dioxin": 3,
         "Veteran": "Vietnam",
         "_deepnote_index_column": 188
        },
        {
         "Dioxin": 3,
         "Veteran": "Vietnam",
         "_deepnote_index_column": 189
        },
        {
         "Dioxin": 3,
         "Veteran": "Vietnam",
         "_deepnote_index_column": 190
        },
        {
         "Dioxin": 3,
         "Veteran": "Vietnam",
         "_deepnote_index_column": 191
        },
        {
         "Dioxin": 3,
         "Veteran": "Vietnam",
         "_deepnote_index_column": 192
        },
        {
         "Dioxin": 3,
         "Veteran": "Vietnam",
         "_deepnote_index_column": 193
        },
        {
         "Dioxin": 3,
         "Veteran": "Vietnam",
         "_deepnote_index_column": 194
        },
        {
         "Dioxin": 3,
         "Veteran": "Vietnam",
         "_deepnote_index_column": 195
        },
        {
         "Dioxin": 3,
         "Veteran": "Vietnam",
         "_deepnote_index_column": 196
        },
        {
         "Dioxin": 3,
         "Veteran": "Vietnam",
         "_deepnote_index_column": 197
        },
        {
         "Dioxin": 3,
         "Veteran": "Vietnam",
         "_deepnote_index_column": 198
        },
        {
         "Dioxin": 3,
         "Veteran": "Vietnam",
         "_deepnote_index_column": 199
        },
        {
         "Dioxin": 3,
         "Veteran": "Vietnam",
         "_deepnote_index_column": 200
        },
        {
         "Dioxin": 3,
         "Veteran": "Vietnam",
         "_deepnote_index_column": 201
        },
        {
         "Dioxin": 3,
         "Veteran": "Vietnam",
         "_deepnote_index_column": 202
        },
        {
         "Dioxin": 3,
         "Veteran": "Vietnam",
         "_deepnote_index_column": 203
        },
        {
         "Dioxin": 3,
         "Veteran": "Vietnam",
         "_deepnote_index_column": 204
        },
        {
         "Dioxin": 3,
         "Veteran": "Vietnam",
         "_deepnote_index_column": 205
        },
        {
         "Dioxin": 3,
         "Veteran": "Vietnam",
         "_deepnote_index_column": 206
        },
        {
         "Dioxin": 3,
         "Veteran": "Vietnam",
         "_deepnote_index_column": 207
        },
        {
         "Dioxin": 3,
         "Veteran": "Vietnam",
         "_deepnote_index_column": 208
        },
        {
         "Dioxin": 3,
         "Veteran": "Vietnam",
         "_deepnote_index_column": 209
        },
        {
         "Dioxin": 3,
         "Veteran": "Vietnam",
         "_deepnote_index_column": 210
        },
        {
         "Dioxin": 3,
         "Veteran": "Vietnam",
         "_deepnote_index_column": 211
        },
        {
         "Dioxin": 3,
         "Veteran": "Vietnam",
         "_deepnote_index_column": 212
        },
        {
         "Dioxin": 3,
         "Veteran": "Vietnam",
         "_deepnote_index_column": 213
        },
        {
         "Dioxin": 3,
         "Veteran": "Vietnam",
         "_deepnote_index_column": 214
        },
        {
         "Dioxin": 3,
         "Veteran": "Vietnam",
         "_deepnote_index_column": 215
        },
        {
         "Dioxin": 3,
         "Veteran": "Vietnam",
         "_deepnote_index_column": 216
        },
        {
         "Dioxin": 3,
         "Veteran": "Vietnam",
         "_deepnote_index_column": 217
        },
        {
         "Dioxin": 3,
         "Veteran": "Vietnam",
         "_deepnote_index_column": 218
        },
        {
         "Dioxin": 3,
         "Veteran": "Vietnam",
         "_deepnote_index_column": 219
        },
        {
         "Dioxin": 3,
         "Veteran": "Vietnam",
         "_deepnote_index_column": 220
        },
        {
         "Dioxin": 3,
         "Veteran": "Vietnam",
         "_deepnote_index_column": 221
        },
        {
         "Dioxin": 3,
         "Veteran": "Vietnam",
         "_deepnote_index_column": 222
        },
        {
         "Dioxin": 3,
         "Veteran": "Vietnam",
         "_deepnote_index_column": 223
        },
        {
         "Dioxin": 3,
         "Veteran": "Vietnam",
         "_deepnote_index_column": 224
        },
        {
         "Dioxin": 3,
         "Veteran": "Vietnam",
         "_deepnote_index_column": 225
        },
        {
         "Dioxin": 3,
         "Veteran": "Vietnam",
         "_deepnote_index_column": 226
        },
        {
         "Dioxin": 3,
         "Veteran": "Vietnam",
         "_deepnote_index_column": 227
        },
        {
         "Dioxin": 3,
         "Veteran": "Vietnam",
         "_deepnote_index_column": 228
        },
        {
         "Dioxin": 3,
         "Veteran": "Vietnam",
         "_deepnote_index_column": 229
        },
        {
         "Dioxin": 3,
         "Veteran": "Vietnam",
         "_deepnote_index_column": 230
        },
        {
         "Dioxin": 3,
         "Veteran": "Vietnam",
         "_deepnote_index_column": 231
        },
        {
         "Dioxin": 3,
         "Veteran": "Vietnam",
         "_deepnote_index_column": 232
        },
        {
         "Dioxin": 3,
         "Veteran": "Vietnam",
         "_deepnote_index_column": 233
        },
        {
         "Dioxin": 3,
         "Veteran": "Vietnam",
         "_deepnote_index_column": 234
        },
        {
         "Dioxin": 3,
         "Veteran": "Vietnam",
         "_deepnote_index_column": 235
        },
        {
         "Dioxin": 3,
         "Veteran": "Vietnam",
         "_deepnote_index_column": 236
        },
        {
         "Dioxin": 3,
         "Veteran": "Vietnam",
         "_deepnote_index_column": 237
        },
        {
         "Dioxin": 3,
         "Veteran": "Vietnam",
         "_deepnote_index_column": 238
        },
        {
         "Dioxin": 3,
         "Veteran": "Vietnam",
         "_deepnote_index_column": 239
        },
        {
         "Dioxin": 3,
         "Veteran": "Vietnam",
         "_deepnote_index_column": 240
        },
        {
         "Dioxin": 3,
         "Veteran": "Vietnam",
         "_deepnote_index_column": 241
        },
        {
         "Dioxin": 3,
         "Veteran": "Vietnam",
         "_deepnote_index_column": 242
        },
        {
         "Dioxin": 3,
         "Veteran": "Vietnam",
         "_deepnote_index_column": 243
        },
        {
         "Dioxin": 3,
         "Veteran": "Vietnam",
         "_deepnote_index_column": 244
        },
        {
         "Dioxin": 3,
         "Veteran": "Vietnam",
         "_deepnote_index_column": 245
        },
        {
         "Dioxin": 3,
         "Veteran": "Vietnam",
         "_deepnote_index_column": 246
        },
        {
         "Dioxin": 3,
         "Veteran": "Vietnam",
         "_deepnote_index_column": 247
        },
        {
         "Dioxin": 3,
         "Veteran": "Vietnam",
         "_deepnote_index_column": 248
        },
        {
         "Dioxin": 3,
         "Veteran": "Vietnam",
         "_deepnote_index_column": 249
        }
       ],
       "rows_bottom": [
        {
         "Dioxin": 5,
         "Veteran": "Vietnam",
         "_deepnote_index_column": 493
        },
        {
         "Dioxin": 5,
         "Veteran": "Vietnam",
         "_deepnote_index_column": 494
        },
        {
         "Dioxin": 5,
         "Veteran": "Vietnam",
         "_deepnote_index_column": 495
        },
        {
         "Dioxin": 5,
         "Veteran": "Vietnam",
         "_deepnote_index_column": 496
        },
        {
         "Dioxin": 5,
         "Veteran": "Vietnam",
         "_deepnote_index_column": 497
        },
        {
         "Dioxin": 5,
         "Veteran": "Vietnam",
         "_deepnote_index_column": 498
        },
        {
         "Dioxin": 5,
         "Veteran": "Vietnam",
         "_deepnote_index_column": 499
        },
        {
         "Dioxin": 5,
         "Veteran": "Vietnam",
         "_deepnote_index_column": 500
        },
        {
         "Dioxin": 5,
         "Veteran": "Vietnam",
         "_deepnote_index_column": 501
        },
        {
         "Dioxin": 5,
         "Veteran": "Vietnam",
         "_deepnote_index_column": 502
        },
        {
         "Dioxin": 5,
         "Veteran": "Vietnam",
         "_deepnote_index_column": 503
        },
        {
         "Dioxin": 5,
         "Veteran": "Vietnam",
         "_deepnote_index_column": 504
        },
        {
         "Dioxin": 5,
         "Veteran": "Vietnam",
         "_deepnote_index_column": 505
        },
        {
         "Dioxin": 5,
         "Veteran": "Vietnam",
         "_deepnote_index_column": 506
        },
        {
         "Dioxin": 5,
         "Veteran": "Vietnam",
         "_deepnote_index_column": 507
        },
        {
         "Dioxin": 5,
         "Veteran": "Vietnam",
         "_deepnote_index_column": 508
        },
        {
         "Dioxin": 5,
         "Veteran": "Vietnam",
         "_deepnote_index_column": 509
        },
        {
         "Dioxin": 5,
         "Veteran": "Vietnam",
         "_deepnote_index_column": 510
        },
        {
         "Dioxin": 5,
         "Veteran": "Vietnam",
         "_deepnote_index_column": 511
        },
        {
         "Dioxin": 6,
         "Veteran": "Vietnam",
         "_deepnote_index_column": 512
        },
        {
         "Dioxin": 6,
         "Veteran": "Vietnam",
         "_deepnote_index_column": 513
        },
        {
         "Dioxin": 6,
         "Veteran": "Vietnam",
         "_deepnote_index_column": 514
        },
        {
         "Dioxin": 6,
         "Veteran": "Vietnam",
         "_deepnote_index_column": 515
        },
        {
         "Dioxin": 6,
         "Veteran": "Vietnam",
         "_deepnote_index_column": 516
        },
        {
         "Dioxin": 6,
         "Veteran": "Vietnam",
         "_deepnote_index_column": 517
        },
        {
         "Dioxin": 6,
         "Veteran": "Vietnam",
         "_deepnote_index_column": 518
        },
        {
         "Dioxin": 6,
         "Veteran": "Vietnam",
         "_deepnote_index_column": 519
        },
        {
         "Dioxin": 6,
         "Veteran": "Vietnam",
         "_deepnote_index_column": 520
        },
        {
         "Dioxin": 6,
         "Veteran": "Vietnam",
         "_deepnote_index_column": 521
        },
        {
         "Dioxin": 6,
         "Veteran": "Vietnam",
         "_deepnote_index_column": 522
        },
        {
         "Dioxin": 6,
         "Veteran": "Vietnam",
         "_deepnote_index_column": 523
        },
        {
         "Dioxin": 6,
         "Veteran": "Vietnam",
         "_deepnote_index_column": 524
        },
        {
         "Dioxin": 6,
         "Veteran": "Vietnam",
         "_deepnote_index_column": 525
        },
        {
         "Dioxin": 6,
         "Veteran": "Vietnam",
         "_deepnote_index_column": 526
        },
        {
         "Dioxin": 6,
         "Veteran": "Vietnam",
         "_deepnote_index_column": 527
        },
        {
         "Dioxin": 6,
         "Veteran": "Vietnam",
         "_deepnote_index_column": 528
        },
        {
         "Dioxin": 6,
         "Veteran": "Vietnam",
         "_deepnote_index_column": 529
        },
        {
         "Dioxin": 6,
         "Veteran": "Vietnam",
         "_deepnote_index_column": 530
        },
        {
         "Dioxin": 6,
         "Veteran": "Vietnam",
         "_deepnote_index_column": 531
        },
        {
         "Dioxin": 6,
         "Veteran": "Vietnam",
         "_deepnote_index_column": 532
        },
        {
         "Dioxin": 6,
         "Veteran": "Vietnam",
         "_deepnote_index_column": 533
        },
        {
         "Dioxin": 6,
         "Veteran": "Vietnam",
         "_deepnote_index_column": 534
        },
        {
         "Dioxin": 6,
         "Veteran": "Vietnam",
         "_deepnote_index_column": 535
        },
        {
         "Dioxin": 6,
         "Veteran": "Vietnam",
         "_deepnote_index_column": 536
        },
        {
         "Dioxin": 6,
         "Veteran": "Vietnam",
         "_deepnote_index_column": 537
        },
        {
         "Dioxin": 6,
         "Veteran": "Vietnam",
         "_deepnote_index_column": 538
        },
        {
         "Dioxin": 6,
         "Veteran": "Vietnam",
         "_deepnote_index_column": 539
        },
        {
         "Dioxin": 6,
         "Veteran": "Vietnam",
         "_deepnote_index_column": 540
        },
        {
         "Dioxin": 6,
         "Veteran": "Vietnam",
         "_deepnote_index_column": 541
        },
        {
         "Dioxin": 6,
         "Veteran": "Vietnam",
         "_deepnote_index_column": 542
        },
        {
         "Dioxin": 6,
         "Veteran": "Vietnam",
         "_deepnote_index_column": 543
        },
        {
         "Dioxin": 6,
         "Veteran": "Vietnam",
         "_deepnote_index_column": 544
        },
        {
         "Dioxin": 6,
         "Veteran": "Vietnam",
         "_deepnote_index_column": 545
        },
        {
         "Dioxin": 6,
         "Veteran": "Vietnam",
         "_deepnote_index_column": 546
        },
        {
         "Dioxin": 6,
         "Veteran": "Vietnam",
         "_deepnote_index_column": 547
        },
        {
         "Dioxin": 6,
         "Veteran": "Vietnam",
         "_deepnote_index_column": 548
        },
        {
         "Dioxin": 6,
         "Veteran": "Vietnam",
         "_deepnote_index_column": 549
        },
        {
         "Dioxin": 6,
         "Veteran": "Vietnam",
         "_deepnote_index_column": 550
        },
        {
         "Dioxin": 6,
         "Veteran": "Vietnam",
         "_deepnote_index_column": 551
        },
        {
         "Dioxin": 6,
         "Veteran": "Vietnam",
         "_deepnote_index_column": 552
        },
        {
         "Dioxin": 6,
         "Veteran": "Vietnam",
         "_deepnote_index_column": 553
        },
        {
         "Dioxin": 6,
         "Veteran": "Vietnam",
         "_deepnote_index_column": 554
        },
        {
         "Dioxin": 6,
         "Veteran": "Vietnam",
         "_deepnote_index_column": 555
        },
        {
         "Dioxin": 6,
         "Veteran": "Vietnam",
         "_deepnote_index_column": 556
        },
        {
         "Dioxin": 6,
         "Veteran": "Vietnam",
         "_deepnote_index_column": 557
        },
        {
         "Dioxin": 6,
         "Veteran": "Vietnam",
         "_deepnote_index_column": 558
        },
        {
         "Dioxin": 6,
         "Veteran": "Vietnam",
         "_deepnote_index_column": 559
        },
        {
         "Dioxin": 6,
         "Veteran": "Vietnam",
         "_deepnote_index_column": 560
        },
        {
         "Dioxin": 6,
         "Veteran": "Vietnam",
         "_deepnote_index_column": 561
        },
        {
         "Dioxin": 6,
         "Veteran": "Vietnam",
         "_deepnote_index_column": 562
        },
        {
         "Dioxin": 6,
         "Veteran": "Vietnam",
         "_deepnote_index_column": 563
        },
        {
         "Dioxin": 6,
         "Veteran": "Vietnam",
         "_deepnote_index_column": 564
        },
        {
         "Dioxin": 6,
         "Veteran": "Vietnam",
         "_deepnote_index_column": 565
        },
        {
         "Dioxin": 6,
         "Veteran": "Vietnam",
         "_deepnote_index_column": 566
        },
        {
         "Dioxin": 6,
         "Veteran": "Vietnam",
         "_deepnote_index_column": 567
        },
        {
         "Dioxin": 6,
         "Veteran": "Vietnam",
         "_deepnote_index_column": 568
        },
        {
         "Dioxin": 6,
         "Veteran": "Vietnam",
         "_deepnote_index_column": 569
        },
        {
         "Dioxin": 6,
         "Veteran": "Vietnam",
         "_deepnote_index_column": 570
        },
        {
         "Dioxin": 6,
         "Veteran": "Vietnam",
         "_deepnote_index_column": 571
        },
        {
         "Dioxin": 6,
         "Veteran": "Vietnam",
         "_deepnote_index_column": 572
        },
        {
         "Dioxin": 6,
         "Veteran": "Vietnam",
         "_deepnote_index_column": 573
        },
        {
         "Dioxin": 6,
         "Veteran": "Vietnam",
         "_deepnote_index_column": 574
        },
        {
         "Dioxin": 6,
         "Veteran": "Vietnam",
         "_deepnote_index_column": 575
        },
        {
         "Dioxin": 7,
         "Veteran": "Vietnam",
         "_deepnote_index_column": 576
        },
        {
         "Dioxin": 7,
         "Veteran": "Vietnam",
         "_deepnote_index_column": 577
        },
        {
         "Dioxin": 7,
         "Veteran": "Vietnam",
         "_deepnote_index_column": 578
        },
        {
         "Dioxin": 7,
         "Veteran": "Vietnam",
         "_deepnote_index_column": 579
        },
        {
         "Dioxin": 7,
         "Veteran": "Vietnam",
         "_deepnote_index_column": 580
        },
        {
         "Dioxin": 7,
         "Veteran": "Vietnam",
         "_deepnote_index_column": 581
        },
        {
         "Dioxin": 7,
         "Veteran": "Vietnam",
         "_deepnote_index_column": 582
        },
        {
         "Dioxin": 7,
         "Veteran": "Vietnam",
         "_deepnote_index_column": 583
        },
        {
         "Dioxin": 7,
         "Veteran": "Vietnam",
         "_deepnote_index_column": 584
        },
        {
         "Dioxin": 7,
         "Veteran": "Vietnam",
         "_deepnote_index_column": 585
        },
        {
         "Dioxin": 7,
         "Veteran": "Vietnam",
         "_deepnote_index_column": 586
        },
        {
         "Dioxin": 7,
         "Veteran": "Vietnam",
         "_deepnote_index_column": 587
        },
        {
         "Dioxin": 7,
         "Veteran": "Vietnam",
         "_deepnote_index_column": 588
        },
        {
         "Dioxin": 7,
         "Veteran": "Vietnam",
         "_deepnote_index_column": 589
        },
        {
         "Dioxin": 7,
         "Veteran": "Vietnam",
         "_deepnote_index_column": 590
        },
        {
         "Dioxin": 7,
         "Veteran": "Vietnam",
         "_deepnote_index_column": 591
        },
        {
         "Dioxin": 7,
         "Veteran": "Vietnam",
         "_deepnote_index_column": 592
        },
        {
         "Dioxin": 7,
         "Veteran": "Vietnam",
         "_deepnote_index_column": 593
        },
        {
         "Dioxin": 7,
         "Veteran": "Vietnam",
         "_deepnote_index_column": 594
        },
        {
         "Dioxin": 7,
         "Veteran": "Vietnam",
         "_deepnote_index_column": 595
        },
        {
         "Dioxin": 7,
         "Veteran": "Vietnam",
         "_deepnote_index_column": 596
        },
        {
         "Dioxin": 7,
         "Veteran": "Vietnam",
         "_deepnote_index_column": 597
        },
        {
         "Dioxin": 7,
         "Veteran": "Vietnam",
         "_deepnote_index_column": 598
        },
        {
         "Dioxin": 7,
         "Veteran": "Vietnam",
         "_deepnote_index_column": 599
        },
        {
         "Dioxin": 7,
         "Veteran": "Vietnam",
         "_deepnote_index_column": 600
        },
        {
         "Dioxin": 7,
         "Veteran": "Vietnam",
         "_deepnote_index_column": 601
        },
        {
         "Dioxin": 7,
         "Veteran": "Vietnam",
         "_deepnote_index_column": 602
        },
        {
         "Dioxin": 7,
         "Veteran": "Vietnam",
         "_deepnote_index_column": 603
        },
        {
         "Dioxin": 7,
         "Veteran": "Vietnam",
         "_deepnote_index_column": 604
        },
        {
         "Dioxin": 7,
         "Veteran": "Vietnam",
         "_deepnote_index_column": 605
        },
        {
         "Dioxin": 7,
         "Veteran": "Vietnam",
         "_deepnote_index_column": 606
        },
        {
         "Dioxin": 7,
         "Veteran": "Vietnam",
         "_deepnote_index_column": 607
        },
        {
         "Dioxin": 8,
         "Veteran": "Vietnam",
         "_deepnote_index_column": 608
        },
        {
         "Dioxin": 8,
         "Veteran": "Vietnam",
         "_deepnote_index_column": 609
        },
        {
         "Dioxin": 8,
         "Veteran": "Vietnam",
         "_deepnote_index_column": 610
        },
        {
         "Dioxin": 8,
         "Veteran": "Vietnam",
         "_deepnote_index_column": 611
        },
        {
         "Dioxin": 8,
         "Veteran": "Vietnam",
         "_deepnote_index_column": 612
        },
        {
         "Dioxin": 8,
         "Veteran": "Vietnam",
         "_deepnote_index_column": 613
        },
        {
         "Dioxin": 8,
         "Veteran": "Vietnam",
         "_deepnote_index_column": 614
        },
        {
         "Dioxin": 8,
         "Veteran": "Vietnam",
         "_deepnote_index_column": 615
        },
        {
         "Dioxin": 8,
         "Veteran": "Vietnam",
         "_deepnote_index_column": 616
        },
        {
         "Dioxin": 8,
         "Veteran": "Vietnam",
         "_deepnote_index_column": 617
        },
        {
         "Dioxin": 8,
         "Veteran": "Vietnam",
         "_deepnote_index_column": 618
        },
        {
         "Dioxin": 8,
         "Veteran": "Vietnam",
         "_deepnote_index_column": 619
        },
        {
         "Dioxin": 8,
         "Veteran": "Vietnam",
         "_deepnote_index_column": 620
        },
        {
         "Dioxin": 8,
         "Veteran": "Vietnam",
         "_deepnote_index_column": 621
        },
        {
         "Dioxin": 8,
         "Veteran": "Vietnam",
         "_deepnote_index_column": 622
        },
        {
         "Dioxin": 8,
         "Veteran": "Vietnam",
         "_deepnote_index_column": 623
        },
        {
         "Dioxin": 8,
         "Veteran": "Vietnam",
         "_deepnote_index_column": 624
        },
        {
         "Dioxin": 8,
         "Veteran": "Vietnam",
         "_deepnote_index_column": 625
        },
        {
         "Dioxin": 8,
         "Veteran": "Vietnam",
         "_deepnote_index_column": 626
        },
        {
         "Dioxin": 9,
         "Veteran": "Vietnam",
         "_deepnote_index_column": 627
        },
        {
         "Dioxin": 9,
         "Veteran": "Vietnam",
         "_deepnote_index_column": 628
        },
        {
         "Dioxin": 9,
         "Veteran": "Vietnam",
         "_deepnote_index_column": 629
        },
        {
         "Dioxin": 9,
         "Veteran": "Vietnam",
         "_deepnote_index_column": 630
        },
        {
         "Dioxin": 9,
         "Veteran": "Vietnam",
         "_deepnote_index_column": 631
        },
        {
         "Dioxin": 9,
         "Veteran": "Vietnam",
         "_deepnote_index_column": 632
        },
        {
         "Dioxin": 9,
         "Veteran": "Vietnam",
         "_deepnote_index_column": 633
        },
        {
         "Dioxin": 9,
         "Veteran": "Vietnam",
         "_deepnote_index_column": 634
        },
        {
         "Dioxin": 9,
         "Veteran": "Vietnam",
         "_deepnote_index_column": 635
        },
        {
         "Dioxin": 9,
         "Veteran": "Vietnam",
         "_deepnote_index_column": 636
        },
        {
         "Dioxin": 10,
         "Veteran": "Vietnam",
         "_deepnote_index_column": 637
        },
        {
         "Dioxin": 10,
         "Veteran": "Vietnam",
         "_deepnote_index_column": 638
        },
        {
         "Dioxin": 11,
         "Veteran": "Vietnam",
         "_deepnote_index_column": 639
        },
        {
         "Dioxin": 12,
         "Veteran": "Vietnam",
         "_deepnote_index_column": 640
        },
        {
         "Dioxin": 13,
         "Veteran": "Vietnam",
         "_deepnote_index_column": 641
        },
        {
         "Dioxin": 15,
         "Veteran": "Vietnam",
         "_deepnote_index_column": 642
        },
        {
         "Dioxin": 16,
         "Veteran": "Vietnam",
         "_deepnote_index_column": 643
        },
        {
         "Dioxin": 25,
         "Veteran": "Vietnam",
         "_deepnote_index_column": 644
        },
        {
         "Dioxin": 45,
         "Veteran": "Vietnam",
         "_deepnote_index_column": 645
        },
        {
         "Dioxin": 0,
         "Veteran": "Other",
         "_deepnote_index_column": 646
        },
        {
         "Dioxin": 0,
         "Veteran": "Other",
         "_deepnote_index_column": 647
        },
        {
         "Dioxin": 0,
         "Veteran": "Other",
         "_deepnote_index_column": 648
        },
        {
         "Dioxin": 1,
         "Veteran": "Other",
         "_deepnote_index_column": 649
        },
        {
         "Dioxin": 2,
         "Veteran": "Other",
         "_deepnote_index_column": 650
        },
        {
         "Dioxin": 2,
         "Veteran": "Other",
         "_deepnote_index_column": 651
        },
        {
         "Dioxin": 2,
         "Veteran": "Other",
         "_deepnote_index_column": 652
        },
        {
         "Dioxin": 2,
         "Veteran": "Other",
         "_deepnote_index_column": 653
        },
        {
         "Dioxin": 2,
         "Veteran": "Other",
         "_deepnote_index_column": 654
        },
        {
         "Dioxin": 2,
         "Veteran": "Other",
         "_deepnote_index_column": 655
        },
        {
         "Dioxin": 2,
         "Veteran": "Other",
         "_deepnote_index_column": 656
        },
        {
         "Dioxin": 2,
         "Veteran": "Other",
         "_deepnote_index_column": 657
        },
        {
         "Dioxin": 2,
         "Veteran": "Other",
         "_deepnote_index_column": 658
        },
        {
         "Dioxin": 2,
         "Veteran": "Other",
         "_deepnote_index_column": 659
        },
        {
         "Dioxin": 2,
         "Veteran": "Other",
         "_deepnote_index_column": 660
        },
        {
         "Dioxin": 2,
         "Veteran": "Other",
         "_deepnote_index_column": 661
        },
        {
         "Dioxin": 2,
         "Veteran": "Other",
         "_deepnote_index_column": 662
        },
        {
         "Dioxin": 2,
         "Veteran": "Other",
         "_deepnote_index_column": 663
        },
        {
         "Dioxin": 3,
         "Veteran": "Other",
         "_deepnote_index_column": 664
        },
        {
         "Dioxin": 3,
         "Veteran": "Other",
         "_deepnote_index_column": 665
        },
        {
         "Dioxin": 3,
         "Veteran": "Other",
         "_deepnote_index_column": 666
        },
        {
         "Dioxin": 3,
         "Veteran": "Other",
         "_deepnote_index_column": 667
        },
        {
         "Dioxin": 3,
         "Veteran": "Other",
         "_deepnote_index_column": 668
        },
        {
         "Dioxin": 3,
         "Veteran": "Other",
         "_deepnote_index_column": 669
        },
        {
         "Dioxin": 3,
         "Veteran": "Other",
         "_deepnote_index_column": 670
        },
        {
         "Dioxin": 3,
         "Veteran": "Other",
         "_deepnote_index_column": 671
        },
        {
         "Dioxin": 3,
         "Veteran": "Other",
         "_deepnote_index_column": 672
        },
        {
         "Dioxin": 3,
         "Veteran": "Other",
         "_deepnote_index_column": 673
        },
        {
         "Dioxin": 3,
         "Veteran": "Other",
         "_deepnote_index_column": 674
        },
        {
         "Dioxin": 3,
         "Veteran": "Other",
         "_deepnote_index_column": 675
        },
        {
         "Dioxin": 3,
         "Veteran": "Other",
         "_deepnote_index_column": 676
        },
        {
         "Dioxin": 3,
         "Veteran": "Other",
         "_deepnote_index_column": 677
        },
        {
         "Dioxin": 3,
         "Veteran": "Other",
         "_deepnote_index_column": 678
        },
        {
         "Dioxin": 3,
         "Veteran": "Other",
         "_deepnote_index_column": 679
        },
        {
         "Dioxin": 3,
         "Veteran": "Other",
         "_deepnote_index_column": 680
        },
        {
         "Dioxin": 3,
         "Veteran": "Other",
         "_deepnote_index_column": 681
        },
        {
         "Dioxin": 3,
         "Veteran": "Other",
         "_deepnote_index_column": 682
        },
        {
         "Dioxin": 3,
         "Veteran": "Other",
         "_deepnote_index_column": 683
        },
        {
         "Dioxin": 3,
         "Veteran": "Other",
         "_deepnote_index_column": 684
        },
        {
         "Dioxin": 3,
         "Veteran": "Other",
         "_deepnote_index_column": 685
        },
        {
         "Dioxin": 3,
         "Veteran": "Other",
         "_deepnote_index_column": 686
        },
        {
         "Dioxin": 3,
         "Veteran": "Other",
         "_deepnote_index_column": 687
        },
        {
         "Dioxin": 3,
         "Veteran": "Other",
         "_deepnote_index_column": 688
        },
        {
         "Dioxin": 4,
         "Veteran": "Other",
         "_deepnote_index_column": 689
        },
        {
         "Dioxin": 4,
         "Veteran": "Other",
         "_deepnote_index_column": 690
        },
        {
         "Dioxin": 4,
         "Veteran": "Other",
         "_deepnote_index_column": 691
        },
        {
         "Dioxin": 4,
         "Veteran": "Other",
         "_deepnote_index_column": 692
        },
        {
         "Dioxin": 4,
         "Veteran": "Other",
         "_deepnote_index_column": 693
        },
        {
         "Dioxin": 4,
         "Veteran": "Other",
         "_deepnote_index_column": 694
        },
        {
         "Dioxin": 4,
         "Veteran": "Other",
         "_deepnote_index_column": 695
        },
        {
         "Dioxin": 4,
         "Veteran": "Other",
         "_deepnote_index_column": 696
        },
        {
         "Dioxin": 4,
         "Veteran": "Other",
         "_deepnote_index_column": 697
        },
        {
         "Dioxin": 4,
         "Veteran": "Other",
         "_deepnote_index_column": 698
        },
        {
         "Dioxin": 4,
         "Veteran": "Other",
         "_deepnote_index_column": 699
        },
        {
         "Dioxin": 4,
         "Veteran": "Other",
         "_deepnote_index_column": 700
        },
        {
         "Dioxin": 4,
         "Veteran": "Other",
         "_deepnote_index_column": 701
        },
        {
         "Dioxin": 4,
         "Veteran": "Other",
         "_deepnote_index_column": 702
        },
        {
         "Dioxin": 4,
         "Veteran": "Other",
         "_deepnote_index_column": 703
        },
        {
         "Dioxin": 4,
         "Veteran": "Other",
         "_deepnote_index_column": 704
        },
        {
         "Dioxin": 4,
         "Veteran": "Other",
         "_deepnote_index_column": 705
        },
        {
         "Dioxin": 4,
         "Veteran": "Other",
         "_deepnote_index_column": 706
        },
        {
         "Dioxin": 4,
         "Veteran": "Other",
         "_deepnote_index_column": 707
        },
        {
         "Dioxin": 4,
         "Veteran": "Other",
         "_deepnote_index_column": 708
        },
        {
         "Dioxin": 5,
         "Veteran": "Other",
         "_deepnote_index_column": 709
        },
        {
         "Dioxin": 5,
         "Veteran": "Other",
         "_deepnote_index_column": 710
        },
        {
         "Dioxin": 5,
         "Veteran": "Other",
         "_deepnote_index_column": 711
        },
        {
         "Dioxin": 5,
         "Veteran": "Other",
         "_deepnote_index_column": 712
        },
        {
         "Dioxin": 5,
         "Veteran": "Other",
         "_deepnote_index_column": 713
        },
        {
         "Dioxin": 5,
         "Veteran": "Other",
         "_deepnote_index_column": 714
        },
        {
         "Dioxin": 5,
         "Veteran": "Other",
         "_deepnote_index_column": 715
        },
        {
         "Dioxin": 5,
         "Veteran": "Other",
         "_deepnote_index_column": 716
        },
        {
         "Dioxin": 5,
         "Veteran": "Other",
         "_deepnote_index_column": 717
        },
        {
         "Dioxin": 5,
         "Veteran": "Other",
         "_deepnote_index_column": 718
        },
        {
         "Dioxin": 5,
         "Veteran": "Other",
         "_deepnote_index_column": 719
        },
        {
         "Dioxin": 5,
         "Veteran": "Other",
         "_deepnote_index_column": 720
        },
        {
         "Dioxin": 5,
         "Veteran": "Other",
         "_deepnote_index_column": 721
        },
        {
         "Dioxin": 5,
         "Veteran": "Other",
         "_deepnote_index_column": 722
        },
        {
         "Dioxin": 6,
         "Veteran": "Other",
         "_deepnote_index_column": 723
        },
        {
         "Dioxin": 6,
         "Veteran": "Other",
         "_deepnote_index_column": 724
        },
        {
         "Dioxin": 6,
         "Veteran": "Other",
         "_deepnote_index_column": 725
        },
        {
         "Dioxin": 6,
         "Veteran": "Other",
         "_deepnote_index_column": 726
        },
        {
         "Dioxin": 6,
         "Veteran": "Other",
         "_deepnote_index_column": 727
        },
        {
         "Dioxin": 6,
         "Veteran": "Other",
         "_deepnote_index_column": 728
        },
        {
         "Dioxin": 6,
         "Veteran": "Other",
         "_deepnote_index_column": 729
        },
        {
         "Dioxin": 6,
         "Veteran": "Other",
         "_deepnote_index_column": 730
        },
        {
         "Dioxin": 6,
         "Veteran": "Other",
         "_deepnote_index_column": 731
        },
        {
         "Dioxin": 7,
         "Veteran": "Other",
         "_deepnote_index_column": 732
        },
        {
         "Dioxin": 7,
         "Veteran": "Other",
         "_deepnote_index_column": 733
        },
        {
         "Dioxin": 7,
         "Veteran": "Other",
         "_deepnote_index_column": 734
        },
        {
         "Dioxin": 7,
         "Veteran": "Other",
         "_deepnote_index_column": 735
        },
        {
         "Dioxin": 8,
         "Veteran": "Other",
         "_deepnote_index_column": 736
        },
        {
         "Dioxin": 8,
         "Veteran": "Other",
         "_deepnote_index_column": 737
        },
        {
         "Dioxin": 9,
         "Veteran": "Other",
         "_deepnote_index_column": 738
        },
        {
         "Dioxin": 9,
         "Veteran": "Other",
         "_deepnote_index_column": 739
        },
        {
         "Dioxin": 10,
         "Veteran": "Other",
         "_deepnote_index_column": 740
        },
        {
         "Dioxin": 11,
         "Veteran": "Other",
         "_deepnote_index_column": 741
        },
        {
         "Dioxin": 15,
         "Veteran": "Other",
         "_deepnote_index_column": 742
        }
       ]
      },
      "text/plain": "     Dioxin  Veteran\n0         0  Vietnam\n1         0  Vietnam\n2         0  Vietnam\n3         0  Vietnam\n4         0  Vietnam\n..      ...      ...\n738       9    Other\n739       9    Other\n740      10    Other\n741      11    Other\n742      15    Other\n\n[743 rows x 2 columns]",
      "text/html": "<div>\n<style scoped>\n    .dataframe tbody tr th:only-of-type {\n        vertical-align: middle;\n    }\n\n    .dataframe tbody tr th {\n        vertical-align: top;\n    }\n\n    .dataframe thead th {\n        text-align: right;\n    }\n</style>\n<table border=\"1\" class=\"dataframe\">\n  <thead>\n    <tr style=\"text-align: right;\">\n      <th></th>\n      <th>Dioxin</th>\n      <th>Veteran</th>\n    </tr>\n  </thead>\n  <tbody>\n    <tr>\n      <th>0</th>\n      <td>0</td>\n      <td>Vietnam</td>\n    </tr>\n    <tr>\n      <th>1</th>\n      <td>0</td>\n      <td>Vietnam</td>\n    </tr>\n    <tr>\n      <th>2</th>\n      <td>0</td>\n      <td>Vietnam</td>\n    </tr>\n    <tr>\n      <th>3</th>\n      <td>0</td>\n      <td>Vietnam</td>\n    </tr>\n    <tr>\n      <th>4</th>\n      <td>0</td>\n      <td>Vietnam</td>\n    </tr>\n    <tr>\n      <th>...</th>\n      <td>...</td>\n      <td>...</td>\n    </tr>\n    <tr>\n      <th>738</th>\n      <td>9</td>\n      <td>Other</td>\n    </tr>\n    <tr>\n      <th>739</th>\n      <td>9</td>\n      <td>Other</td>\n    </tr>\n    <tr>\n      <th>740</th>\n      <td>10</td>\n      <td>Other</td>\n    </tr>\n    <tr>\n      <th>741</th>\n      <td>11</td>\n      <td>Other</td>\n    </tr>\n    <tr>\n      <th>742</th>\n      <td>15</td>\n      <td>Other</td>\n    </tr>\n  </tbody>\n</table>\n<p>743 rows × 2 columns</p>\n</div>"
     },
     "metadata": {},
     "output_type": "display_data"
    }
   ],
   "execution_count": null
  },
  {
   "cell_type": "code",
   "metadata": {
    "cell_id": "00007-fb81c604-a5b0-4fe8-bc2f-10c600a82a16",
    "deepnote_to_be_reexecuted": false,
    "source_hash": "88256832",
    "execution_start": 1638742753488,
    "execution_millis": 14,
    "deepnote_cell_type": "code"
   },
   "source": "### estimate expected value, variance and median of given distributions\n\n### vietnam group estimations\nE_vietnam = data_vietnam.Dioxin.mean()\nVAR_vietnam = data_vietnam.Dioxin.var()\nmedian_vietnam = data_vietnam.Dioxin.median()\n\n### other group estimations\nE_other = data_other.Dioxin.mean()\nVAR_other = data_other.Dioxin.var()\nmedian_other = data_other.Dioxin.median()\n\n### display results\nprint(\"Vietnam group estimated values:\")\nprint(\">>> Expected value:\", E_vietnam)\nprint(\">>> Variance:\", VAR_vietnam)\nprint(\">>> Median:\", median_vietnam)\nprint()\nprint(\"Other group estimated values:\")\nprint(\">>> Expected value:\", E_other)\nprint(\">>> Variance:\", VAR_other)\nprint(\">>> Median:\", median_other)",
   "outputs": [
    {
     "name": "stdout",
     "text": "Vietnam group estimated values:\n>>> Expected value: 4.260061919504644\n>>> Variance: 6.98342573259414\n>>> Median: 4.0\n\nOther group estimated values:\n>>> Expected value: 4.185567010309279\n>>> Variance: 5.298539518900344\n>>> Median: 4.0\n",
     "output_type": "stream"
    }
   ],
   "execution_count": null
  },
  {
   "cell_type": "markdown",
   "source": "### Úkol 2 - Odhad hustoty a distribuční funkce pomocí histogramu a empirické distribuční funkce pro jednotlivá rozdělení",
   "metadata": {
    "cell_id": "00008-3bfb56c3-de83-4bea-ba74-2afae966c27e",
    "deepnote_cell_type": "markdown"
   }
  },
  {
   "cell_type": "code",
   "metadata": {
    "cell_id": "00009-4709754d-6a52-4508-a7bc-39bf318d1d6d",
    "deepnote_to_be_reexecuted": false,
    "source_hash": "a9fcf323",
    "deepnote_output_heights": [
     40.375,
     280
    ],
    "execution_start": 1638742753506,
    "execution_millis": 644,
    "deepnote_cell_type": "code"
   },
   "source": "### vietnam group - histogram\n\nax = sb.histplot(\n    data=data_vietnam,\n    bins=20,\n    stat=\"density\"\n)\nax.set(\n    title=\"Vietnam group - estimate of the distribution using histogram\",\n    xlabel=\"Dioxin concentration\"\n)",
   "outputs": [
    {
     "output_type": "execute_result",
     "execution_count": 5,
     "data": {
      "text/plain": "[Text(0.5, 1.0, 'Vietnam group - estimate of the distribution using histogram'),\n Text(0.5, 0, 'Dioxin concentration')]"
     },
     "metadata": {}
    },
    {
     "data": {
      "text/plain": "<Figure size 432x288 with 1 Axes>",
      "image/png": "[encoded data removed]"
     },
     "metadata": {
      "needs_background": "light",
      "image/png": {
       "width": 415,
       "height": 278
      }
     },
     "output_type": "display_data"
    }
   ],
   "execution_count": null
  },
  {
   "cell_type": "code",
   "metadata": {
    "cell_id": "00010-6617b504-a85e-4835-a348-508489af71f6",
    "deepnote_to_be_reexecuted": false,
    "source_hash": "297ce723",
    "deepnote_output_heights": [
     40.375,
     280
    ],
    "execution_start": 1638742754049,
    "execution_millis": 344,
    "deepnote_cell_type": "code"
   },
   "source": "### other group - histogram\n\nax = sb.histplot(\n    data=data_other,\n    bins=20,\n    stat=\"density\"\n)\nax.set(\n    title=\"Other group - estimate of the distribution using histogram\",\n    xlabel=\"Dioxin concentration\"\n)",
   "outputs": [
    {
     "output_type": "execute_result",
     "execution_count": 6,
     "data": {
      "text/plain": "[Text(0.5, 1.0, 'Other group - estimate of the distribution using histogram'),\n Text(0.5, 0, 'Dioxin concentration')]"
     },
     "metadata": {}
    },
    {
     "data": {
      "text/plain": "<Figure size 432x288 with 1 Axes>",
      "image/png": "[encoded data removed]"
     },
     "metadata": {
      "needs_background": "light",
      "image/png": {
       "width": 400,
       "height": 278
      }
     },
     "output_type": "display_data"
    }
   ],
   "execution_count": null
  },
  {
   "cell_type": "code",
   "metadata": {
    "cell_id": "00011-02916818-0cf3-434d-bb57-b4d2fd921dd7",
    "deepnote_to_be_reexecuted": false,
    "source_hash": "f2bce961",
    "deepnote_output_heights": [
     40.375,
     280
    ],
    "execution_start": 1638742754453,
    "execution_millis": 277,
    "deepnote_cell_type": "code"
   },
   "source": "### vietnam group - distribution function\n\nax = sb.ecdfplot(data=data_vietnam)\nax.set(\n    title=\"Vietnam group - estimate of the distribution using empirical distribution function\",\n    xlabel=\"Dioxin concentration\"\n)",
   "outputs": [
    {
     "output_type": "execute_result",
     "execution_count": 7,
     "data": {
      "text/plain": "[Text(0.5, 1.0, 'Vietnam group - estimate of the distribution using empirical distribution function'),\n Text(0.5, 0, 'Dioxin concentration')]"
     },
     "metadata": {}
    },
    {
     "data": {
      "text/plain": "<Figure size 432x288 with 1 Axes>",
      "image/png": "[encoded data removed]"
     },
     "metadata": {
      "needs_background": "light",
      "image/png": {
       "width": 502,
       "height": 278
      }
     },
     "output_type": "display_data"
    }
   ],
   "execution_count": null
  },
  {
   "cell_type": "code",
   "metadata": {
    "cell_id": "00012-55de946c-59af-4238-8262-1295994bd5f2",
    "deepnote_to_be_reexecuted": false,
    "source_hash": "9f2f44e2",
    "deepnote_output_heights": [
     40.375,
     280
    ],
    "execution_start": 1638742754805,
    "execution_millis": 261,
    "deepnote_cell_type": "code"
   },
   "source": "### other group - distribution function\n\nax = sb.ecdfplot(data=data_other)\nax.set(\n    title=\"Other group - estimate of the distribution using empirical distribution function\",\n    xlabel=\"Dioxin concentration\"\n)",
   "outputs": [
    {
     "output_type": "execute_result",
     "execution_count": 8,
     "data": {
      "text/plain": "[Text(0.5, 1.0, 'Other group - estimate of the distribution using empirical distribution function'),\n Text(0.5, 0, 'Dioxin concentration')]"
     },
     "metadata": {}
    },
    {
     "data": {
      "text/plain": "<Figure size 432x288 with 1 Axes>",
      "image/png": "[encoded data removed]"
     },
     "metadata": {
      "needs_background": "light",
      "image/png": {
       "width": 486,
       "height": 278
      }
     },
     "output_type": "display_data"
    }
   ],
   "execution_count": null
  },
  {
   "cell_type": "code",
   "metadata": {
    "cell_id": "00013-4f2baa9f-db20-4a0c-8e15-c049fead919b",
    "deepnote_to_be_reexecuted": false,
    "source_hash": "d03dff07",
    "deepnote_output_heights": [
     40.375,
     280
    ],
    "execution_start": 1638742755129,
    "execution_millis": 336,
    "deepnote_cell_type": "code"
   },
   "source": "### vietnam group - density\n\nax = sb.kdeplot(data=data_vietnam, bw_adjust=.75)\nax.set(\n    title=\"Vietnam group - density estimation of the distribution\",\n    xlabel=\"Dioxin concentration\"\n)",
   "outputs": [
    {
     "output_type": "execute_result",
     "execution_count": 9,
     "data": {
      "text/plain": "[Text(0.5, 1.0, 'Vietnam group - density estimation of the distribution'),\n Text(0.5, 0, 'Dioxin concentration')]"
     },
     "metadata": {}
    },
    {
     "data": {
      "text/plain": "<Figure size 432x288 with 1 Axes>",
      "image/png": "[encoded data removed]"
     },
     "metadata": {
      "needs_background": "light",
      "image/png": {
       "width": 392,
       "height": 278
      }
     },
     "output_type": "display_data"
    }
   ],
   "execution_count": null
  },
  {
   "cell_type": "code",
   "metadata": {
    "cell_id": "00014-8ac66956-fbb6-4464-a2f7-7522c777f263",
    "deepnote_to_be_reexecuted": false,
    "source_hash": "e527d834",
    "deepnote_output_heights": [
     40.375,
     280
    ],
    "execution_start": 1638742755529,
    "execution_millis": 392,
    "deepnote_cell_type": "code"
   },
   "source": "### other group - density\n\nax = sb.kdeplot(data=data_other, bw_adjust=.75)\nax.set(\n    title=\"Other group - density estimation of the distribtuin\",\n    xlabel=\"Dioxin concentration\"\n)",
   "outputs": [
    {
     "output_type": "execute_result",
     "execution_count": 10,
     "data": {
      "text/plain": "[Text(0.5, 1.0, 'Other group - density estimation of the distribtuin'),\n Text(0.5, 0, 'Dioxin concentration')]"
     },
     "metadata": {}
    },
    {
     "data": {
      "text/plain": "<Figure size 432x288 with 1 Axes>",
      "image/png": "[encoded data removed]"
     },
     "metadata": {
      "needs_background": "light",
      "image/png": {
       "width": 395,
       "height": 278
      }
     },
     "output_type": "display_data"
    }
   ],
   "execution_count": null
  },
  {
   "cell_type": "code",
   "metadata": {
    "cell_id": "00016-9890034d-a120-435c-aa55-09ae2fb4704d",
    "deepnote_to_be_reexecuted": false,
    "source_hash": "a61d183e",
    "execution_start": 1638742755942,
    "execution_millis": 10510635,
    "deepnote_cell_type": "code"
   },
   "source": "### vietnam group - estimated distribution parameters\n\nviet_norm_distr_expected_value, viet_norm_distr_std_deviance = norm.fit(data_vietnam.Dioxin, method=\"MLE\")\nviet_expon_distr_expected_value, viet_expon_distr_std_deviance = expon.fit(data_vietnam.Dioxin, floc=0, method=\"MLE\")\nviet_uniform_distr_a, viet_uniform_distr_b = uniform.fit(data_vietnam.Dioxin, method=\"MLE\")\n\nprint(\"Vietnam group - estimated distribution parameters\")\nprint(\">>> Normal distribution -> 𝝁 = {}, 𝛔 = {}\".format(\n    viet_norm_distr_expected_value,\n    viet_norm_distr_std_deviance ** 2\n))\nprint(\">>> Exponential distribution -> 𝛌 = {}\".format( ### FIXME: location and scale are returned\n    1 / viet_expon_distr_std_deviance\n))\nprint(\">>> Uniform distribution -> 𝐚 = {}, 𝐛 = {}\".format(\n    viet_uniform_distr_a,\n    viet_uniform_distr_b\n))",
   "outputs": [
    {
     "name": "stdout",
     "text": "Vietnam group - estimated distribution parameters\n>>> Normal distribution -> 𝝁 = 4.260061919504644, 𝛔 = 6.9726154760421375\n>>> Exponential distribution -> 𝛌 = 0.23473837209302323\n>>> Uniform distribution -> 𝐚 = 0.0, 𝐛 = 45.0\n",
     "output_type": "stream"
    }
   ],
   "execution_count": null
  },
  {
   "cell_type": "markdown",
   "source": "### Úkol 3 - Pro každou skupinu zvlášť odhadnout parametry normálního, exponenciálního a rovnoměrného rozdělení. Dále zanést příslušné hustoty s odhadnutými parametry do histogramu dané skupiny. Diskuse, které z rozdělení nejlépe odpovídá pozorovaným datům\n\n**FIXME:** Discuss results  \n**FIXME:** Add labels to plots",
   "metadata": {
    "cell_id": "00015-6957a0a0-e3a5-4ac3-a32d-bd1ec8bfea62",
    "deepnote_cell_type": "markdown"
   }
  },
  {
   "cell_type": "code",
   "metadata": {
    "cell_id": "00017-323e80d5-5e20-4d80-89b1-f9557fdbebb5",
    "deepnote_to_be_reexecuted": false,
    "source_hash": "c19b7f6d",
    "deepnote_output_heights": [
     577,
     577
    ],
    "execution_start": 1638742755993,
    "execution_millis": 506,
    "deepnote_cell_type": "code"
   },
   "source": "fig, ax = plt.subplots(figsize=(10, 10))\nsb.histplot(\n    data=data_vietnam,\n    bins=20,\n    stat=\"density\",\n    kde=False\n)\n_, xmax = plt.xlim()\nx_axis_values = np.linspace(0, xmax, 100)\nnorm_distr_pdf = norm.pdf(x_axis_values, viet_norm_distr_expected_value, viet_norm_distr_std_deviance)\nexpon_distr_pdf = expon.pdf(x_axis_values, viet_expon_distr_expected_value, viet_expon_distr_std_deviance)\nuniform_distr_pdf = uniform.pdf(x_axis_values, viet_uniform_distr_a, viet_uniform_distr_b)\nsb.lineplot(x=x_axis_values, y=norm_distr_pdf, color=\"#d9ad8e\", linewidth=3)\nsb.lineplot(x=x_axis_values, y=expon_distr_pdf, color=\"#d9d38e\", linewidth=3)\nsb.lineplot(x=x_axis_values, y=uniform_distr_pdf, color=\"#d98e95\", linewidth=3)\nplt.show()",
   "outputs": [
    {
     "data": {
      "text/plain": "<Figure size 720x720 with 1 Axes>",
      "image/png": "[encoded data removed]"
     },
     "metadata": {
      "needs_background": "light",
      "image/png": {
       "width": 615,
       "height": 575
      }
     },
     "output_type": "display_data"
    }
   ],
   "execution_count": null
  },
  {
   "cell_type": "code",
   "metadata": {
    "cell_id": "00018-f03dc68e-43bf-4b04-8ecd-7f5bce36d5dc",
    "deepnote_to_be_reexecuted": false,
    "source_hash": "201ef167",
    "execution_start": 1638742756490,
    "execution_millis": 11,
    "deepnote_cell_type": "code"
   },
   "source": "### other group - estimated distribution parameters\n\nother_norm_distr_expected_value, other_norm_distr_std_deviance = norm.fit(data_other.Dioxin, method=\"MLE\")\nother_expon_distr_expected_value, other_expon_distr_std_deviance = expon.fit(data_other.Dioxin, method=\"MLE\")\nother_uniform_distr_a, other_uniform_distr_b = uniform.fit(data_other.Dioxin, method=\"MLE\") \n\nprint(\"Other group - estimated distribution parameters\")\nprint(\">>> Normal distribution -> 𝝁 = {}, 𝛔 = {}\".format(\n    other_norm_distr_expected_value,\n    other_norm_distr_std_deviance\n))\nprint(\">>> Exponential distribution -> 𝛌 = {}\".format(\n    1 / other_expon_distr_std_deviance\n))\nprint(\">>> Uniform distribution -> 𝐚 = {}, 𝐛 = {}\".format(\n    other_uniform_distr_a, other_uniform_distr_b\n))",
   "outputs": [
    {
     "name": "stdout",
     "text": "Other group - estimated distribution parameters\n>>> Normal distribution -> 𝝁 = 4.185567010309279, 𝛔 = 2.2899596940009213\n>>> Exponential distribution -> 𝛌 = 0.23891625615763545\n>>> Uniform distribution -> 𝐚 = 0.0, 𝐛 = 15.0\n",
     "output_type": "stream"
    }
   ],
   "execution_count": null
  },
  {
   "cell_type": "code",
   "metadata": {
    "cell_id": "00019-256435bf-6e5c-4bad-9110-89fc6ce3c75c",
    "deepnote_to_be_reexecuted": false,
    "source_hash": "e6d2c3e2",
    "deepnote_output_heights": [
     577
    ],
    "execution_start": 1638742756533,
    "execution_millis": 483,
    "deepnote_cell_type": "code"
   },
   "source": "fig, ax = plt.subplots(figsize=(10, 10))\nsb.histplot(\n    data=data_other,\n    bins=20,\n    stat=\"density\",\n    kde=False\n)\n_, xmax = plt.xlim()\nx_axis_values = np.linspace(0, xmax, 100)\nnorm_distr_pdf = norm.pdf(x_axis_values, other_norm_distr_expected_value, other_norm_distr_std_deviance)\nexpon_distr_pdf = expon.pdf(x_axis_values, other_expon_distr_expected_value, other_expon_distr_std_deviance)\nuniform_distr_pdf = uniform.pdf(x_axis_values, other_uniform_distr_a, other_uniform_distr_b)\nsb.lineplot(x=x_axis_values, y=norm_distr_pdf, color=\"#d9ad8e\", linewidth=3)\nsb.lineplot(x=x_axis_values, y=expon_distr_pdf, color=\"#d9d38e\", linewidth=3)\nsb.lineplot(x=x_axis_values, y=uniform_distr_pdf, color=\"#d98e95\", linewidth=3)\nplt.show()",
   "outputs": [
    {
     "data": {
      "text/plain": "<Figure size 720x720 with 1 Axes>",
      "image/png": "[encoded data removed]"
     },
     "metadata": {
      "needs_background": "light",
      "image/png": {
       "width": 615,
       "height": 575
      }
     },
     "output_type": "display_data"
    }
   ],
   "execution_count": null
  },
  {
   "cell_type": "markdown",
   "source": "### Úkol 4 - Pro každou skupinu zvlášť vygenerujte náhodný výběr o 100 hodnotách z rozdělení, které jste zvolili jako nejbližší, s parametry odhadnutými v předchozím bodě. Porovnejte histogram simulovaných hodnot s pozorovanými daty.",
   "metadata": {
    "tags": [],
    "cell_id": "00020-b8a4a0ac-05d8-4144-b569-c88bd514f9a3",
    "deepnote_cell_type": "markdown"
   }
  },
  {
   "cell_type": "code",
   "source": "viet_rand_normal = np.random.normal(loc=viet_norm_distr_expected_value, scale=viet_norm_distr_std_deviance, size=100)\nother_rand_normal = np.random.normal(loc=other_norm_distr_expected_value, scale=other_norm_distr_std_deviance, size=100)\n\nfig, axs = plt.subplots(nrows=1, ncols=2, figsize=(10, 10))\n\nsb.histplot(\n    data_vietnam,\n    bins=20,\n    stat=\"density\",\n    ax=axs[0]\n)\nsb.histplot(\n    viet_rand_normal,\n    bins=20,\n    stat=\"density\",\n    ax=axs[0]\n)\n\nsb.histplot(\n    data_other,\n    bins=20,\n    stat=\"density\",\n    ax=axs[1]\n)\nsb.histplot(\n    other_rand_normal,\n    bins=20,\n    stat=\"density\",\n    ax=axs[1]\n)\naxs[0].set_title(\"Vietnam group\")\naxs[1].set_title(\"Other group\")\nplt.show()\n\n",
   "metadata": {
    "tags": [],
    "cell_id": "00022-9ecb2e5b-b762-4dcb-97c7-5adc8bcba797",
    "deepnote_to_be_reexecuted": false,
    "source_hash": "1b385c49",
    "execution_start": 1638742757092,
    "execution_millis": 901,
    "deepnote_output_heights": [
     592,
     21.1875,
     577
    ],
    "deepnote_cell_type": "code"
   },
   "outputs": [
    {
     "data": {
      "text/plain": "<Figure size 720x720 with 2 Axes>",
      "image/png": "[encoded data removed]"
     },
     "metadata": {
      "needs_background": "light",
      "image/png": {
       "width": 622,
       "height": 590
      }
     },
     "output_type": "display_data"
    }
   ],
   "execution_count": null
  },
  {
   "cell_type": "markdown",
   "source": "### Úkol 5 - Spočítat oboustranný 95% konfidenční interval pro střední hodnotu",
   "metadata": {
    "tags": [],
    "cell_id": "00023-9f3f03c7-ca25-4e79-8f48-e0941d9996e8",
    "deepnote_cell_type": "markdown"
   }
  },
  {
   "cell_type": "code",
   "source": "### vietnam group - 95% confidence interval for expected value\n\nmean = data_vietnam.Dioxin.mean()\nstd = data_vietnam.Dioxin.std()\ncount = data_vietnam.Dioxin.count()\nt = students_t_distr.ppf(q=1-0.025, df=count - 1)\nL_viet = mean - t * std / math.sqrt(count)\nU_viet = mean + t * std / math.sqrt(count)\nprint(\">>> ({}, {})\".format(L_viet, U_viet))",
   "metadata": {
    "tags": [],
    "cell_id": "00024-8158697b-03f6-4509-af78-23492816bd1f",
    "deepnote_to_be_reexecuted": false,
    "source_hash": "982f7adf",
    "execution_start": 1638742757998,
    "execution_millis": 9,
    "deepnote_output_heights": [
     21.1875
    ],
    "deepnote_cell_type": "code"
   },
   "outputs": [
    {
     "name": "stdout",
     "text": ">>> (4.05589668169332, 4.464227157315968)\n",
     "output_type": "stream"
    }
   ],
   "execution_count": null
  },
  {
   "cell_type": "code",
   "source": "### other group - 95% confidence interval for expected value\n\nmean = data_other.Dioxin.mean()\nstd = data_other.Dioxin.std()\ncount = data_other.Dioxin.count()\nt = students_t_distr.ppf(q=1-0.025, df=count - 1)\nL_other = mean - t * std / math.sqrt(count)\nU_other = mean + t * std / math.sqrt(count)\nprint(\">>> ({}, {})\".format(L_other, U_other))",
   "metadata": {
    "tags": [],
    "cell_id": "00024-bf7eee07-85b0-4572-b2ec-3a20cac08f29",
    "deepnote_to_be_reexecuted": false,
    "source_hash": "1639d54c",
    "execution_start": 1638742757999,
    "execution_millis": 1,
    "deepnote_cell_type": "code"
   },
   "outputs": [
    {
     "name": "stdout",
     "text": ">>> (3.721640382345717, 4.64949363827284)\n",
     "output_type": "stream"
    }
   ],
   "execution_count": null
  },
  {
   "cell_type": "markdown",
   "source": "### Úkol 6 - Pro každou skupinu zvlášť na hladině významnosti 5% otestovat hypotézu, zda je střední hodnota rovna hodnotě K (parametr úlohy), proti oboustranné alternativě.",
   "metadata": {
    "tags": [],
    "cell_id": "00025-fd50e6f2-9812-4367-8d8d-a8b6a98fd151",
    "deepnote_cell_type": "markdown"
   }
  },
  {
   "cell_type": "code",
   "source": "### vietnam_group - \n\nK = 16\nviet_statistic, viet_pvalue = ttest_1samp(data_vietnam.Dioxin, K, alternative=\"two-sided\")\nprint(\">>> {}, {}\".format(viet_statistic, viet_pvalue))",
   "metadata": {
    "tags": [],
    "cell_id": "00026-fed6ca3f-02e2-4430-9a1b-42859180dc66",
    "deepnote_to_be_reexecuted": false,
    "source_hash": "585e0a30",
    "execution_start": 1638743522846,
    "execution_millis": 16,
    "deepnote_cell_type": "code"
   },
   "outputs": [
    {
     "name": "stdout",
     "text": ">>> -112.9140034470014, 0.0\n",
     "output_type": "stream"
    }
   ],
   "execution_count": null
  },
  {
   "cell_type": "code",
   "source": "### other group - \n\nK = 16\nother_statistic, other_pvalue = ttest_1samp(data_other.Dioxin, K)\nprint(\">>> {}, {}\".format(other_statistic, other_pvalue))",
   "metadata": {
    "tags": [],
    "cell_id": "00027-cade4233-0abd-4b06-a974-da665d152005",
    "deepnote_to_be_reexecuted": false,
    "source_hash": "3431023f",
    "execution_start": 1638743519877,
    "execution_millis": 7,
    "deepnote_cell_type": "code"
   },
   "outputs": [
    {
     "name": "stdout",
     "text": ">>> -50.549941993930965, 5.5021882620358755e-71\n",
     "output_type": "stream"
    }
   ],
   "execution_count": null
  },
  {
   "cell_type": "markdown",
   "source": "<a style='text-decoration:none;line-height:16px;display:flex;color:#5B5B62;padding:10px;justify-content:end;' href='https://deepnote.com?utm_source=created-in-deepnote-cell&projectId=fcd8b0ca-b769-4563-9a65-d5fc52b93e84' target=\"_blank\">\n<img alt='Created in deepnote.com' style='display:inline;max-height:16px;margin:0px;margin-right:7.5px;' src='data:image/svg+xml;base64,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' > </img>\nCreated in <span style='font-weight:600;margin-left:4px;'>Deepnote</span></a>",
   "metadata": {
    "tags": [],
    "created_in_deepnote_cell": true,
    "deepnote_cell_type": "markdown"
   }
  }
 ],
 "nbformat": 4,
 "nbformat_minor": 5,
 "metadata": {
  "kernelspec": {
   "display_name": "Python 3 (ipykernel)",
   "language": "python",
   "name": "python3"
  },
  "language_info": {
   "codemirror_mode": {
    "name": "ipython",
    "version": 3
   },
   "file_extension": ".py",
   "mimetype": "text/x-python",
   "name": "python",
   "nbconvert_exporter": "python",
   "pygments_lexer": "ipython3",
   "version": "3.10.0"
  },
  "deepnote_notebook_id": "b5ac4284-c61d-4b7c-add8-23b978a96304",
  "deepnote": {},
  "deepnote_execution_queue": []
 }
}