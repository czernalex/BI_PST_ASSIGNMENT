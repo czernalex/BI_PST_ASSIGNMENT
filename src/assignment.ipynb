{
 "cells": [
  {
   "cell_type": "markdown",
   "id": "94dde015-1f31-464c-b227-a8b35e7e4015",
   "metadata": {},
   "source": [
    "![FIT_CTU_LOGO](https://fit.cvut.cz/media-a-pr/corporate-identity/logo-fit-en-cerna.svg)\n",
    "# FIT ČVUT v Praze, [BI-PST](https://courses.fit.cvut.cz/BI-PST), ZS 2021/2022\n",
    "## Domácí úloha - Daniel Bukač, Alexandr Czerný\n",
    "## Data a parametry\n",
    "Ze své trojice vyberte reprezentanta. Úlohu odevzdejte cvičícímu, ke kterému reprezentant přísluší podle původního přiřazení paralelek v Kosu. Parametry úlohy spočtěte následovně:\n",
    "\n",
    "- K = den narození reprezentanta skupiny (1-31),\n",
    "- L = počet písmen v příjmení reprezentanta,\n",
    "- M = ((K+L)*47)mod(11)+1.\n",
    "\n",
    "Načtěte datový soubor z R knihovny Sleuth2 podle následující tabulky:\n",
    "\n",
    "|M|Datový soubor|Popis|\n",
    "|:-:|:-------------:|:-----|\n",
    "|1|case0101|skóre v kreativitě dle typu motivace|\n",
    "|2|case0102|mzda dle pohlaví|\n",
    "|3|case0201|délka humeru dle přežití vrabců|\n",
    "|4|case0202|objem hipokampu dle schizofrenie|\n",
    "|5|case0301|srážky dle ošetření mraků|\n",
    "|6|case0302|koncentrace dioxinu dle vojenského působiště|\n",
    "|7|case0402|doba řešení úkolu dle typu výuky geometrie|\n",
    "|8|ex0112|krevní tlak dle diety|\n",
    "|9|ex0211|přežití morčat dle typu experimentu|\n",
    "|10|ex0221|váha dle přežití vrabců|\n",
    "|11|ex0222|hladina cholesterolu dle prostředí|\n",
    "\n",
    "## Úkoly\n",
    "\n",
    "1. **(1b)** Načtěte datový soubor a rozdělte sledovanou proměnnou na příslušné dvě pozorované skupiny. Stručně popište data a zkoumaný problém. Pro každu skupinu zvlášť odhadněte střední hodnotu, rozptyl a medián příslušného rozdělení.\n",
    "2. **(1b)** Pro každou skupinu zvlášť odhadněte hustotu a distribuční funkci pomocí histogramu a empirické distribuční funkce.\n",
    "3. **(3b)** Pro každou skupinu zvlášť najděte nejbližší rozdělení: Odhadněte parametry normálního, exponenciálního a rovnoměrného rozdělení. Zaneste příslušné hustoty s odhadnutými parametry do grafů histogramu. Diskutujte, které z rozdělení odpovídá pozorovaným datům nejlépe.\n",
    "4. **(1b)** Pro každou skupinu zvlášť vygenerujte náhodný výběr o 100 hodnotách z rozdělení, které jste zvolili jako nejbližší, s parametry odhadnutými v předchozím bodě. Porovnejte histogram simulovaných hodnot s pozorovanými daty.\n",
    "5. **(1b)** Pro každou skupinu zvlášť spočítejte oboustranný 95% konfidenční interval pro střední hodnotu.\n",
    "6. **(1b)** Pro každou skupinu zvlášť otestujte na hladině významnosti 5 % hypotézu, zda je střední hodnota rovná hodnotě K (parametr úlohy), proti oboustranné alternativě. Můžete použít buď výsledek z předešlého bodu, nebo výstup z příslušné vestavěné funkce vašeho softwaru.\n",
    "7. **(2b)** Na hladině významnosti 5 % otestujte, jestli mají pozorované skupiny stejnou střední hodnotu. Typ testu a alternativy stanovte tak, aby vaše volba nejlépe korespondovala s povahou zkoumaného problému."
   ]
  },
  {
   "cell_type": "markdown",
   "id": "be3465c2-40b9-4f63-b25e-9e31df184a6d",
   "metadata": {
    "tags": []
   },
   "source": [
    "### Retrieve dataset from R lib"
   ]
  },
  {
   "cell_type": "code",
   "execution_count": 127,
   "id": "530872f3-97a0-441f-b199-8ea134ee4ec3",
   "metadata": {},
   "outputs": [],
   "source": [
    "### import required libraries\n",
    "\n",
    "import pandas as pd\n",
    "import numpy as np\n",
    "import seaborn as sb\n",
    "import matplotlib.pyplot as plt\n",
    "\n",
    "from scipy.stats import norm, expon, uniform"
   ]
  },
  {
   "cell_type": "markdown",
   "id": "e3ee40d5-c530-4e64-aa7f-5fb0854ef871",
   "metadata": {},
   "source": [
    "Podle následujícího výpočtu jsme zvolili datovou sadu **case0302**:"
   ]
  },
  {
   "cell_type": "code",
   "execution_count": 64,
   "id": "d89b2c48-93a8-41aa-8919-94b305796dc6",
   "metadata": {},
   "outputs": [
    {
     "data": {
      "text/plain": [
       "6"
      ]
     },
     "metadata": {},
     "output_type": "display_data"
    }
   ],
   "source": [
    "K = 15\n",
    "L = len(\"Bukac\")\n",
    "M = ((K + L) * 47) % (11) + 1\n",
    "display(6)"
   ]
  },
  {
   "cell_type": "markdown",
   "id": "46b66bc7-1e1e-4686-b71e-0cc84106d52f",
   "metadata": {},
   "source": [
    "### Úkol 1 - Načtení a rozdělení datové sady, popis zkoumaných dat, odhad střední hodnoty, rozpylu a mediánu příslušného rozdělení"
   ]
  },
  {
   "cell_type": "code",
   "execution_count": 65,
   "id": "d4e64d22-2adc-4327-b5c4-ae3321029c70",
   "metadata": {},
   "outputs": [
    {
     "data": {
      "text/html": [
       "<div>\n",
       "<style scoped>\n",
       "    .dataframe tbody tr th:only-of-type {\n",
       "        vertical-align: middle;\n",
       "    }\n",
       "\n",
       "    .dataframe tbody tr th {\n",
       "        vertical-align: top;\n",
       "    }\n",
       "\n",
       "    .dataframe thead th {\n",
       "        text-align: right;\n",
       "    }\n",
       "</style>\n",
       "<table border=\"1\" class=\"dataframe\">\n",
       "  <thead>\n",
       "    <tr style=\"text-align: right;\">\n",
       "      <th></th>\n",
       "      <th>Dioxin</th>\n",
       "      <th>Veteran</th>\n",
       "    </tr>\n",
       "  </thead>\n",
       "  <tbody>\n",
       "    <tr>\n",
       "      <th>0</th>\n",
       "      <td>0</td>\n",
       "      <td>Vietnam</td>\n",
       "    </tr>\n",
       "    <tr>\n",
       "      <th>1</th>\n",
       "      <td>0</td>\n",
       "      <td>Vietnam</td>\n",
       "    </tr>\n",
       "    <tr>\n",
       "      <th>2</th>\n",
       "      <td>0</td>\n",
       "      <td>Vietnam</td>\n",
       "    </tr>\n",
       "    <tr>\n",
       "      <th>3</th>\n",
       "      <td>0</td>\n",
       "      <td>Vietnam</td>\n",
       "    </tr>\n",
       "    <tr>\n",
       "      <th>4</th>\n",
       "      <td>0</td>\n",
       "      <td>Vietnam</td>\n",
       "    </tr>\n",
       "    <tr>\n",
       "      <th>...</th>\n",
       "      <td>...</td>\n",
       "      <td>...</td>\n",
       "    </tr>\n",
       "    <tr>\n",
       "      <th>738</th>\n",
       "      <td>9</td>\n",
       "      <td>Other</td>\n",
       "    </tr>\n",
       "    <tr>\n",
       "      <th>739</th>\n",
       "      <td>9</td>\n",
       "      <td>Other</td>\n",
       "    </tr>\n",
       "    <tr>\n",
       "      <th>740</th>\n",
       "      <td>10</td>\n",
       "      <td>Other</td>\n",
       "    </tr>\n",
       "    <tr>\n",
       "      <th>741</th>\n",
       "      <td>11</td>\n",
       "      <td>Other</td>\n",
       "    </tr>\n",
       "    <tr>\n",
       "      <th>742</th>\n",
       "      <td>15</td>\n",
       "      <td>Other</td>\n",
       "    </tr>\n",
       "  </tbody>\n",
       "</table>\n",
       "<p>743 rows × 2 columns</p>\n",
       "</div>"
      ],
      "text/plain": [
       "     Dioxin  Veteran\n",
       "0         0  Vietnam\n",
       "1         0  Vietnam\n",
       "2         0  Vietnam\n",
       "3         0  Vietnam\n",
       "4         0  Vietnam\n",
       "..      ...      ...\n",
       "738       9    Other\n",
       "739       9    Other\n",
       "740      10    Other\n",
       "741      11    Other\n",
       "742      15    Other\n",
       "\n",
       "[743 rows x 2 columns]"
      ]
     },
     "metadata": {},
     "output_type": "display_data"
    }
   ],
   "source": [
    "### load and split dataset\n",
    "\n",
    "data = pd.read_csv(\"./data.csv\")\n",
    "data_vietnam = data[data.Veteran == \"Vietnam\"]\n",
    "data_other = data[~(data.Veteran == \"Vietnam\")]\n",
    "display(data)"
   ]
  },
  {
   "cell_type": "code",
   "execution_count": 66,
   "id": "1c8b12dc-ed49-45e6-bc54-fdcfda02d471",
   "metadata": {},
   "outputs": [
    {
     "name": "stdout",
     "output_type": "stream",
     "text": [
      "Vietnam group estimated values:\n",
      ">>> Expected value: 4.260061919504644\n",
      ">>> Variance: 6.98342573259414\n",
      ">>> Median: 4.0\n",
      "\n",
      "Other group estimated values:\n",
      ">>> Expected value: 4.185567010309279\n",
      ">>> Variance: 5.298539518900344\n",
      ">>> Median: 4.0\n"
     ]
    }
   ],
   "source": [
    "### estimate expected value, variance and median of given distributions\n",
    "\n",
    "### vietnam group estimations\n",
    "E_vietnam = data_vietnam.Dioxin.mean()\n",
    "VAR_vietnam = data_vietnam.Dioxin.var()\n",
    "median_vietnam = data_vietnam.Dioxin.median()\n",
    "\n",
    "### other group estimations\n",
    "E_other = data_other.Dioxin.mean()\n",
    "VAR_other = data_other.Dioxin.var()\n",
    "median_other = data_other.Dioxin.median()\n",
    "\n",
    "print(\"Vietnam group estimated values:\")\n",
    "print(\">>> Expected value:\", E_vietnam)\n",
    "print(\">>> Variance:\", VAR_vietnam)\n",
    "print(\">>> Median:\", median_vietnam)\n",
    "print()\n",
    "print(\"Other group estimated values:\")\n",
    "print(\">>> Expected value:\", E_other)\n",
    "print(\">>> Variance:\", VAR_other)\n",
    "print(\">>> Median:\", median_other)"
   ]
  },
  {
   "cell_type": "markdown",
   "id": "b15a699a-fabf-497c-b86c-992f555a29dd",
   "metadata": {},
   "source": [
    "### Úkol 2 - Odhad hustoty a distribuční funkce pomocí histogramu a empirické distribuční funkce pro jednotlivá rozdělení"
   ]
  },
  {
   "cell_type": "code",
   "execution_count": 67,
   "id": "bdb3e63f-bb1d-49b1-8049-b89b02b02f1a",
   "metadata": {},
   "outputs": [
    {
     "data": {
      "text/plain": [
       "[Text(0.5, 1.0, 'Vietnam group - estimate of the distribution using histogram'),\n",
       " Text(0.5, 0, 'Dioxin concentration')]"
      ]
     },
     "execution_count": 67,
     "metadata": {},
     "output_type": "execute_result"
    },
    {
     "data": {
      "image/png": "[encoded data removed]",
      "text/plain": [
       "<Figure size 432x288 with 1 Axes>"
      ]
     },
     "metadata": {
      "needs_background": "light"
     },
     "output_type": "display_data"
    }
   ],
   "source": [
    "ax = sb.histplot(\n",
    "    data=data_vietnam,\n",
    "    bins=20,\n",
    "    stat=\"density\"\n",
    ")\n",
    "ax.set(\n",
    "    title=\"Vietnam group - estimate of the distribution using histogram\",\n",
    "    xlabel=\"Dioxin concentration\"\n",
    ")"
   ]
  },
  {
   "cell_type": "code",
   "execution_count": 68,
   "id": "c008dc2b-50cd-45e3-97c9-e01df69a967f",
   "metadata": {},
   "outputs": [
    {
     "data": {
      "text/plain": [
       "[Text(0.5, 1.0, 'Other group - estimate of the distribution using histogram'),\n",
       " Text(0.5, 0, 'Dioxin concentration')]"
      ]
     },
     "execution_count": 68,
     "metadata": {},
     "output_type": "execute_result"
    },
    {
     "data": {
      "image/png": "[encoded data removed]",
      "text/plain": [
       "<Figure size 432x288 with 1 Axes>"
      ]
     },
     "metadata": {
      "needs_background": "light"
     },
     "output_type": "display_data"
    }
   ],
   "source": [
    "ax = sb.histplot(\n",
    "    data=data_other,\n",
    "    bins=20,\n",
    "    stat=\"density\"\n",
    ")\n",
    "ax.set(\n",
    "    title=\"Other group - estimate of the distribution using histogram\",\n",
    "    xlabel=\"Dioxin concentration\"\n",
    ")"
   ]
  },
  {
   "cell_type": "code",
   "execution_count": 69,
   "id": "88584e67-f102-4345-97ef-f083ef77ef3a",
   "metadata": {},
   "outputs": [
    {
     "data": {
      "text/plain": [
       "[Text(0.5, 1.0, 'Vietnam group - estimate of the distribution using empirical distribution function'),\n",
       " Text(0.5, 0, 'Dioxin concentration')]"
      ]
     },
     "execution_count": 69,
     "metadata": {},
     "output_type": "execute_result"
    },
    {
     "data": {
      "image/png": "[encoded data removed]",
      "text/plain": [
       "<Figure size 432x288 with 1 Axes>"
      ]
     },
     "metadata": {
      "needs_background": "light"
     },
     "output_type": "display_data"
    }
   ],
   "source": [
    "ax = sb.ecdfplot(data=data_vietnam)\n",
    "ax.set(\n",
    "    title=\"Vietnam group - estimate of the distribution using empirical distribution function\",\n",
    "    xlabel=\"Dioxin concentration\"\n",
    ")"
   ]
  },
  {
   "cell_type": "code",
   "execution_count": 70,
   "id": "32176aec-4432-4d84-b1d2-fcea03d52272",
   "metadata": {},
   "outputs": [
    {
     "data": {
      "text/plain": [
       "[Text(0.5, 1.0, 'Other group - estimate of the distribution using empirical distribution function'),\n",
       " Text(0.5, 0, 'Dioxin concentration')]"
      ]
     },
     "execution_count": 70,
     "metadata": {},
     "output_type": "execute_result"
    },
    {
     "data": {
      "image/png": "[encoded data removed]",
      "text/plain": [
       "<Figure size 432x288 with 1 Axes>"
      ]
     },
     "metadata": {
      "needs_background": "light"
     },
     "output_type": "display_data"
    }
   ],
   "source": [
    "ax = sb.ecdfplot(data=data_other)\n",
    "ax.set(\n",
    "    title=\"Other group - estimate of the distribution using empirical distribution function\",\n",
    "    xlabel=\"Dioxin concentration\"\n",
    ")"
   ]
  },
  {
   "cell_type": "code",
   "execution_count": 119,
   "id": "39b43c36-927f-4031-8dae-5c4db677797d",
   "metadata": {},
   "outputs": [
    {
     "data": {
      "text/plain": [
       "[Text(0.5, 1.0, 'Vietnam group - density estimation of the distribution'),\n",
       " Text(0.5, 0, 'Dioxin concentration')]"
      ]
     },
     "execution_count": 119,
     "metadata": {},
     "output_type": "execute_result"
    },
    {
     "data": {
      "image/png": "[encoded data removed]",
      "text/plain": [
       "<Figure size 432x288 with 1 Axes>"
      ]
     },
     "metadata": {
      "needs_background": "light"
     },
     "output_type": "display_data"
    }
   ],
   "source": [
    "ax = sb.kdeplot(data=data_vietnam, bw_adjust=.75)\n",
    "ax.set(\n",
    "    title=\"Vietnam group - density estimation of the distribution\",\n",
    "    xlabel=\"Dioxin concentration\"\n",
    ")"
   ]
  },
  {
   "cell_type": "code",
   "execution_count": 120,
   "id": "6250eb30-cff2-431a-8bd2-72010fe1d34e",
   "metadata": {},
   "outputs": [
    {
     "data": {
      "text/plain": [
       "[Text(0.5, 1.0, 'Other group - density estimation of the distribtuin'),\n",
       " Text(0.5, 0, 'Dioxin concentration')]"
      ]
     },
     "execution_count": 120,
     "metadata": {},
     "output_type": "execute_result"
    },
    {
     "data": {
      "image/png": "[encoded data removed]",
      "text/plain": [
       "<Figure size 432x288 with 1 Axes>"
      ]
     },
     "metadata": {
      "needs_background": "light"
     },
     "output_type": "display_data"
    }
   ],
   "source": [
    "ax = sb.kdeplot(data=data_other, bw_adjust=.75)\n",
    "ax.set(\n",
    "    title=\"Other group - density estimation of the distribtuin\",\n",
    "    xlabel=\"Dioxin concentration\"\n",
    ")"
   ]
  },
  {
   "cell_type": "markdown",
   "id": "c2e67b6a-f897-4ce4-826b-943bc7580d7d",
   "metadata": {},
   "source": [
    "### Úkol 3 - Pro každou skupinu zvlášť odhadnout parametry normálního, exponenciálního a rovnoměrného rozdělení. Dále zanést příslušné hustoty s odhadnutými parametry do histogramu dané skupiny. Diskuse, které z rozdělení nejlépe odpovídá pozorovaným datům"
   ]
  },
  {
   "cell_type": "code",
   "execution_count": 137,
   "id": "7cf09508-8653-4ad5-bbbb-21453f9c6be6",
   "metadata": {},
   "outputs": [
    {
     "data": {
      "image/png": "[encoded data removed]",
      "text/plain": [
       "<Figure size 432x288 with 1 Axes>"
      ]
     },
     "metadata": {
      "needs_background": "light"
     },
     "output_type": "display_data"
    }
   ],
   "source": [
    "### Vietnam group - normal distr\n",
    "# norm_distr_expected_value, norm_distr_variance = norm.fit(data_vietnam.Dioxin, method=\"MLE\")\n",
    "# expon_distr_lambda = expon.fit(data_vietnam.Dioxin, method=\"MLE\")\n",
    "# uniform_distr_a, uniform_distr_b = uniform.fit(data_vietnam.Dioxin, method=\"MLE\")\n",
    "\n",
    "# display(\n",
    "#     norm_distr_expected_value,\n",
    "#     norm_distr_variance,\n",
    "#     expon_distr_lambda,\n",
    "#     uniform_distr_a,\n",
    "#     uniform_distr_b\n",
    "# )\n",
    "\n",
    "mu, o = norm.fit(data_vietnam.Dioxin, method=\"MLE\")\n",
    "\n",
    "fig, ax = plt.subplots()\n",
    "\n",
    "# ax = sb.histplot(data=data_vietnam, bins=20)\n",
    "\n",
    "ax.hist(data_vietnam.Dioxin, bins=20)\n",
    "\n",
    "xmin, xmax = plt.xlim()\n",
    "x = np.linspace(xmin, xmax, 100)\n",
    "p = norm.pdf(x, mu, o)\n",
    "ax.plot(x, p, 'k')\n",
    "plt.show()"
   ]
  },
  {
   "cell_type": "code",
   "execution_count": 85,
   "id": "1f6305b8-58e4-46b5-9bc8-84fa271f1e7a",
   "metadata": {},
   "outputs": [
    {
     "data": {
      "text/plain": [
       "4.185567010309279"
      ]
     },
     "metadata": {},
     "output_type": "display_data"
    },
    {
     "data": {
      "text/plain": [
       "2.2899596940009213"
      ]
     },
     "metadata": {},
     "output_type": "display_data"
    },
    {
     "data": {
      "text/plain": [
       "(0.0, 4.185567010309279)"
      ]
     },
     "metadata": {},
     "output_type": "display_data"
    },
    {
     "data": {
      "text/plain": [
       "0.0"
      ]
     },
     "metadata": {},
     "output_type": "display_data"
    },
    {
     "data": {
      "text/plain": [
       "15.0"
      ]
     },
     "metadata": {},
     "output_type": "display_data"
    }
   ],
   "source": [
    "norm_distr_expected_value, norm_distr_variance = norm.fit(data_other.Dioxin, method=\"MLE\")\n",
    "expon_distr_lambda = expon.fit(data_other.Dioxin, method=\"MLE\")\n",
    "uniform_distr_a, uniform_distr_b = uniform.fit(data_other.Dioxin, method=\"MLE\") \n",
    "\n",
    "display(\n",
    "    norm_distr_expected_value,\n",
    "    norm_distr_variance,\n",
    "    expon_distr_lambda,\n",
    "    uniform_distr_a,\n",
    "    uniform_distr_b\n",
    ")"
   ]
  }
 ],
 "metadata": {
  "kernelspec": {
   "display_name": "Python 3",
   "language": "python",
   "name": "python3"
  },
  "language_info": {
   "codemirror_mode": {
    "name": "ipython",
    "version": 3
   },
   "file_extension": ".py",
   "mimetype": "text/x-python",
   "name": "python",
   "nbconvert_exporter": "python",
   "pygments_lexer": "ipython3",
   "version": "3.8.10"
  }
 },
 "nbformat": 4,
 "nbformat_minor": 5
}
