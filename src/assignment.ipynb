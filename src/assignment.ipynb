{
 "cells": [
  {
   "cell_type": "markdown",
   "id": "3fec790b",
   "metadata": {
    "cell_id": "00000-17d9ab40-0233-4a55-9f56-8f9f3686c59e",
    "deepnote_cell_type": "markdown"
   },
   "source": [
    "![FIT_CTU_LOGO](https://fit.cvut.cz/media-a-pr/corporate-identity/logo-fit-en-cerna.svg)\n",
    "# FIT ČVUT v Praze, [BI-PST](https://courses.fit.cvut.cz/BI-PST), ZS 2021/2022\n",
    "## Domácí úloha - Daniel Bukač, Alexandr Czerný\n",
    "## Data a parametry\n",
    "Ze své trojice vyberte reprezentanta. Úlohu odevzdejte cvičícímu, ke kterému reprezentant přísluší podle původního přiřazení paralelek v Kosu. Parametry úlohy spočtěte následovně:\n",
    "\n",
    "- K = den narození reprezentanta skupiny (1-31),\n",
    "- L = počet písmen v příjmení reprezentanta,\n",
    "- M = ((K+L)*47)mod(11)+1.\n",
    "\n",
    "Načtěte datový soubor z R knihovny Sleuth2 podle následující tabulky:\n",
    "\n",
    "|M|Datový soubor|Popis|\n",
    "|:-:|:-------------:|:-----|\n",
    "|1|case0101|skóre v kreativitě dle typu motivace|\n",
    "|2|case0102|mzda dle pohlaví|\n",
    "|3|case0201|délka humeru dle přežití vrabců|\n",
    "|4|case0202|objem hipokampu dle schizofrenie|\n",
    "|5|case0301|srážky dle ošetření mraků|\n",
    "|6|case0302|koncentrace dioxinu dle vojenského působiště|\n",
    "|7|case0402|doba řešení úkolu dle typu výuky geometrie|\n",
    "|8|ex0112|krevní tlak dle diety|\n",
    "|9|ex0211|přežití morčat dle typu experimentu|\n",
    "|10|ex0221|váha dle přežití vrabců|\n",
    "|11|ex0222|hladina cholesterolu dle prostředí|\n",
    "\n",
    "## Úkoly\n",
    "\n",
    "1. **(1b)** Načtěte datový soubor a rozdělte sledovanou proměnnou na příslušné dvě pozorované skupiny. Stručně popište data a zkoumaný problém. Pro každu skupinu zvlášť odhadněte střední hodnotu, rozptyl a medián příslušného rozdělení.\n",
    "2. **(1b)** Pro každou skupinu zvlášť odhadněte hustotu a distribuční funkci pomocí histogramu a empirické distribuční funkce.\n",
    "3. **(3b)** Pro každou skupinu zvlášť najděte nejbližší rozdělení: Odhadněte parametry normálního, exponenciálního a rovnoměrného rozdělení. Zaneste příslušné hustoty s odhadnutými parametry do grafů histogramu. Diskutujte, které z rozdělení odpovídá pozorovaným datům nejlépe.\n",
    "4. **(1b)** Pro každou skupinu zvlášť vygenerujte náhodný výběr o 100 hodnotách z rozdělení, které jste zvolili jako nejbližší, s parametry odhadnutými v předchozím bodě. Porovnejte histogram simulovaných hodnot s pozorovanými daty.\n",
    "5. **(1b)** Pro každou skupinu zvlášť spočítejte oboustranný 95% konfidenční interval pro střední hodnotu.\n",
    "6. **(1b)** Pro každou skupinu zvlášť otestujte na hladině významnosti 5 % hypotézu, zda je střední hodnota rovná hodnotě K (parametr úlohy), proti oboustranné alternativě. Můžete použít buď výsledek z předešlého bodu, nebo výstup z příslušné vestavěné funkce vašeho softwaru.\n",
    "7. **(2b)** Na hladině významnosti 5 % otestujte, jestli mají pozorované skupiny stejnou střední hodnotu. Typ testu a alternativy stanovte tak, aby vaše volba nejlépe korespondovala s povahou zkoumaného problému."
   ]
  },
  {
   "cell_type": "markdown",
   "id": "1e9959a4",
   "metadata": {
    "cell_id": "00001-ad10fbb8-1dae-4879-b7de-ae7e0386ac3f",
    "deepnote_cell_type": "markdown",
    "tags": []
   },
   "source": [
    "### Retrieve dataset from R library"
   ]
  },
  {
   "cell_type": "code",
   "execution_count": 15,
   "id": "7e678a53",
   "metadata": {
    "cell_id": "00002-13257a54-43d8-4eb7-afa9-f8cddc17ed9d",
    "deepnote_cell_type": "code",
    "deepnote_to_be_reexecuted": false,
    "execution_millis": 1505,
    "execution_start": 1638742751888,
    "source_hash": "479d7c32"
   },
   "outputs": [],
   "source": [
    "### import required libraries\n",
    "\n",
    "import math\n",
    "import pandas as pd\n",
    "import numpy as np\n",
    "import seaborn as sb\n",
    "import matplotlib.pyplot as plt\n",
    "\n",
    "from scipy.stats import norm, expon, uniform, ttest_1samp, t as students_t_distr"
   ]
  },
  {
   "cell_type": "markdown",
   "id": "640b742d",
   "metadata": {
    "cell_id": "00003-2d98a674-f5e6-46b9-9dbd-b077f7218372",
    "deepnote_cell_type": "markdown"
   },
   "source": [
    "Podle následujícího výpočtu jsme zvolili datovou sadu **case0302**:"
   ]
  },
  {
   "cell_type": "code",
   "execution_count": 35,
   "id": "b84e674a",
   "metadata": {
    "cell_id": "00004-0960a6e8-5167-400b-9256-1fcbc2e58e94",
    "deepnote_cell_type": "code",
    "deepnote_output_heights": [
     21.1875
    ],
    "deepnote_to_be_reexecuted": false,
    "execution_millis": 3,
    "execution_start": 1638742753406,
    "source_hash": "eef2f5a5"
   },
   "outputs": [
    {
     "name": "stdout",
     "output_type": "stream",
     "text": [
      ">>> 6\n"
     ]
    }
   ],
   "source": [
    "K = 15\n",
    "L = len(\"Bukac\")\n",
    "M = ((K + L) * 47) % (11) + 1\n",
    "print(\">>> {}\".format(M))"
   ]
  },
  {
   "cell_type": "markdown",
   "id": "06886641",
   "metadata": {
    "cell_id": "00005-1d3dbef5-343f-4b4d-ad06-b7bc9e9a9e5b",
    "deepnote_cell_type": "markdown",
    "jp-MarkdownHeadingCollapsed": true,
    "tags": []
   },
   "source": [
    "### Úkol 1\n",
    "(1b) **Načtěte datový soubor a rozdělte sledovanou proměnnou na příslušné dvě pozorované skupiny. Stručně popište data a zkoumaný problém. Pro každu skupinu zvlášť odhadněte střední hodnotu, rozptyl a medián příslušného rozdělení.**\n",
    "\n",
    "**FIXME:** Discuss dataset and data structure"
   ]
  },
  {
   "cell_type": "code",
   "execution_count": 17,
   "id": "0d436749",
   "metadata": {
    "cell_id": "00006-a39e6c1a-e646-4d3e-9eba-2935eb7c3b47",
    "deepnote_cell_type": "code",
    "deepnote_output_heights": [
     382.1875
    ],
    "deepnote_to_be_reexecuted": false,
    "execution_millis": 67,
    "execution_start": 1638742753417,
    "source_hash": "c4c554bd"
   },
   "outputs": [
    {
     "data": {
      "text/html": [
       "<div>\n",
       "<style scoped>\n",
       "    .dataframe tbody tr th:only-of-type {\n",
       "        vertical-align: middle;\n",
       "    }\n",
       "\n",
       "    .dataframe tbody tr th {\n",
       "        vertical-align: top;\n",
       "    }\n",
       "\n",
       "    .dataframe thead th {\n",
       "        text-align: right;\n",
       "    }\n",
       "</style>\n",
       "<table border=\"1\" class=\"dataframe\">\n",
       "  <thead>\n",
       "    <tr style=\"text-align: right;\">\n",
       "      <th></th>\n",
       "      <th>Dioxin</th>\n",
       "      <th>Veteran</th>\n",
       "    </tr>\n",
       "  </thead>\n",
       "  <tbody>\n",
       "    <tr>\n",
       "      <th>0</th>\n",
       "      <td>0</td>\n",
       "      <td>Vietnam</td>\n",
       "    </tr>\n",
       "    <tr>\n",
       "      <th>1</th>\n",
       "      <td>0</td>\n",
       "      <td>Vietnam</td>\n",
       "    </tr>\n",
       "    <tr>\n",
       "      <th>2</th>\n",
       "      <td>0</td>\n",
       "      <td>Vietnam</td>\n",
       "    </tr>\n",
       "    <tr>\n",
       "      <th>3</th>\n",
       "      <td>0</td>\n",
       "      <td>Vietnam</td>\n",
       "    </tr>\n",
       "    <tr>\n",
       "      <th>4</th>\n",
       "      <td>0</td>\n",
       "      <td>Vietnam</td>\n",
       "    </tr>\n",
       "    <tr>\n",
       "      <th>...</th>\n",
       "      <td>...</td>\n",
       "      <td>...</td>\n",
       "    </tr>\n",
       "    <tr>\n",
       "      <th>738</th>\n",
       "      <td>9</td>\n",
       "      <td>Other</td>\n",
       "    </tr>\n",
       "    <tr>\n",
       "      <th>739</th>\n",
       "      <td>9</td>\n",
       "      <td>Other</td>\n",
       "    </tr>\n",
       "    <tr>\n",
       "      <th>740</th>\n",
       "      <td>10</td>\n",
       "      <td>Other</td>\n",
       "    </tr>\n",
       "    <tr>\n",
       "      <th>741</th>\n",
       "      <td>11</td>\n",
       "      <td>Other</td>\n",
       "    </tr>\n",
       "    <tr>\n",
       "      <th>742</th>\n",
       "      <td>15</td>\n",
       "      <td>Other</td>\n",
       "    </tr>\n",
       "  </tbody>\n",
       "</table>\n",
       "<p>743 rows × 2 columns</p>\n",
       "</div>"
      ],
      "text/plain": [
       "     Dioxin  Veteran\n",
       "0         0  Vietnam\n",
       "1         0  Vietnam\n",
       "2         0  Vietnam\n",
       "3         0  Vietnam\n",
       "4         0  Vietnam\n",
       "..      ...      ...\n",
       "738       9    Other\n",
       "739       9    Other\n",
       "740      10    Other\n",
       "741      11    Other\n",
       "742      15    Other\n",
       "\n",
       "[743 rows x 2 columns]"
      ]
     },
     "metadata": {},
     "output_type": "display_data"
    }
   ],
   "source": [
    "### load and split dataset\n",
    "\n",
    "data = pd.read_csv(\"./data.csv\")\n",
    "data_vietnam = data[data.Veteran == \"Vietnam\"]\n",
    "data_other = data[~(data.Veteran == \"Vietnam\")]\n",
    "\n",
    "### preview data\n",
    "display(data)"
   ]
  },
  {
   "cell_type": "code",
   "execution_count": 18,
   "id": "9fc5850a",
   "metadata": {
    "cell_id": "00007-fb81c604-a5b0-4fe8-bc2f-10c600a82a16",
    "deepnote_cell_type": "code",
    "deepnote_to_be_reexecuted": false,
    "execution_millis": 14,
    "execution_start": 1638742753488,
    "source_hash": "88256832"
   },
   "outputs": [
    {
     "name": "stdout",
     "output_type": "stream",
     "text": [
      "Vietnam group estimated values:\n",
      ">>> Expected value: 4.260061919504644\n",
      ">>> Variance: 6.98342573259414\n",
      ">>> Median: 4.0\n",
      "\n",
      "Other group estimated values:\n",
      ">>> Expected value: 4.185567010309279\n",
      ">>> Variance: 5.298539518900344\n",
      ">>> Median: 4.0\n"
     ]
    }
   ],
   "source": [
    "### estimate expected value, variance and median of given distributions\n",
    "\n",
    "### vietnam group estimations\n",
    "E_vietnam = data_vietnam.Dioxin.mean()\n",
    "VAR_vietnam = data_vietnam.Dioxin.var()\n",
    "median_vietnam = data_vietnam.Dioxin.median()\n",
    "\n",
    "### other group estimations\n",
    "E_other = data_other.Dioxin.mean()\n",
    "VAR_other = data_other.Dioxin.var()\n",
    "median_other = data_other.Dioxin.median()\n",
    "\n",
    "### display results\n",
    "print(\"Vietnam group estimated values:\")\n",
    "print(\">>> Expected value:\", E_vietnam)\n",
    "print(\">>> Variance:\", VAR_vietnam)\n",
    "print(\">>> Median:\", median_vietnam)\n",
    "print()\n",
    "print(\"Other group estimated values:\")\n",
    "print(\">>> Expected value:\", E_other)\n",
    "print(\">>> Variance:\", VAR_other)\n",
    "print(\">>> Median:\", median_other)"
   ]
  },
  {
   "cell_type": "markdown",
   "id": "33789cb3",
   "metadata": {
    "cell_id": "00008-3bfb56c3-de83-4bea-ba74-2afae966c27e",
    "deepnote_cell_type": "markdown",
    "jp-MarkdownHeadingCollapsed": true,
    "tags": []
   },
   "source": [
    "### Úkol 2\n",
    "(1b) **Pro každou skupinu zvlášť odhadněte hustotu a distribuční funkci pomocí histogramu a empirické distribuční funkce.**"
   ]
  },
  {
   "cell_type": "code",
   "execution_count": 19,
   "id": "bff74d43",
   "metadata": {
    "cell_id": "00009-4709754d-6a52-4508-a7bc-39bf318d1d6d",
    "deepnote_cell_type": "code",
    "deepnote_output_heights": [
     40.375,
     280
    ],
    "deepnote_to_be_reexecuted": false,
    "execution_millis": 644,
    "execution_start": 1638742753506,
    "source_hash": "a9fcf323"
   },
   "outputs": [
    {
     "data": {
      "text/plain": [
       "[Text(0.5, 1.0, 'Vietnam group - estimate of the distribution using histogram'),\n",
       " Text(0.5, 0, 'Dioxin concentration')]"
      ]
     },
     "execution_count": 19,
     "metadata": {},
     "output_type": "execute_result"
    },
    {
     "data": {
      "image/png": "[encoded data removed]",
      "text/plain": [
       "<Figure size 432x288 with 1 Axes>"
      ]
     },
     "metadata": {
      "needs_background": "light"
     },
     "output_type": "display_data"
    }
   ],
   "source": [
    "### vietnam group - histogram\n",
    "\n",
    "ax = sb.histplot(\n",
    "    data=data_vietnam,\n",
    "    bins=20,\n",
    "    stat=\"density\"\n",
    ")\n",
    "ax.set(\n",
    "    title=\"Vietnam group - estimate of the distribution using histogram\",\n",
    "    xlabel=\"Dioxin concentration\"\n",
    ")"
   ]
  },
  {
   "cell_type": "code",
   "execution_count": 20,
   "id": "3a6baad4",
   "metadata": {
    "cell_id": "00010-6617b504-a85e-4835-a348-508489af71f6",
    "deepnote_cell_type": "code",
    "deepnote_output_heights": [
     40.375,
     280
    ],
    "deepnote_to_be_reexecuted": false,
    "execution_millis": 344,
    "execution_start": 1638742754049,
    "source_hash": "297ce723"
   },
   "outputs": [
    {
     "data": {
      "text/plain": [
       "[Text(0.5, 1.0, 'Other group - estimate of the distribution using histogram'),\n",
       " Text(0.5, 0, 'Dioxin concentration')]"
      ]
     },
     "execution_count": 20,
     "metadata": {},
     "output_type": "execute_result"
    },
    {
     "data": {
      "image/png": "[encoded data removed]",
      "text/plain": [
       "<Figure size 432x288 with 1 Axes>"
      ]
     },
     "metadata": {
      "needs_background": "light"
     },
     "output_type": "display_data"
    }
   ],
   "source": [
    "### other group - histogram\n",
    "\n",
    "ax = sb.histplot(\n",
    "    data=data_other,\n",
    "    bins=20,\n",
    "    stat=\"density\"\n",
    ")\n",
    "ax.set(\n",
    "    title=\"Other group - estimate of the distribution using histogram\",\n",
    "    xlabel=\"Dioxin concentration\"\n",
    ")"
   ]
  },
  {
   "cell_type": "code",
   "execution_count": 21,
   "id": "ed70b395",
   "metadata": {
    "cell_id": "00011-02916818-0cf3-434d-bb57-b4d2fd921dd7",
    "deepnote_cell_type": "code",
    "deepnote_output_heights": [
     40.375,
     280
    ],
    "deepnote_to_be_reexecuted": false,
    "execution_millis": 277,
    "execution_start": 1638742754453,
    "source_hash": "f2bce961"
   },
   "outputs": [
    {
     "data": {
      "text/plain": [
       "[Text(0.5, 1.0, 'Vietnam group - estimate of the distribution using empirical distribution function'),\n",
       " Text(0.5, 0, 'Dioxin concentration')]"
      ]
     },
     "execution_count": 21,
     "metadata": {},
     "output_type": "execute_result"
    },
    {
     "data": {
      "image/png": "[encoded data removed]",
      "text/plain": [
       "<Figure size 432x288 with 1 Axes>"
      ]
     },
     "metadata": {
      "needs_background": "light"
     },
     "output_type": "display_data"
    }
   ],
   "source": [
    "### vietnam group - distribution function\n",
    "\n",
    "ax = sb.ecdfplot(data=data_vietnam)\n",
    "ax.set(\n",
    "    title=\"Vietnam group - estimate of the distribution using empirical distribution function\",\n",
    "    xlabel=\"Dioxin concentration\"\n",
    ")"
   ]
  },
  {
   "cell_type": "code",
   "execution_count": 22,
   "id": "b7c420f7",
   "metadata": {
    "cell_id": "00012-55de946c-59af-4238-8262-1295994bd5f2",
    "deepnote_cell_type": "code",
    "deepnote_output_heights": [
     40.375,
     280
    ],
    "deepnote_to_be_reexecuted": false,
    "execution_millis": 261,
    "execution_start": 1638742754805,
    "source_hash": "9f2f44e2"
   },
   "outputs": [
    {
     "data": {
      "text/plain": [
       "[Text(0.5, 1.0, 'Other group - estimate of the distribution using empirical distribution function'),\n",
       " Text(0.5, 0, 'Dioxin concentration')]"
      ]
     },
     "execution_count": 22,
     "metadata": {},
     "output_type": "execute_result"
    },
    {
     "data": {
      "image/png": "[encoded data removed]",
      "text/plain": [
       "<Figure size 432x288 with 1 Axes>"
      ]
     },
     "metadata": {
      "needs_background": "light"
     },
     "output_type": "display_data"
    }
   ],
   "source": [
    "### other group - distribution function\n",
    "\n",
    "ax = sb.ecdfplot(data=data_other)\n",
    "ax.set(\n",
    "    title=\"Other group - estimate of the distribution using empirical distribution function\",\n",
    "    xlabel=\"Dioxin concentration\"\n",
    ")"
   ]
  },
  {
   "cell_type": "code",
   "execution_count": 23,
   "id": "6ce38c3e",
   "metadata": {
    "cell_id": "00013-4f2baa9f-db20-4a0c-8e15-c049fead919b",
    "deepnote_cell_type": "code",
    "deepnote_output_heights": [
     40.375,
     280
    ],
    "deepnote_to_be_reexecuted": false,
    "execution_millis": 336,
    "execution_start": 1638742755129,
    "source_hash": "d03dff07"
   },
   "outputs": [
    {
     "data": {
      "text/plain": [
       "[Text(0.5, 1.0, 'Vietnam group - density estimation of the distribution'),\n",
       " Text(0.5, 0, 'Dioxin concentration')]"
      ]
     },
     "execution_count": 23,
     "metadata": {},
     "output_type": "execute_result"
    },
    {
     "data": {
      "image/png": "[encoded data removed]",
      "text/plain": [
       "<Figure size 432x288 with 1 Axes>"
      ]
     },
     "metadata": {
      "needs_background": "light"
     },
     "output_type": "display_data"
    }
   ],
   "source": [
    "### vietnam group - density\n",
    "\n",
    "ax = sb.kdeplot(data=data_vietnam, bw_adjust=.75)\n",
    "ax.set(\n",
    "    title=\"Vietnam group - density estimation of the distribution\",\n",
    "    xlabel=\"Dioxin concentration\"\n",
    ")"
   ]
  },
  {
   "cell_type": "code",
   "execution_count": 24,
   "id": "a6042e64",
   "metadata": {
    "cell_id": "00014-8ac66956-fbb6-4464-a2f7-7522c777f263",
    "deepnote_cell_type": "code",
    "deepnote_output_heights": [
     40.375,
     280
    ],
    "deepnote_to_be_reexecuted": false,
    "execution_millis": 392,
    "execution_start": 1638742755529,
    "source_hash": "e527d834"
   },
   "outputs": [
    {
     "data": {
      "text/plain": [
       "[Text(0.5, 1.0, 'Other group - density estimation of the distribtuin'),\n",
       " Text(0.5, 0, 'Dioxin concentration')]"
      ]
     },
     "execution_count": 24,
     "metadata": {},
     "output_type": "execute_result"
    },
    {
     "data": {
      "image/png": "[encoded data removed]",
      "text/plain": [
       "<Figure size 432x288 with 1 Axes>"
      ]
     },
     "metadata": {
      "needs_background": "light"
     },
     "output_type": "display_data"
    }
   ],
   "source": [
    "### other group - density\n",
    "\n",
    "ax = sb.kdeplot(data=data_other, bw_adjust=.75)\n",
    "ax.set(\n",
    "    title=\"Other group - density estimation of the distribtuin\",\n",
    "    xlabel=\"Dioxin concentration\"\n",
    ")"
   ]
  },
  {
   "cell_type": "code",
   "execution_count": 25,
   "id": "b0da0566",
   "metadata": {
    "cell_id": "00016-9890034d-a120-435c-aa55-09ae2fb4704d",
    "deepnote_cell_type": "code",
    "deepnote_to_be_reexecuted": false,
    "execution_millis": 10510635,
    "execution_start": 1638742755942,
    "source_hash": "a61d183e"
   },
   "outputs": [
    {
     "name": "stdout",
     "output_type": "stream",
     "text": [
      "Vietnam group - estimated distribution parameters\n",
      ">>> Normal distribution -> 𝝁 = 4.260061919504644, 𝛔 = 6.9726154760421375\n",
      ">>> Exponential distribution -> 𝛌 = 0.23473837209302323\n",
      ">>> Uniform distribution -> 𝐚 = 0.0, 𝐛 = 45.0\n"
     ]
    }
   ],
   "source": [
    "### vietnam group - estimated distribution parameters\n",
    "\n",
    "viet_norm_distr_expected_value, viet_norm_distr_std_deviance = norm.fit(data_vietnam.Dioxin, method=\"MLE\")\n",
    "viet_expon_distr_expected_value, viet_expon_distr_std_deviance = expon.fit(data_vietnam.Dioxin, floc=0, method=\"MLE\")\n",
    "viet_uniform_distr_a, viet_uniform_distr_b = uniform.fit(data_vietnam.Dioxin, method=\"MLE\")\n",
    "\n",
    "print(\"Vietnam group - estimated distribution parameters\")\n",
    "print(\">>> Normal distribution -> 𝝁 = {}, 𝛔 = {}\".format(\n",
    "    viet_norm_distr_expected_value,\n",
    "    viet_norm_distr_std_deviance ** 2\n",
    "))\n",
    "print(\">>> Exponential distribution -> 𝛌 = {}\".format( ### FIXME: location and scale are returned\n",
    "    1 / viet_expon_distr_std_deviance\n",
    "))\n",
    "print(\">>> Uniform distribution -> 𝐚 = {}, 𝐛 = {}\".format(\n",
    "    viet_uniform_distr_a,\n",
    "    viet_uniform_distr_b\n",
    "))"
   ]
  },
  {
   "cell_type": "markdown",
   "id": "ed25ed3a",
   "metadata": {
    "cell_id": "00015-6957a0a0-e3a5-4ac3-a32d-bd1ec8bfea62",
    "deepnote_cell_type": "markdown",
    "jp-MarkdownHeadingCollapsed": true,
    "tags": []
   },
   "source": [
    "### Úkol 3\n",
    "(3b) **Pro každou skupinu zvlášť najděte nejbližší rozdělení: Odhadněte parametry normálního, exponenciálního a rovnoměrného rozdělení. Zaneste příslušné hustoty s odhadnutými parametry do grafů histogramu. Diskutujte, které z rozdělení odpovídá pozorovaným datům nejlépe.**\n",
    "\n",
    "**FIXME:** Discuss results  \n",
    "**FIXME:** Add labels to plots"
   ]
  },
  {
   "cell_type": "code",
   "execution_count": 90,
   "id": "bd3bca2d",
   "metadata": {
    "cell_id": "00017-323e80d5-5e20-4d80-89b1-f9557fdbebb5",
    "deepnote_cell_type": "code",
    "deepnote_output_heights": [
     577,
     577
    ],
    "deepnote_to_be_reexecuted": false,
    "execution_millis": 506,
    "execution_start": 1638742755993,
    "source_hash": "c19b7f6d"
   },
   "outputs": [
    {
     "data": {
      "image/png": "[encoded data removed]",
      "text/plain": [
       "<Figure size 720x720 with 1 Axes>"
      ]
     },
     "metadata": {
      "needs_background": "light"
     },
     "output_type": "display_data"
    }
   ],
   "source": [
    "fig, ax = plt.subplots(figsize=(10, 10))\n",
    "sb.histplot(\n",
    "    data=data_vietnam,\n",
    "    bins=20,\n",
    "    stat=\"density\",\n",
    "    kde=False\n",
    ")\n",
    "_, xmax = plt.xlim()\n",
    "x_axis_values = np.linspace(0, xmax, 100)\n",
    "norm_distr_pdf = norm.pdf(x_axis_values, viet_norm_distr_expected_value, viet_norm_distr_std_deviance)\n",
    "expon_distr_pdf = expon.pdf(x_axis_values, viet_expon_distr_expected_value, viet_expon_distr_std_deviance)\n",
    "uniform_distr_pdf = uniform.pdf(x_axis_values, viet_uniform_distr_a, viet_uniform_distr_b)\n",
    "sb.lineplot(x=x_axis_values, y=norm_distr_pdf, color=\"#d9ad8e\", linewidth=3)\n",
    "sb.lineplot(x=x_axis_values, y=expon_distr_pdf, color=\"#d9d38e\", linewidth=3)\n",
    "sb.lineplot(x=x_axis_values, y=uniform_distr_pdf, color=\"#d98e95\", linewidth=3)\n",
    "plt.show()"
   ]
  },
  {
   "cell_type": "code",
   "execution_count": 27,
   "id": "a4f45e23",
   "metadata": {
    "cell_id": "00018-f03dc68e-43bf-4b04-8ecd-7f5bce36d5dc",
    "deepnote_cell_type": "code",
    "deepnote_to_be_reexecuted": false,
    "execution_millis": 11,
    "execution_start": 1638742756490,
    "source_hash": "201ef167"
   },
   "outputs": [
    {
     "name": "stdout",
     "output_type": "stream",
     "text": [
      "Other group - estimated distribution parameters\n",
      ">>> Normal distribution -> 𝝁 = 4.185567010309279, 𝛔 = 2.2899596940009213\n",
      ">>> Exponential distribution -> 𝛌 = 0.23891625615763545\n",
      ">>> Uniform distribution -> 𝐚 = 0.0, 𝐛 = 15.0\n"
     ]
    }
   ],
   "source": [
    "### other group - estimated distribution parameters\n",
    "\n",
    "other_norm_distr_expected_value, other_norm_distr_std_deviance = norm.fit(data_other.Dioxin, method=\"MLE\")\n",
    "other_expon_distr_expected_value, other_expon_distr_std_deviance = expon.fit(data_other.Dioxin, method=\"MLE\")\n",
    "other_uniform_distr_a, other_uniform_distr_b = uniform.fit(data_other.Dioxin, method=\"MLE\") \n",
    "\n",
    "print(\"Other group - estimated distribution parameters\")\n",
    "print(\">>> Normal distribution -> 𝝁 = {}, 𝛔 = {}\".format(\n",
    "    other_norm_distr_expected_value,\n",
    "    other_norm_distr_std_deviance\n",
    "))\n",
    "print(\">>> Exponential distribution -> 𝛌 = {}\".format(\n",
    "    1 / other_expon_distr_std_deviance\n",
    "))\n",
    "print(\">>> Uniform distribution -> 𝐚 = {}, 𝐛 = {}\".format(\n",
    "    other_uniform_distr_a, other_uniform_distr_b\n",
    "))"
   ]
  },
  {
   "cell_type": "code",
   "execution_count": 28,
   "id": "85633a68",
   "metadata": {
    "cell_id": "00019-256435bf-6e5c-4bad-9110-89fc6ce3c75c",
    "deepnote_cell_type": "code",
    "deepnote_output_heights": [
     577
    ],
    "deepnote_to_be_reexecuted": false,
    "execution_millis": 483,
    "execution_start": 1638742756533,
    "source_hash": "e6d2c3e2"
   },
   "outputs": [
    {
     "data": {
      "image/png": "[encoded data removed]",
      "text/plain": [
       "<Figure size 720x720 with 1 Axes>"
      ]
     },
     "metadata": {
      "needs_background": "light"
     },
     "output_type": "display_data"
    }
   ],
   "source": [
    "fig, ax = plt.subplots(figsize=(10, 10))\n",
    "sb.histplot(\n",
    "    data=data_other,\n",
    "    bins=20,\n",
    "    stat=\"density\",\n",
    "    kde=False\n",
    ")\n",
    "_, xmax = plt.xlim()\n",
    "x_axis_values = np.linspace(0, xmax, 100)\n",
    "norm_distr_pdf = norm.pdf(x_axis_values, other_norm_distr_expected_value, other_norm_distr_std_deviance)\n",
    "expon_distr_pdf = expon.pdf(x_axis_values, other_expon_distr_expected_value, other_expon_distr_std_deviance)\n",
    "uniform_distr_pdf = uniform.pdf(x_axis_values, other_uniform_distr_a, other_uniform_distr_b)\n",
    "sb.lineplot(x=x_axis_values, y=norm_distr_pdf, color=\"#d9ad8e\", linewidth=3)\n",
    "sb.lineplot(x=x_axis_values, y=expon_distr_pdf, color=\"#d9d38e\", linewidth=3)\n",
    "sb.lineplot(x=x_axis_values, y=uniform_distr_pdf, color=\"#d98e95\", linewidth=3)\n",
    "plt.show()"
   ]
  },
  {
   "cell_type": "markdown",
   "id": "ad255712",
   "metadata": {
    "cell_id": "00020-b8a4a0ac-05d8-4144-b569-c88bd514f9a3",
    "deepnote_cell_type": "markdown",
    "jp-MarkdownHeadingCollapsed": true,
    "tags": []
   },
   "source": [
    "### Úkol 4\n",
    "(1b) **Pro každou skupinu zvlášť vygenerujte náhodný výběr o 100 hodnotách z rozdělení, které jste zvolili jako nejbližší, s parametry odhadnutými v předchozím bodě. Porovnejte histogram simulovaných hodnot s pozorovanými daty.**"
   ]
  },
  {
   "cell_type": "code",
   "execution_count": 98,
   "id": "ddf565ae-fe50-44c5-81c5-441e71f6f432",
   "metadata": {},
   "outputs": [
    {
     "data": {
      "text/plain": [
       "<AxesSubplot:ylabel='Density'>"
      ]
     },
     "execution_count": 98,
     "metadata": {},
     "output_type": "execute_result"
    },
    {
     "data": {
      "image/png": "[encoded data removed]",
      "text/plain": [
       "<Figure size 1080x360 with 2 Axes>"
      ]
     },
     "metadata": {
      "needs_background": "light"
     },
     "output_type": "display_data"
    }
   ],
   "source": [
    "### vietnam group - data comparison\n",
    "\n",
    "data_vietnam_simulated = np.random.normal(\n",
    "    loc=viet_norm_distr_expected_value,\n",
    "    scale=viet_norm_distr_std_deviance,\n",
    "    size=100\n",
    ")\n",
    "\n",
    "fig, (ax1, ax2) = plt.subplots(\n",
    "    ncols=2,\n",
    "    sharex=True,\n",
    "    sharey=True,\n",
    "    figsize=(15, 5)\n",
    ")\n",
    "sb.histplot(\n",
    "    data_vietnam,\n",
    "    bins=20,\n",
    "    stat=\"density\",\n",
    "    kde=True,\n",
    "    ax=ax1,\n",
    "    legend=False\n",
    ")\n",
    "sb.histplot(\n",
    "    data_vietnam_simulated,\n",
    "    bins=5,\n",
    "    stat=\"density\",\n",
    "    kde=True,\n",
    "    ax=ax2\n",
    ")"
   ]
  },
  {
   "cell_type": "code",
   "execution_count": 99,
   "id": "813f0204-916f-47c8-9fb7-fb5b13196b63",
   "metadata": {},
   "outputs": [
    {
     "data": {
      "text/plain": [
       "<AxesSubplot:ylabel='Density'>"
      ]
     },
     "execution_count": 99,
     "metadata": {},
     "output_type": "execute_result"
    },
    {
     "data": {
      "image/png": "[encoded data removed]",
      "text/plain": [
       "<Figure size 1080x360 with 2 Axes>"
      ]
     },
     "metadata": {
      "needs_background": "light"
     },
     "output_type": "display_data"
    }
   ],
   "source": [
    "### other group - data comparison\n",
    "\n",
    "data_other_simulated = np.random.normal(\n",
    "    loc=other_norm_distr_expected_value,\n",
    "    scale=other_norm_distr_std_deviance,\n",
    "    size=100\n",
    ")\n",
    "\n",
    "fig, (ax1, ax2) = plt.subplots(\n",
    "    ncols=2,\n",
    "    sharex=True,\n",
    "    sharey=True,\n",
    "    figsize=(15, 5)\n",
    ")\n",
    "sb.histplot(\n",
    "    data_other,\n",
    "    bins=20,\n",
    "    stat=\"density\",\n",
    "    kde=True,\n",
    "    ax=ax1,\n",
    "    legend=False\n",
    ")\n",
    "sb.histplot(\n",
    "    data_other_simulated,\n",
    "    bins=20,\n",
    "    stat=\"density\",\n",
    "    kde=True,\n",
    "    ax=ax2\n",
    ")"
   ]
  },
  {
   "cell_type": "markdown",
   "id": "22e7b88b",
   "metadata": {
    "cell_id": "00023-9f3f03c7-ca25-4e79-8f48-e0941d9996e8",
    "deepnote_cell_type": "markdown",
    "jp-MarkdownHeadingCollapsed": true,
    "tags": []
   },
   "source": [
    "### Úkol 5\n",
    "(1b) **Pro každou skupinu zvlášť spočítejte oboustranný 95% konfidenční interval pro střední hodnotu.**"
   ]
  },
  {
   "cell_type": "code",
   "execution_count": 45,
   "id": "da487e1d",
   "metadata": {
    "cell_id": "00024-8158697b-03f6-4509-af78-23492816bd1f",
    "deepnote_cell_type": "code",
    "deepnote_output_heights": [
     21.1875
    ],
    "deepnote_to_be_reexecuted": false,
    "execution_millis": 9,
    "execution_start": 1638742757998,
    "source_hash": "982f7adf",
    "tags": []
   },
   "outputs": [
    {
     "name": "stdout",
     "output_type": "stream",
     "text": [
      ">>> (4.05589668169332, 4.464227157315968)\n"
     ]
    }
   ],
   "source": [
    "### vietnam group - 95% confidence interval for expected value\n",
    "\n",
    "mean = data_vietnam.Dioxin.mean()\n",
    "std = data_vietnam.Dioxin.std()\n",
    "count = data_vietnam.Dioxin.count()\n",
    "t = students_t_distr.ppf(q=1 - 0.025, df=count - 1)\n",
    "L_viet = mean - t * std / math.sqrt(count)\n",
    "U_viet = mean + t * std / math.sqrt(count)\n",
    "print(\">>> ({}, {})\".format(L_viet, U_viet))"
   ]
  },
  {
   "cell_type": "code",
   "execution_count": 46,
   "id": "64c0ae17",
   "metadata": {
    "cell_id": "00024-bf7eee07-85b0-4572-b2ec-3a20cac08f29",
    "deepnote_cell_type": "code",
    "deepnote_to_be_reexecuted": false,
    "execution_millis": 1,
    "execution_start": 1638742757999,
    "source_hash": "1639d54c",
    "tags": []
   },
   "outputs": [
    {
     "name": "stdout",
     "output_type": "stream",
     "text": [
      ">>> (3.721640382345717, 4.64949363827284)\n"
     ]
    }
   ],
   "source": [
    "### other group - 95% confidence interval for expected value\n",
    "\n",
    "mean = data_other.Dioxin.mean()\n",
    "std = data_other.Dioxin.std()\n",
    "count = data_other.Dioxin.count()\n",
    "t = students_t_distr.ppf(q=1 - 0.025, df=count - 1)\n",
    "L_other = mean - t * std / math.sqrt(count)\n",
    "U_other = mean + t * std / math.sqrt(count)\n",
    "print(\">>> ({}, {})\".format(L_other, U_other))"
   ]
  },
  {
   "cell_type": "markdown",
   "id": "1f140171",
   "metadata": {
    "cell_id": "00025-fd50e6f2-9812-4367-8d8d-a8b6a98fd151",
    "deepnote_cell_type": "markdown",
    "jp-MarkdownHeadingCollapsed": true,
    "tags": []
   },
   "source": [
    "### Úkol 6 - Pro každou skupinu zvlášť na hladině významnosti 5% otestovat hypotézu, zda je střední hodnota rovna hodnotě K (parametr úlohy), proti oboustranné alternativě. Můžete použít buď výsledek z předešlého bodu, nebo výstup z příslušné vestavěné funkce vašeho softwaru."
   ]
  },
  {
   "cell_type": "code",
   "execution_count": 42,
   "id": "1a89ec8f",
   "metadata": {
    "cell_id": "00026-fed6ca3f-02e2-4430-9a1b-42859180dc66",
    "deepnote_cell_type": "code",
    "deepnote_to_be_reexecuted": false,
    "execution_millis": 16,
    "execution_start": 1638743522846,
    "source_hash": "585e0a30",
    "tags": []
   },
   "outputs": [],
   "source": [
    "### vietnam_group - \n",
    "\n",
    "### INTERPRET RESULTS HERE:\n",
    "# K = 0\n",
    "# viet_statistic, viet_pvalue = ttest_1samp(data_vietnam.Dioxin, K, alternative=\"two-sided\")\n",
    "# print(\">>> {}, {}\".format(viet_statistic, viet_pvalue))\n",
    "\n",
    "### Testujeme hypotézu o střední hodnotě normálního rozdělení proti oboustranné alternativě, tedy\n",
    "### H0 : 𝝁 = K proti HA : 𝝁 != K\n",
    "### Potřebujeme tedy oboustranný (1 - α)% interval spolehlivosti.\n",
    "### Rozptyl rozdělení je neznámý, tedy interval sestavíme pomocí Studentova rozdělení.\n",
    "### Tento interval jsme ovšem spočítali v minulém úkolu a tedy dostáváme interval\n",
    "### (L, U) = (3.721640382345717, 4.64949363827284)\n",
    "### Pokud testovanou hodnotu K interval pokrývá, hypotézu H0 tedy na hladině významnosti 5% nezamítáme.\n",
    "### V opačném případě hypotézu H0 zamítneme a přijmeme alternativní hypotézu HA."
   ]
  },
  {
   "cell_type": "code",
   "execution_count": 33,
   "id": "101f381d",
   "metadata": {
    "cell_id": "00027-cade4233-0abd-4b06-a974-da665d152005",
    "deepnote_cell_type": "code",
    "deepnote_to_be_reexecuted": false,
    "execution_millis": 7,
    "execution_start": 1638743519877,
    "source_hash": "3431023f",
    "tags": []
   },
   "outputs": [
    {
     "name": "stdout",
     "output_type": "stream",
     "text": [
      ">>> -50.549941993930965, 5.5021882620358755e-71\n"
     ]
    }
   ],
   "source": [
    "### other group - \n",
    "\n",
    "# K = 16\n",
    "# other_statistic, other_pvalue = ttest_1samp(data_other.Dioxin, K)\n",
    "# print(\">>> {}, {}\".format(other_statistic, other_pvalue))\n",
    "\n",
    "### Testujeme hypotézu o střední hodnotě normálního rozdělení proti oboustranné alternativě, tedy\n",
    "### H0 : 𝝁 = K proti HA : 𝝁 != K\n",
    "### Potřebujeme tedy oboustranný (1 - α)% interval spolehlivosti.\n",
    "### Rozptyl rozdělení je neznámý, tedy interval sestavíme pomocí Studentova rozdělení.\n",
    "### Tento interval jsme ovšem spočítali v minulém úkolu a tedy dostáváme interval\n",
    "### (L, U) = (3.721640382345717, 4.64949363827284)\n",
    "### Pokud testovanou hodnotu K interval pokrývá, hypotézu H0 tedy na hladině významnosti 5% nezamítáme.\n",
    "### V opačném případě hypotézu H0 zamítneme a přijmeme alternativní hypotézu HA."
   ]
  },
  {
   "cell_type": "markdown",
   "id": "43ef1bf8-bd92-409e-b0ab-ce85f82832e4",
   "metadata": {
    "tags": []
   },
   "source": [
    "### Úkol 7\n",
    "(2b) **Na hladině významnosti 5 % otestujte, jestli mají pozorované skupiny stejnou střední hodnotu. Typ testu a alternativy stanovte tak, aby vaše volba nejlépe korespondovala s povahou zkoumaného problému.**"
   ]
  },
  {
   "cell_type": "code",
   "execution_count": 100,
   "id": "72e3c58b-c3b1-426d-b0a5-4d7f3fd99fad",
   "metadata": {},
   "outputs": [
    {
     "ename": "NameError",
     "evalue": "name 'tets' is not defined",
     "output_type": "error",
     "traceback": [
      "\u001b[0;31m---------------------------------------------------------------------------\u001b[0m",
      "\u001b[0;31mNameError\u001b[0m                                 Traceback (most recent call last)",
      "\u001b[0;32m/var/folders/z1/1wtjn7bs12nbc3vjm9y1fbhm0000gn/T/ipykernel_69255/3763092053.py\u001b[0m in \u001b[0;36m<module>\u001b[0;34m\u001b[0m\n\u001b[0;32m----> 1\u001b[0;31m \u001b[0mtets\u001b[0m\u001b[0;34m\u001b[0m\u001b[0;34m\u001b[0m\u001b[0m\n\u001b[0m",
      "\u001b[0;31mNameError\u001b[0m: name 'tets' is not defined"
     ]
    }
   ],
   "source": []
  }
 ],
 "metadata": {
  "deepnote": {},
  "deepnote_execution_queue": [],
  "deepnote_notebook_id": "b5ac4284-c61d-4b7c-add8-23b978a96304",
  "kernelspec": {
   "display_name": "Python 3 (ipykernel)",
   "language": "python",
   "name": "python3"
  },
  "language_info": {
   "codemirror_mode": {
    "name": "ipython",
    "version": 3
   },
   "file_extension": ".py",
   "mimetype": "text/x-python",
   "name": "python",
   "nbconvert_exporter": "python",
   "pygments_lexer": "ipython3",
   "version": "3.10.0"
  }
 },
 "nbformat": 4,
 "nbformat_minor": 5
}
