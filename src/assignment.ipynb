{
 "cells": [
  {
   "cell_type": "markdown",
   "id": "3fec790b",
   "metadata": {
    "cell_id": "00000-17d9ab40-0233-4a55-9f56-8f9f3686c59e",
    "deepnote_cell_type": "markdown",
    "tags": []
   },
   "source": [
    "![FIT_CTU_LOGO](https://fit.cvut.cz/media-a-pr/corporate-identity/logo-fit-en-cerna.svg)\n",
    "# FIT ČVUT v Praze, [BI-PST](https://courses.fit.cvut.cz/BI-PST), ZS 2021/2022\n",
    "## Domácí úloha - Daniel Bukač, Alexandr Czerný\n",
    "## Data a parametry\n",
    "Ze své trojice vyberte reprezentanta. Úlohu odevzdejte cvičícímu, ke kterému reprezentant přísluší podle původního přiřazení paralelek v Kosu. Parametry úlohy spočtěte následovně:\n",
    "\n",
    "- K = den narození reprezentanta skupiny (1-31),\n",
    "- L = počet písmen v příjmení reprezentanta,\n",
    "- M = ((K+L)*47)mod(11)+1.\n",
    "\n",
    "Načtěte datový soubor z R knihovny Sleuth2 podle následující tabulky:\n",
    "\n",
    "|M|Datový soubor|Popis|\n",
    "|:-:|:-------------:|:-----|\n",
    "|1|case0101|skóre v kreativitě dle typu motivace|\n",
    "|2|case0102|mzda dle pohlaví|\n",
    "|3|case0201|délka humeru dle přežití vrabců|\n",
    "|4|case0202|objem hipokampu dle schizofrenie|\n",
    "|5|case0301|srážky dle ošetření mraků|\n",
    "|6|case0302|koncentrace dioxinu dle vojenského působiště|\n",
    "|7|case0402|doba řešení úkolu dle typu výuky geometrie|\n",
    "|8|ex0112|krevní tlak dle diety|\n",
    "|9|ex0211|přežití morčat dle typu experimentu|\n",
    "|10|ex0221|váha dle přežití vrabců|\n",
    "|11|ex0222|hladina cholesterolu dle prostředí|\n",
    "\n",
    "## Úkoly\n",
    "\n",
    "1. **(1b)** Načtěte datový soubor a rozdělte sledovanou proměnnou na příslušné dvě pozorované skupiny. Stručně popište data a zkoumaný problém. Pro každu skupinu zvlášť odhadněte střední hodnotu, rozptyl a medián příslušného rozdělení.\n",
    "2. **(1b)** Pro každou skupinu zvlášť odhadněte hustotu a distribuční funkci pomocí histogramu a empirické distribuční funkce.\n",
    "3. **(3b)** Pro každou skupinu zvlášť najděte nejbližší rozdělení: Odhadněte parametry normálního, exponenciálního a rovnoměrného rozdělení. Zaneste příslušné hustoty s odhadnutými parametry do grafů histogramu. Diskutujte, které z rozdělení odpovídá pozorovaným datům nejlépe.\n",
    "4. **(1b)** Pro každou skupinu zvlášť vygenerujte náhodný výběr o 100 hodnotách z rozdělení, které jste zvolili jako nejbližší, s parametry odhadnutými v předchozím bodě. Porovnejte histogram simulovaných hodnot s pozorovanými daty.\n",
    "5. **(1b)** Pro každou skupinu zvlášť spočítejte oboustranný 95% konfidenční interval pro střední hodnotu.\n",
    "6. **(1b)** Pro každou skupinu zvlášť otestujte na hladině významnosti 5 % hypotézu, zda je střední hodnota rovná hodnotě K (parametr úlohy), proti oboustranné alternativě. Můžete použít buď výsledek z předešlého bodu, nebo výstup z příslušné vestavěné funkce vašeho softwaru.\n",
    "7. **(2b)** Na hladině významnosti 5 % otestujte, jestli mají pozorované skupiny stejnou střední hodnotu. Typ testu a alternativy stanovte tak, aby vaše volba nejlépe korespondovala s povahou zkoumaného problému."
   ]
  },
  {
   "cell_type": "markdown",
   "id": "1e9959a4",
   "metadata": {
    "cell_id": "00001-ad10fbb8-1dae-4879-b7de-ae7e0386ac3f",
    "deepnote_cell_type": "markdown",
    "tags": []
   },
   "source": [
    "### Import potřebných knihoven a určení parametrů úlohy"
   ]
  },
  {
   "cell_type": "code",
   "execution_count": 1,
   "id": "7e678a53",
   "metadata": {
    "cell_id": "00002-13257a54-43d8-4eb7-afa9-f8cddc17ed9d",
    "deepnote_cell_type": "code",
    "deepnote_to_be_reexecuted": false,
    "execution_millis": 1505,
    "execution_start": 1638742751888,
    "source_hash": "479d7c32"
   },
   "outputs": [],
   "source": [
    "### import required libraries\n",
    "\n",
    "import math\n",
    "import pandas as pd\n",
    "import numpy as np\n",
    "import seaborn as sb\n",
    "import matplotlib.pyplot as plt\n",
    "\n",
    "from scipy.stats import norm, expon, uniform, ttest_1samp, ttest_ind, t as students_t_distr"
   ]
  },
  {
   "cell_type": "markdown",
   "id": "640b742d",
   "metadata": {
    "cell_id": "00003-2d98a674-f5e6-46b9-9dbd-b077f7218372",
    "deepnote_cell_type": "markdown"
   },
   "source": [
    "Podle následujícího výpočtu jsme zvolili datovou sadu **case0302**:"
   ]
  },
  {
   "cell_type": "code",
   "execution_count": 33,
   "id": "b84e674a",
   "metadata": {
    "cell_id": "00004-0960a6e8-5167-400b-9256-1fcbc2e58e94",
    "deepnote_cell_type": "code",
    "deepnote_output_heights": [
     21.1875
    ],
    "deepnote_to_be_reexecuted": false,
    "execution_millis": 3,
    "execution_start": 1638742753406,
    "source_hash": "eef2f5a5"
   },
   "outputs": [
    {
     "name": "stdout",
     "output_type": "stream",
     "text": [
      ">>> K = 15, L = 5, M = 6\n"
     ]
    }
   ],
   "source": [
    "K = 15\n",
    "L = len(\"Bukac\")\n",
    "M = ((K + L) * 47) % (11) + 1\n",
    "print(\">>> K = {}, L = {}, M = {}\".format(K, L, M))"
   ]
  },
  {
   "cell_type": "markdown",
   "id": "06886641",
   "metadata": {
    "cell_id": "00005-1d3dbef5-343f-4b4d-ad06-b7bc9e9a9e5b",
    "deepnote_cell_type": "markdown",
    "tags": []
   },
   "source": [
    "### Úkol 1\n",
    "(1b) **Načtěte datový soubor a rozdělte sledovanou proměnnou na příslušné dvě pozorované skupiny. Stručně popište data a zkoumaný problém. Pro každu skupinu zvlášť odhadněte střední hodnotu, rozptyl a medián příslušného rozdělení.**\n",
    "\n",
    "#### Popis datové sady\n",
    "Datová sada obsahuje data z výzkumu Armády Spojených států amerických, který proběhl v roce 1987. Cílem výzkumu bylo změřit koncentraci [TCDD](https://en.wikipedia.org/wiki/2,3,7,8-Tetrachlorodibenzodioxin) v krevních vzorcích válečných veteránů. TCDD je karcinogenní [dioxin](https://en.wikipedia.org/wiki/Dioxins_and_dioxin-like_compounds), jenž byl součástí herbicidu [Agent Orange](https://en.wikipedia.org/wiki/Agent_Orange), který Armádá Spojených států využívala k čištění úkrytů v džungli během [války ve Vietnamu](https://en.wikipedia.org/wiki/Vietnam_War) mezi lety 1962 až 1970.  \n",
    "  \n",
    "Datová sada obsahuje celkem 743 záznamů, z toho 646 záznamů se týka vojáků, kteří ve Vietnamu sloužili a naopak 97 záznamů vojáků, kteří ve Vietnamu nebyli. Datová sada je v csv formátu. Data jsou rozdělena do dvou sloupců, první sloupec `Dioxin` udává koncentraci TCDD v krevním vzorku daného vojáka, druhý sloupec `Veteran` nabývá pouze dvou hodnot, hodnota `Vietnam` respektive `Other` a indikuje, zda daný voják sloužil ve Vietnamu, či nikoliv.\n",
    "\n",
    "#### Načtení datové sady\n",
    "K načtení datové sady jsme využili knihovnu [pandas](https://pandas.pydata.org/docs/index.html) a její datovou strukturu [DataFrame](https://pandas.pydata.org/docs/reference/api/pandas.DataFrame.html). Dále jsme sadu dle zadání rozdělili na dvě skupiny. Dataframe pojemnovaný `data_vietnam` obsahuje záznamy veteránů, kteří sloužili ve válce ve Vietnamu a analogicky dataframe `data_other` obsahuje záznamy veteránů, kteří ve Vietnamu nesloužili."
   ]
  },
  {
   "cell_type": "code",
   "execution_count": 3,
   "id": "0d436749",
   "metadata": {
    "cell_id": "00006-a39e6c1a-e646-4d3e-9eba-2935eb7c3b47",
    "deepnote_cell_type": "code",
    "deepnote_output_heights": [
     382.1875
    ],
    "deepnote_to_be_reexecuted": false,
    "execution_millis": 67,
    "execution_start": 1638742753417,
    "source_hash": "c4c554bd"
   },
   "outputs": [
    {
     "data": {
      "text/html": [
       "<div>\n",
       "<style scoped>\n",
       "    .dataframe tbody tr th:only-of-type {\n",
       "        vertical-align: middle;\n",
       "    }\n",
       "\n",
       "    .dataframe tbody tr th {\n",
       "        vertical-align: top;\n",
       "    }\n",
       "\n",
       "    .dataframe thead th {\n",
       "        text-align: right;\n",
       "    }\n",
       "</style>\n",
       "<table border=\"1\" class=\"dataframe\">\n",
       "  <thead>\n",
       "    <tr style=\"text-align: right;\">\n",
       "      <th></th>\n",
       "      <th>Dioxin</th>\n",
       "      <th>Veteran</th>\n",
       "    </tr>\n",
       "  </thead>\n",
       "  <tbody>\n",
       "    <tr>\n",
       "      <th>0</th>\n",
       "      <td>0</td>\n",
       "      <td>Vietnam</td>\n",
       "    </tr>\n",
       "    <tr>\n",
       "      <th>1</th>\n",
       "      <td>0</td>\n",
       "      <td>Vietnam</td>\n",
       "    </tr>\n",
       "    <tr>\n",
       "      <th>2</th>\n",
       "      <td>0</td>\n",
       "      <td>Vietnam</td>\n",
       "    </tr>\n",
       "    <tr>\n",
       "      <th>3</th>\n",
       "      <td>0</td>\n",
       "      <td>Vietnam</td>\n",
       "    </tr>\n",
       "    <tr>\n",
       "      <th>4</th>\n",
       "      <td>0</td>\n",
       "      <td>Vietnam</td>\n",
       "    </tr>\n",
       "    <tr>\n",
       "      <th>...</th>\n",
       "      <td>...</td>\n",
       "      <td>...</td>\n",
       "    </tr>\n",
       "    <tr>\n",
       "      <th>738</th>\n",
       "      <td>9</td>\n",
       "      <td>Other</td>\n",
       "    </tr>\n",
       "    <tr>\n",
       "      <th>739</th>\n",
       "      <td>9</td>\n",
       "      <td>Other</td>\n",
       "    </tr>\n",
       "    <tr>\n",
       "      <th>740</th>\n",
       "      <td>10</td>\n",
       "      <td>Other</td>\n",
       "    </tr>\n",
       "    <tr>\n",
       "      <th>741</th>\n",
       "      <td>11</td>\n",
       "      <td>Other</td>\n",
       "    </tr>\n",
       "    <tr>\n",
       "      <th>742</th>\n",
       "      <td>15</td>\n",
       "      <td>Other</td>\n",
       "    </tr>\n",
       "  </tbody>\n",
       "</table>\n",
       "<p>743 rows × 2 columns</p>\n",
       "</div>"
      ],
      "text/plain": [
       "     Dioxin  Veteran\n",
       "0         0  Vietnam\n",
       "1         0  Vietnam\n",
       "2         0  Vietnam\n",
       "3         0  Vietnam\n",
       "4         0  Vietnam\n",
       "..      ...      ...\n",
       "738       9    Other\n",
       "739       9    Other\n",
       "740      10    Other\n",
       "741      11    Other\n",
       "742      15    Other\n",
       "\n",
       "[743 rows x 2 columns]"
      ]
     },
     "metadata": {},
     "output_type": "display_data"
    }
   ],
   "source": [
    "### load and split dataset\n",
    "\n",
    "data = pd.read_csv(\"./data.csv\")\n",
    "data_vietnam = data[data.Veteran == \"Vietnam\"]\n",
    "data_other = data[~(data.Veteran == \"Vietnam\")]\n",
    "\n",
    "### preview data\n",
    "display(data)"
   ]
  },
  {
   "cell_type": "markdown",
   "id": "0ed069c6-4a60-4f1a-af45-3f85d3928323",
   "metadata": {},
   "source": [
    "#### Odhad parametrů jednotlivých skupin\n",
    "\n",
    "K odhadu parametrů jsme využili statistické metody pandas dataframu, konkrétně metodu [mean](https://pandas.pydata.org/docs/reference/api/pandas.DataFrame.mean.html) pro odhad střední hodnoty pomocí výběrového průměru, metodu [var](https://pandas.pydata.org/docs/reference/api/pandas.DataFrame.var.html) pro odhad rozptylu pomocí výběrového rozptylu a metodu [median](https://pandas.pydata.org/docs/reference/api/pandas.DataFrame.median.html) pro získání mediánu."
   ]
  },
  {
   "cell_type": "markdown",
   "id": "49db6de2-d305-4c9e-8cca-bcc51fd068bd",
   "metadata": {},
   "source": [
    "#### Vietnam group"
   ]
  },
  {
   "cell_type": "code",
   "execution_count": 30,
   "id": "9fc5850a",
   "metadata": {
    "cell_id": "00007-fb81c604-a5b0-4fe8-bc2f-10c600a82a16",
    "deepnote_cell_type": "code",
    "deepnote_to_be_reexecuted": false,
    "execution_millis": 14,
    "execution_start": 1638742753488,
    "source_hash": "88256832"
   },
   "outputs": [
    {
     "name": "stdout",
     "output_type": "stream",
     "text": [
      "Vietnam group estimated parameters:\n",
      ">>> Expected value: 4.260061919504644\n",
      ">>> Variance: 6.98342573259414\n",
      ">>> Median: 4.0\n"
     ]
    }
   ],
   "source": [
    "### vietnam group - estimate expected value, variance and median of given distributions\n",
    "\n",
    "vietnam_expected_value = data_vietnam.Dioxin.mean()\n",
    "vietnam_variance = data_vietnam.Dioxin.var()\n",
    "vietnam_median = data_vietnam.Dioxin.median()\n",
    "\n",
    "print(\"Vietnam group estimated parameters:\")\n",
    "print(\">>> Expected value:\", vietnam_expected_value)\n",
    "print(\">>> Variance:\", vietnam_variance)\n",
    "print(\">>> Median:\", vietnam_median)"
   ]
  },
  {
   "cell_type": "markdown",
   "id": "6712d94e-649c-49d5-95cf-7dffd1693822",
   "metadata": {},
   "source": [
    "#### Other group"
   ]
  },
  {
   "cell_type": "code",
   "execution_count": 31,
   "id": "395d4b1c-b332-425c-a830-03e68b14afa8",
   "metadata": {},
   "outputs": [
    {
     "name": "stdout",
     "output_type": "stream",
     "text": [
      "Other group estimated parameters:\n",
      ">>> Expected value: 4.185567010309279\n",
      ">>> Variance: 5.298539518900344\n",
      ">>> Median: 4.0\n"
     ]
    }
   ],
   "source": [
    "### other group - estimate expected value, variance and median of given distributions\n",
    "\n",
    "other_expected_value = data_other.Dioxin.mean()\n",
    "other_variance = data_other.Dioxin.var()\n",
    "other_median = data_other.Dioxin.median()\n",
    "\n",
    "print(\"Other group estimated parameters:\")\n",
    "print(\">>> Expected value:\", other_expected_value)\n",
    "print(\">>> Variance:\", other_variance)\n",
    "print(\">>> Median:\", other_median)"
   ]
  },
  {
   "cell_type": "markdown",
   "id": "33789cb3",
   "metadata": {
    "cell_id": "00008-3bfb56c3-de83-4bea-ba74-2afae966c27e",
    "deepnote_cell_type": "markdown",
    "tags": []
   },
   "source": [
    "### Úkol 2\n",
    "(1b) **Pro každou skupinu zvlášť odhadněte hustotu a distribuční funkci pomocí histogramu a empirické distribuční funkce.**\n",
    "\n",
    "Pro vykreslení grafů jsme využili vizualizační knihovnu [seaborn](https://seaborn.pydata.org/). Počet přihrádek u histogramů jsme odhadli experimentálně."
   ]
  },
  {
   "cell_type": "markdown",
   "id": "b4af91f1-3020-4b07-a8b9-c2754b025f42",
   "metadata": {},
   "source": [
    "#### Vietnam group"
   ]
  },
  {
   "cell_type": "code",
   "execution_count": 57,
   "id": "9b6af5e6-5d06-4cee-84af-24093b80d3a1",
   "metadata": {},
   "outputs": [
    {
     "data": {
      "image/png": "[encoded data removed]",
      "text/plain": [
       "<Figure size 1440x360 with 3 Axes>"
      ]
     },
     "metadata": {
      "needs_background": "light"
     },
     "output_type": "display_data"
    }
   ],
   "source": [
    "### vietnam group - histogram, distribution function, density\n",
    "\n",
    "fig, (ax1, ax2, ax3) = plt.subplots(\n",
    "    ncols=3,\n",
    "    sharex=True,\n",
    "    figsize=(20, 5)\n",
    ")\n",
    "ax1 = sb.histplot(\n",
    "    data=data_vietnam,\n",
    "    bins=20,\n",
    "    stat=\"density\",\n",
    "    ax=ax1\n",
    ")\n",
    "ax2 = sb.ecdfplot(\n",
    "    data=data_vietnam,\n",
    "    ax=ax2\n",
    ")\n",
    "ax3 = sb.kdeplot(\n",
    "    data=data_vietnam,\n",
    "    bw_adjust=.75,\n",
    "    ax=ax3\n",
    ")\n",
    "ax1 = ax1.set(\n",
    "    title=\"Vietnam group - Histogram\",\n",
    "    xlabel=\"Dioxin concentration\"\n",
    ")\n",
    "ax2 = ax2.set(\n",
    "    title=\"Vietnam group - empirical distribution function\",\n",
    "    xlabel=\"Dioxin concentration\",\n",
    "    ylabel=\"Fn(x)\"\n",
    ")\n",
    "ax3 = ax3.set(\n",
    "    title=\"Vietnam group - density\",\n",
    "    xlabel=\"Dioxin concentration\"\n",
    ")"
   ]
  },
  {
   "cell_type": "markdown",
   "id": "1d3a62f6-eac2-46a8-83af-1a490b4d559e",
   "metadata": {},
   "source": [
    "#### Other group"
   ]
  },
  {
   "cell_type": "code",
   "execution_count": 38,
   "id": "b07dcb00-b496-4e7f-b190-786f309ae582",
   "metadata": {},
   "outputs": [
    {
     "data": {
      "image/png": "[encoded data removed]",
      "text/plain": [
       "<Figure size 1440x360 with 3 Axes>"
      ]
     },
     "metadata": {
      "needs_background": "light"
     },
     "output_type": "display_data"
    }
   ],
   "source": [
    "### other group - histogram, distribution function, density\n",
    "\n",
    "fig, (ax1, ax2, ax3) = plt.subplots(\n",
    "    ncols=3,\n",
    "    sharex=True,\n",
    "    figsize=(20, 5)\n",
    ")\n",
    "ax1 = sb.histplot(\n",
    "    data=data_other,\n",
    "    bins=20,\n",
    "    stat=\"density\",\n",
    "    ax=ax1\n",
    ")\n",
    "ax2 = sb.ecdfplot(\n",
    "    data=data_other,\n",
    "    ax=ax2\n",
    ")\n",
    "ax3 = sb.kdeplot(\n",
    "    data=data_other,\n",
    "    bw_adjust=.75,\n",
    "    ax=ax3\n",
    ")\n",
    "ax1 = ax1.set(\n",
    "    title=\"Other group - Histogram\",\n",
    "    xlabel=\"Dioxin concentration\"\n",
    ")\n",
    "ax2 = ax2.set(\n",
    "    title=\"Other group - empirical distribution function\",\n",
    "    xlabel=\"Dioxin concentration\",\n",
    "    ylabel=\"Fn(x)\"\n",
    ")\n",
    "ax3 = ax3.set(\n",
    "    title=\"Other group - density\",\n",
    "    xlabel=\"Dioxin concentration\"\n",
    ")"
   ]
  },
  {
   "cell_type": "markdown",
   "id": "ed25ed3a",
   "metadata": {
    "cell_id": "00015-6957a0a0-e3a5-4ac3-a32d-bd1ec8bfea62",
    "deepnote_cell_type": "markdown",
    "tags": []
   },
   "source": [
    "### Úkol 3\n",
    "(3b) **Pro každou skupinu zvlášť najděte nejbližší rozdělení: Odhadněte parametry normálního, exponenciálního a rovnoměrného rozdělení. Zaneste příslušné hustoty s odhadnutými parametry do grafů histogramu. Diskutujte, které z rozdělení odpovídá pozorovaným datům nejlépe.**\n",
    "\n",
    "#### Odhad parametrů\n",
    "Pro odhad parametrů jednotlivých rozdělení jsme využili knihovnu [scipy](https://scipy.org/) a příslušné třídy pro daná rozdělení. Konkrétně využíváme metodu [fit](https://docs.scipy.org/doc/scipy/reference/generated/scipy.stats.rv_continuous.fit.html#scipy.stats.rv_continuous.fit), která se snaží najít nejpřesnější odhad daného rozdělení pro poskytnutá data a vrátí nám příslušné parametry daného rozdělení. K odhadu těchto parametrů můžeme využít buďto metodu MLE (Maximum Likelihood Estimate), nebo MM (Method of Moments), přičemž my jsme pro naše řešení zvolili metodu MLE."
   ]
  },
  {
   "cell_type": "markdown",
   "id": "510d4fac-d5ad-4028-937a-b706fa1a5e6a",
   "metadata": {},
   "source": [
    "#### Vietnam group"
   ]
  },
  {
   "cell_type": "code",
   "execution_count": 7,
   "id": "b0da0566",
   "metadata": {
    "cell_id": "00016-9890034d-a120-435c-aa55-09ae2fb4704d",
    "deepnote_cell_type": "code",
    "deepnote_to_be_reexecuted": false,
    "execution_millis": 10510635,
    "execution_start": 1638742755942,
    "source_hash": "a61d183e"
   },
   "outputs": [
    {
     "name": "stdout",
     "output_type": "stream",
     "text": [
      "Vietnam group - estimated distribution parameters\n",
      ">>> Normal distribution -> 𝝁 = 4.260061919504644, 𝛔 = 6.9726154760421375\n",
      ">>> Exponential distribution -> 𝛌 = 0.23473837209302323\n",
      ">>> Uniform distribution -> 𝐚 = 0.0, 𝐛 = 45.0\n"
     ]
    }
   ],
   "source": [
    "### vietnam group - estimated distribution parameters\n",
    "\n",
    "viet_norm_distr_expected_value, viet_norm_distr_std_deviance = norm.fit(data_vietnam.Dioxin, method=\"MLE\")\n",
    "viet_expon_distr_expected_value, viet_expon_distr_std_deviance = expon.fit(data_vietnam.Dioxin, floc=0, method=\"MLE\")\n",
    "viet_uniform_distr_a, viet_uniform_distr_b = uniform.fit(data_vietnam.Dioxin, method=\"MLE\")\n",
    "\n",
    "print(\"Vietnam group - estimated distribution parameters\")\n",
    "print(\">>> Normal distribution -> 𝝁 = {}, 𝛔 = {}\".format(\n",
    "    viet_norm_distr_expected_value,\n",
    "    viet_norm_distr_std_deviance ** 2\n",
    "))\n",
    "print(\">>> Exponential distribution -> 𝛌 = {}\".format(\n",
    "    1 / viet_expon_distr_std_deviance\n",
    "))\n",
    "print(\">>> Uniform distribution -> 𝐚 = {}, 𝐛 = {}\".format(\n",
    "    viet_uniform_distr_a,\n",
    "    viet_uniform_distr_a + viet_uniform_distr_b\n",
    "))"
   ]
  },
  {
   "cell_type": "code",
   "execution_count": 45,
   "id": "bd3bca2d",
   "metadata": {
    "cell_id": "00017-323e80d5-5e20-4d80-89b1-f9557fdbebb5",
    "deepnote_cell_type": "code",
    "deepnote_output_heights": [
     577,
     577
    ],
    "deepnote_to_be_reexecuted": false,
    "execution_millis": 506,
    "execution_start": 1638742755993,
    "source_hash": "c19b7f6d"
   },
   "outputs": [
    {
     "data": {
      "image/png": "[encoded data removed]",
      "text/plain": [
       "<Figure size 720x720 with 1 Axes>"
      ]
     },
     "metadata": {
      "needs_background": "light"
     },
     "output_type": "display_data"
    }
   ],
   "source": [
    "### vietnam group - distributions density visualization\n",
    "\n",
    "fig, ax = plt.subplots(figsize=(10, 10))\n",
    "sb.histplot(\n",
    "    data=data_vietnam,\n",
    "    bins=20,\n",
    "    stat=\"density\",\n",
    "    kde=False\n",
    ")\n",
    "_, xmax = plt.xlim()\n",
    "x_axis_values = np.linspace(0, xmax, 100)\n",
    "norm_distr_pdf = norm.pdf(x_axis_values, viet_norm_distr_expected_value, viet_norm_distr_std_deviance)\n",
    "expon_distr_pdf = expon.pdf(x_axis_values, viet_expon_distr_expected_value, viet_expon_distr_std_deviance)\n",
    "uniform_distr_pdf = uniform.pdf(x_axis_values, viet_uniform_distr_a, viet_uniform_distr_b)\n",
    "sb.lineplot(x=x_axis_values, y=norm_distr_pdf, color=\"#d9ad8e\", linewidth=3)\n",
    "sb.lineplot(x=x_axis_values, y=expon_distr_pdf, color=\"#d9d38e\", linewidth=3)\n",
    "sb.lineplot(x=x_axis_values, y=uniform_distr_pdf, color=\"#d98e95\", linewidth=3)\n",
    "plt.show()"
   ]
  },
  {
   "cell_type": "markdown",
   "id": "dccd4c9e-3969-4b6d-97ed-70a426f5e380",
   "metadata": {},
   "source": [
    "#### Diskuze\n",
    "\n",
    "Odhadli jsme parametry pro jednotlivá rozdělení a příslušné hustoty jsme zanesli do grafu histogramu. Z výše uvedeného grafu je na první pohled zřejmé, že uniformní rozdělení našim pozorovaným datům neodpovídá, jelikož data ani zdaleka nejsou na daném intervalu rozložena rovnoměrně. Zbývá tedy rozhodnout mezi exponenciálním a normálním rozdělením. Po krátkém zkoumání jsme došli k závěru, že naše pozorovaná data nejvíce odpovídají normálnímu rozdělení, exponenciální rozdělení jsme vyloučili z toho důvodu, že zřejmě v prvním sloupci našeho histogramu je výrazně méně dat než ve sloupci vpravo od něj, což neodpovídá exponenciálnímu rozdělení, a naopak data relativně dobře odpovídají normálnímu rozdělení a proto jsme normální rozdělení zvolili za nejbližší odhad pro naše pozorovaná data."
   ]
  },
  {
   "cell_type": "markdown",
   "id": "04719214-af39-4fbe-ad24-eb1279748ef3",
   "metadata": {},
   "source": [
    "#### Other group"
   ]
  },
  {
   "cell_type": "code",
   "execution_count": 9,
   "id": "a4f45e23",
   "metadata": {
    "cell_id": "00018-f03dc68e-43bf-4b04-8ecd-7f5bce36d5dc",
    "deepnote_cell_type": "code",
    "deepnote_to_be_reexecuted": false,
    "execution_millis": 11,
    "execution_start": 1638742756490,
    "source_hash": "201ef167"
   },
   "outputs": [
    {
     "name": "stdout",
     "output_type": "stream",
     "text": [
      "Other group - estimated distribution parameters\n",
      ">>> Normal distribution -> 𝝁 = 4.185567010309279, 𝛔 = 2.2899596940009213\n",
      ">>> Exponential distribution -> 𝛌 = 0.23891625615763545\n",
      ">>> Uniform distribution -> 𝐚 = 0.0, 𝐛 = 15.0\n"
     ]
    }
   ],
   "source": [
    "### other group - estimated distribution parameters\n",
    "\n",
    "other_norm_distr_expected_value, other_norm_distr_std_deviance = norm.fit(data_other.Dioxin, method=\"MLE\")\n",
    "other_expon_distr_expected_value, other_expon_distr_std_deviance = expon.fit(data_other.Dioxin, method=\"MLE\")\n",
    "other_uniform_distr_a, other_uniform_distr_b = uniform.fit(data_other.Dioxin, method=\"MLE\") \n",
    "\n",
    "print(\"Other group - estimated distribution parameters\")\n",
    "print(\">>> Normal distribution -> 𝝁 = {}, 𝛔 = {}\".format(\n",
    "    other_norm_distr_expected_value,\n",
    "    other_norm_distr_std_deviance\n",
    "))\n",
    "print(\">>> Exponential distribution -> 𝛌 = {}\".format(\n",
    "    1 / other_expon_distr_std_deviance\n",
    "))\n",
    "print(\">>> Uniform distribution -> 𝐚 = {}, 𝐛 = {}\".format(\n",
    "    other_uniform_distr_a,\n",
    "    other_uniform_distr_a + other_uniform_distr_b\n",
    "))"
   ]
  },
  {
   "cell_type": "code",
   "execution_count": 46,
   "id": "85633a68",
   "metadata": {
    "cell_id": "00019-256435bf-6e5c-4bad-9110-89fc6ce3c75c",
    "deepnote_cell_type": "code",
    "deepnote_output_heights": [
     577
    ],
    "deepnote_to_be_reexecuted": false,
    "execution_millis": 483,
    "execution_start": 1638742756533,
    "source_hash": "e6d2c3e2"
   },
   "outputs": [
    {
     "data": {
      "image/png": "[encoded data removed]",
      "text/plain": [
       "<Figure size 720x720 with 1 Axes>"
      ]
     },
     "metadata": {
      "needs_background": "light"
     },
     "output_type": "display_data"
    }
   ],
   "source": [
    "### other group - distributions density visualization\n",
    "\n",
    "fig, ax = plt.subplots(figsize=(10, 10))\n",
    "sb.histplot(\n",
    "    data=data_other,\n",
    "    bins=20,\n",
    "    stat=\"density\",\n",
    "    kde=False\n",
    ")\n",
    "_, xmax = plt.xlim()\n",
    "x_axis_values = np.linspace(0, xmax, 100)\n",
    "norm_distr_pdf = norm.pdf(x_axis_values, other_norm_distr_expected_value, other_norm_distr_std_deviance)\n",
    "expon_distr_pdf = expon.pdf(x_axis_values, other_expon_distr_expected_value, other_expon_distr_std_deviance)\n",
    "uniform_distr_pdf = uniform.pdf(x_axis_values, other_uniform_distr_a, other_uniform_distr_b)\n",
    "sb.lineplot(x=x_axis_values, y=norm_distr_pdf, color=\"#d9ad8e\", linewidth=3)\n",
    "sb.lineplot(x=x_axis_values, y=expon_distr_pdf, color=\"#d9d38e\", linewidth=3)\n",
    "sb.lineplot(x=x_axis_values, y=uniform_distr_pdf, color=\"#d98e95\", linewidth=3)\n",
    "plt.show()"
   ]
  },
  {
   "cell_type": "markdown",
   "id": "3afe32e6-900c-4c71-a25e-ff85c1530e00",
   "metadata": {},
   "source": [
    "#### Diskuze\n",
    "\n",
    "Odhadli jsme parametry pro jednotlivá rozdělení a příslušné hustoty jsme zanesli do grafu histogramu. Na základě výše uvedené vizualizace jsme i zde odhadli, že pozorovaná data nejvíce odpovídají normálnímu rozdělení, zde je navíc situace poměrně zřejmá."
   ]
  },
  {
   "cell_type": "markdown",
   "id": "ad255712",
   "metadata": {
    "cell_id": "00020-b8a4a0ac-05d8-4144-b569-c88bd514f9a3",
    "deepnote_cell_type": "markdown",
    "tags": []
   },
   "source": [
    "### Úkol 4\n",
    "(1b) **Pro každou skupinu zvlášť vygenerujte náhodný výběr o 100 hodnotách z rozdělení, které jste zvolili jako nejbližší, s parametry odhadnutými v předchozím bodě. Porovnejte histogram simulovaných hodnot s pozorovanými daty.**\n",
    "\n",
    "#### Generování náhodného výběru\n",
    "Jelikož jsme v předchozím úkolu pro obě skupiny vybrali jako nejbližší rozdělení normální rozdělení, použili jsme pro generování náhodného výběru pro obě skupiny metodu [random.normal](https://numpy.org/doc/1.21/reference/random/generated/numpy.random.normal.html) z knihovny [NumPy](https://numpy.org/doc/1.21/index.html#). K tomu nám stačily v předchozím úkolu odhadnuté parametry střední hodnota a standardní odchylka pozorovaných dat."
   ]
  },
  {
   "cell_type": "markdown",
   "id": "788b2a21-ef8c-485a-a90c-6f779abeb1f2",
   "metadata": {},
   "source": [
    "#### Vietnam group"
   ]
  },
  {
   "cell_type": "code",
   "execution_count": 51,
   "id": "ddf565ae-fe50-44c5-81c5-441e71f6f432",
   "metadata": {},
   "outputs": [
    {
     "data": {
      "image/png": "[encoded data removed]",
      "text/plain": [
       "<Figure size 1080x360 with 2 Axes>"
      ]
     },
     "metadata": {
      "needs_background": "light"
     },
     "output_type": "display_data"
    }
   ],
   "source": [
    "### vietnam group - data comparison\n",
    "\n",
    "data_vietnam_simulated = np.random.normal(\n",
    "    loc=viet_norm_distr_expected_value,\n",
    "    scale=viet_norm_distr_std_deviance,\n",
    "    size=100\n",
    ")\n",
    "\n",
    "fig, (ax1, ax2) = plt.subplots(\n",
    "    ncols=2,\n",
    "    sharex=True,\n",
    "    sharey=True,\n",
    "    figsize=(15, 5)\n",
    ")\n",
    "ax1 = sb.histplot(\n",
    "    data_vietnam,\n",
    "    bins=20,\n",
    "    stat=\"density\",\n",
    "    kde=True,\n",
    "    ax=ax1,\n",
    "    legend=False\n",
    ")\n",
    "ax2 = sb.histplot(\n",
    "    data_vietnam_simulated,\n",
    "    bins=5,\n",
    "    stat=\"density\",\n",
    "    kde=True,\n",
    "    ax=ax2\n",
    ")\n",
    "ax1 = ax1.set(\n",
    "    title=\"Vietnam group - Histogram\",\n",
    "    xlabel=\"Dioxin concentration\"\n",
    ")\n",
    "ax2 = ax2.set(\n",
    "    title=\"Normal distribution with estimated parameters - Histogram\",\n",
    "    xlabel=\"Dioxin concentration\"\n",
    ")"
   ]
  },
  {
   "cell_type": "markdown",
   "id": "cf624594-9ad7-4e54-819f-c2d20469343e",
   "metadata": {},
   "source": [
    "#### Diskuze\n",
    "\n",
    "Generovaný vzorek je poměrně malý, proto takto odhadnutý vzorek dat neodpovídá pozorovaným datům úplně přesně, což je ovšem vzhledem k velikosti obou vzorků očekávatelné."
   ]
  },
  {
   "cell_type": "markdown",
   "id": "6b2ed81d-1ea7-4105-9b39-75db5166c2a4",
   "metadata": {},
   "source": [
    "#### Other group"
   ]
  },
  {
   "cell_type": "code",
   "execution_count": 53,
   "id": "813f0204-916f-47c8-9fb7-fb5b13196b63",
   "metadata": {},
   "outputs": [
    {
     "data": {
      "image/png": "[encoded data removed]",
      "text/plain": [
       "<Figure size 1080x360 with 2 Axes>"
      ]
     },
     "metadata": {
      "needs_background": "light"
     },
     "output_type": "display_data"
    }
   ],
   "source": [
    "### other group - data comparison\n",
    "\n",
    "data_other_simulated = np.random.normal(\n",
    "    loc=other_norm_distr_expected_value,\n",
    "    scale=other_norm_distr_std_deviance,\n",
    "    size=100\n",
    ")\n",
    "\n",
    "fig, (ax1, ax2) = plt.subplots(\n",
    "    ncols=2,\n",
    "    sharex=True,\n",
    "    sharey=True,\n",
    "    figsize=(15, 5)\n",
    ")\n",
    "ax1 = sb.histplot(\n",
    "    data_other,\n",
    "    bins=20,\n",
    "    stat=\"density\",\n",
    "    kde=True,\n",
    "    ax=ax1,\n",
    "    legend=False\n",
    ")\n",
    "ax2 = sb.histplot(\n",
    "    data_other_simulated,\n",
    "    bins=20,\n",
    "    stat=\"density\",\n",
    "    kde=True,\n",
    "    ax=ax2\n",
    ")\n",
    "ax1 = ax1.set(\n",
    "    title=\"Other group - Histogram\",\n",
    "    xlabel=\"Dioxin concentration\"\n",
    ")\n",
    "ax2 = ax2.set(\n",
    "    title=\"Normal distribution with estimated parameters - Histogram\",\n",
    "    xlabel=\"Dioxin concentration\"\n",
    ")"
   ]
  },
  {
   "cell_type": "markdown",
   "id": "729d5c24-5a71-43ef-82b7-dc4500bf3220",
   "metadata": {},
   "source": [
    "#### Diskuze\n",
    "\n",
    " U druhé skupiny je situace lepší, přestože vzorek původních pozorovaných dat je ještě daleko menší, než u první skupiny. Zde ovšem původní data více odpovídají normálnímu rozdělení s danými parametry a proto i náhodně vygenerovaná data s parametry daného normálního rozdělení původním datům lépe odpovídá."
   ]
  },
  {
   "cell_type": "markdown",
   "id": "22e7b88b",
   "metadata": {
    "cell_id": "00023-9f3f03c7-ca25-4e79-8f48-e0941d9996e8",
    "deepnote_cell_type": "markdown",
    "tags": []
   },
   "source": [
    "### Úkol 5\n",
    "(1b) **Pro každou skupinu zvlášť spočítejte oboustranný 95% konfidenční interval pro střední hodnotu.**\n",
    "\n",
    "Oboustranný intervalový odhad pro střední hodnotu normálního rozdělení s neznámým rozptylem nalezneme pomocí kritických hodnot Studentova t-rozdělení. Využíjeme následující vzorec z přednášky:  \n",
    "$$\\large (L, U) = (\\overline{X}_{n} - t_{\\frac{\\alpha}{2}, n-1} \\frac{s_{n}}{\\sqrt{n}}, \\overline{X}_{n} + t_{\\frac{\\alpha}{2}, n-1} \\frac{s_{n}}{\\sqrt{n}})$$\n",
    "Chceme 95% interval, tedy:\n",
    "$$\\large 1 - \\alpha = 0.95, $$\n",
    "$$\\large \\alpha = 0.05, $$\n",
    "$$\\large \\frac{\\alpha}{2} = 0.025 $$\n",
    "Kritickou hodnotu $ t_{0.025, n-1} $ nalezneme pomocí funkce [students_t_distr.ppf](https://docs.scipy.org/doc/scipy/reference/generated/scipy.stats.t.html) z balíčku SciPy, kde za n-1 dosadíme příslušný stupeň volnosti. Dále spočítáme hodnoty výběrového průměru a odmocninu z výběrového rozptylu. Po dosazení do vzorce dostaneme příslušný oboustranný konfidenční interval."
   ]
  },
  {
   "cell_type": "code",
   "execution_count": 62,
   "id": "da487e1d",
   "metadata": {
    "cell_id": "00024-8158697b-03f6-4509-af78-23492816bd1f",
    "deepnote_cell_type": "code",
    "deepnote_output_heights": [
     21.1875
    ],
    "deepnote_to_be_reexecuted": false,
    "execution_millis": 9,
    "execution_start": 1638742757998,
    "source_hash": "982f7adf",
    "tags": []
   },
   "outputs": [
    {
     "name": "stdout",
     "output_type": "stream",
     "text": [
      ">>> (L, U) = (4.05589668169332, 4.464227157315968)\n"
     ]
    }
   ],
   "source": [
    "### vietnam group - 95% confidence interval for expected value\n",
    "\n",
    "mean = data_vietnam.Dioxin.mean()\n",
    "std = data_vietnam.Dioxin.std()\n",
    "count = data_vietnam.Dioxin.count()\n",
    "t = students_t_distr.ppf(q=1-0.025, df=count-1)\n",
    "L_viet = mean - t * std / math.sqrt(count)\n",
    "U_viet = mean + t * std / math.sqrt(count)\n",
    "print(\">>> (L, U) = ({}, {})\".format(L_viet, U_viet))"
   ]
  },
  {
   "cell_type": "code",
   "execution_count": 63,
   "id": "64c0ae17",
   "metadata": {
    "cell_id": "00024-bf7eee07-85b0-4572-b2ec-3a20cac08f29",
    "deepnote_cell_type": "code",
    "deepnote_to_be_reexecuted": false,
    "execution_millis": 1,
    "execution_start": 1638742757999,
    "source_hash": "1639d54c",
    "tags": []
   },
   "outputs": [
    {
     "name": "stdout",
     "output_type": "stream",
     "text": [
      ">>> (L, U) = (3.721640382345717, 4.64949363827284)\n"
     ]
    }
   ],
   "source": [
    "### other group - 95% confidence interval for expected value\n",
    "\n",
    "mean = data_other.Dioxin.mean()\n",
    "std = data_other.Dioxin.std()\n",
    "count = data_other.Dioxin.count()\n",
    "t = students_t_distr.ppf(q=1-0.025, df=count-1)\n",
    "L_other = mean - t * std / math.sqrt(count)\n",
    "U_other = mean + t * std / math.sqrt(count)\n",
    "print(\">>> (L, U) = ({}, {})\".format(L_other, U_other))"
   ]
  },
  {
   "cell_type": "markdown",
   "id": "1f140171",
   "metadata": {
    "cell_id": "00025-fd50e6f2-9812-4367-8d8d-a8b6a98fd151",
    "deepnote_cell_type": "markdown",
    "tags": []
   },
   "source": [
    "### Úkol 6\n",
    "\n",
    "(1b) **Pro každou skupinu zvlášť otestujte na hladině významnosti 5 % hypotézu, zda je střední hodnota rovná hodnotě K (parametr úlohy), proti oboustranné alternativě. Můžete použít buď výsledek z předešlého bodu, nebo výstup z příslušné vestavěné funkce vašeho softwaru.**\n",
    "\n",
    "**FIXME:** Selecth method (scipy 1samp_ttest vs. using confidence interval from task 5) and discuss results"
   ]
  },
  {
   "cell_type": "code",
   "execution_count": 15,
   "id": "1a89ec8f",
   "metadata": {
    "cell_id": "00026-fed6ca3f-02e2-4430-9a1b-42859180dc66",
    "deepnote_cell_type": "code",
    "deepnote_to_be_reexecuted": false,
    "execution_millis": 16,
    "execution_start": 1638743522846,
    "source_hash": "585e0a30",
    "tags": []
   },
   "outputs": [
    {
     "name": "stdout",
     "output_type": "stream",
     "text": [
      ">>> -103.29606486224891, 0.0\n"
     ]
    }
   ],
   "source": [
    "### vietnam_group\n",
    "\n",
    "K = 15\n",
    "alpha = 0.05\n",
    "viet_statistic, viet_pvalue = ttest_1samp(data_vietnam.Dioxin, K, alternative=\"two-sided\")\n",
    "print(\">>> {}, {}\".format(viet_statistic, viet_pvalue))\n",
    "\n",
    "### Testujeme hypotézu o střední hodnotě normálního rozdělení proti oboustranné alternativě, tedy\n",
    "### H0 : 𝝁 = K proti HA : 𝝁 != K\n",
    "### Potřebujeme tedy oboustranný (1 - α)% interval spolehlivosti.\n",
    "### Rozptyl rozdělení je neznámý, tedy interval sestavíme pomocí Studentova rozdělení.\n",
    "### Tento interval jsme ovšem spočítali v minulém úkolu a tedy dostáváme interval\n",
    "### (L, U) = (3.721640382345717, 4.64949363827284)\n",
    "### Pokud testovanou hodnotu K interval pokrývá, hypotézu H0 tedy na hladině významnosti 5% nezamítáme.\n",
    "### V opačném případě hypotézu H0 zamítneme a přijmeme alternativní hypotézu HA."
   ]
  },
  {
   "cell_type": "code",
   "execution_count": 16,
   "id": "101f381d",
   "metadata": {
    "cell_id": "00027-cade4233-0abd-4b06-a974-da665d152005",
    "deepnote_cell_type": "code",
    "deepnote_to_be_reexecuted": false,
    "execution_millis": 7,
    "execution_start": 1638743519877,
    "source_hash": "3431023f",
    "tags": []
   },
   "outputs": [
    {
     "name": "stdout",
     "output_type": "stream",
     "text": [
      ">>> -46.27128198222826, 1.9220186618312877e-67\n"
     ]
    }
   ],
   "source": [
    "### other group\n",
    "\n",
    "K = 15\n",
    "alpha = 0.05\n",
    "other_statistic, other_pvalue = ttest_1samp(data_other.Dioxin, K)\n",
    "print(\">>> {}, {}\".format(other_statistic, other_pvalue))\n",
    "\n",
    "### Testujeme hypotézu o střední hodnotě normálního rozdělení proti oboustranné alternativě, tedy\n",
    "### H0 : 𝝁 = K proti HA : 𝝁 != K\n",
    "### Potřebujeme tedy oboustranný (1 - α)% interval spolehlivosti.\n",
    "### Rozptyl rozdělení je neznámý, tedy interval sestavíme pomocí Studentova rozdělení.\n",
    "### Tento interval jsme ovšem spočítali v minulém úkolu a tedy dostáváme interval\n",
    "### (L, U) = (3.721640382345717, 4.64949363827284)\n",
    "### Pokud testovanou hodnotu K interval pokrývá, hypotézu H0 tedy na hladině významnosti 5% nezamítáme.\n",
    "### V opačném případě hypotézu H0 zamítneme a přijmeme alternativní hypotézu HA."
   ]
  },
  {
   "cell_type": "markdown",
   "id": "43ef1bf8-bd92-409e-b0ab-ce85f82832e4",
   "metadata": {
    "tags": []
   },
   "source": [
    "### Úkol 7\n",
    "(2b) **Na hladině významnosti 5 % otestujte, jestli mají pozorované skupiny stejnou střední hodnotu. Typ testu a alternativy stanovte tak, aby vaše volba nejlépe korespondovala s povahou zkoumaného problému.**\n",
    "\n",
    "**FIXME:** Interpret results, check if ttest_ind is valid function for this use case "
   ]
  },
  {
   "cell_type": "code",
   "execution_count": 18,
   "id": "72e3c58b-c3b1-426d-b0a5-4d7f3fd99fad",
   "metadata": {},
   "outputs": [
    {
     "name": "stdout",
     "output_type": "stream",
     "text": [
      ">>> 0.2630243111769849, 0.7926049565355645\n"
     ]
    }
   ],
   "source": [
    "alpha = 0.05\n",
    "statistic, pvalue = ttest_ind(data_vietnam.Dioxin, data_other.Dioxin)\n",
    "print(\">>> {}, {}\".format(statistic, pvalue))"
   ]
  }
 ],
 "metadata": {
  "deepnote": {},
  "deepnote_execution_queue": [],
  "deepnote_notebook_id": "b5ac4284-c61d-4b7c-add8-23b978a96304",
  "kernelspec": {
   "display_name": "Python 3",
   "language": "python",
   "name": "python3"
  },
  "language_info": {
   "codemirror_mode": {
    "name": "ipython",
    "version": 3
   },
   "file_extension": ".py",
   "mimetype": "text/x-python",
   "name": "python",
   "nbconvert_exporter": "python",
   "pygments_lexer": "ipython3",
   "version": "3.8.10"
  }
 },
 "nbformat": 4,
 "nbformat_minor": 5
}
